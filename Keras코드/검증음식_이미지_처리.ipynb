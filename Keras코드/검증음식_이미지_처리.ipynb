{
 "cells": [
  {
   "cell_type": "markdown",
   "id": "5afdd3e6",
   "metadata": {},
   "source": [
    "### 음식이미지 크기변환 및 배열 변환"
   ]
  },
  {
   "cell_type": "code",
   "execution_count": 1,
   "id": "1c48e8e3",
   "metadata": {
    "ExecuteTime": {
     "end_time": "2023-04-18T00:31:00.958330Z",
     "start_time": "2023-04-18T00:31:00.036079Z"
    }
   },
   "outputs": [],
   "source": [
    "# 사용할 라이브러리 호출하기\n",
    "import os\n",
    "import pandas as pd\n",
    "import numpy as np\n",
    "import matplotlib.pyplot as plt\n",
    "from PIL import Image"
   ]
  },
  {
   "cell_type": "code",
   "execution_count": 2,
   "id": "2eae5f46",
   "metadata": {
    "ExecuteTime": {
     "end_time": "2023-04-18T00:31:01.947599Z",
     "start_time": "2023-04-18T00:31:01.939644Z"
    }
   },
   "outputs": [],
   "source": [
    "# 데이터 셋 경로 설정\n",
    "val_rice_dir = './data/Validation/이미지/01012002'\n",
    "val_chicken_dir = './data/Validation/이미지/06012001'\n",
    "val_octopus_dir = './data/Validation/이미지/08011002'\n",
    "val_pig_dir = './data/Validation/이미지/08013001'\n",
    "val_kimchi_dir = './data/Validation/이미지/12011008'\n",
    "\n",
    "# os.listdir() : 해당 경로에 있는 파일명들을 리스트에 순서대로 저장\n",
    "val_rice_fnames = os.listdir(val_rice_dir)\n",
    "val_chicken_fnames = os.listdir(val_chicken_dir)\n",
    "val_octopus_fnames = os.listdir(val_octopus_dir)\n",
    "val_pig_fnames = os.listdir(val_pig_dir)\n",
    "val_kimchi_fnames = os.listdir(val_kimchi_dir)"
   ]
  },
  {
   "cell_type": "code",
   "execution_count": 3,
   "id": "6f0b381c",
   "metadata": {
    "ExecuteTime": {
     "end_time": "2023-04-18T00:31:05.530153Z",
     "start_time": "2023-04-18T00:31:05.514528Z"
    }
   },
   "outputs": [
    {
     "name": "stdout",
     "output_type": "stream",
     "text": [
      "205\n",
      "184\n",
      "225\n",
      "182\n",
      "188\n"
     ]
    }
   ],
   "source": [
    "# 확인\n",
    "print(len(val_rice_fnames))\n",
    "print(len(val_chicken_fnames))\n",
    "print(len(val_octopus_fnames))\n",
    "print(len(val_pig_fnames))\n",
    "print(len(val_kimchi_fnames))"
   ]
  },
  {
   "cell_type": "code",
   "execution_count": 4,
   "id": "e78e023a",
   "metadata": {
    "ExecuteTime": {
     "end_time": "2023-04-18T00:31:42.882212Z",
     "start_time": "2023-04-18T00:31:42.876228Z"
    }
   },
   "outputs": [],
   "source": [
    "# 전체 이미지 파일 전처리 진행하는 함수 생성\n",
    "# 1. 이미지 크기 변환 2. 배열 변환 3. imges 리스트 저장 -> array\n",
    "def load_images(folder_path, file_names, img_size_shape = (224,224)):\n",
    "    images = []\n",
    "    for i in file_names: # i => 파일 이름\n",
    "        # 폴더명 + 파일명 합치기\n",
    "        path = os.path.join(folder_path, i) # 이미지 한장에 접근\n",
    "        # 이미지 파일 열기, 크기조정\n",
    "        img = Image.open(path).resize(img_size_shape)\n",
    "        # np 배열 변환, 리스트 저장\n",
    "        images.append(np.array(img))\n",
    "    return np.array(images) # 넘파이 배열로 변환하여 리턴"
   ]
  },
  {
   "cell_type": "code",
   "execution_count": 5,
   "id": "9a3b3642",
   "metadata": {
    "ExecuteTime": {
     "end_time": "2023-04-18T00:33:07.189267Z",
     "start_time": "2023-04-18T00:31:44.211675Z"
    }
   },
   "outputs": [
    {
     "name": "stdout",
     "output_type": "stream",
     "text": [
      "(205, 224, 224, 3)\n",
      "(184, 224, 224, 3)\n",
      "(225, 224, 224, 3)\n",
      "(182, 224, 224, 3)\n",
      "(188, 224, 224, 3)\n"
     ]
    }
   ],
   "source": [
    "# 각 음식 모든 이미지 처리\n",
    "X_val_rice = load_images(val_rice_dir, val_rice_fnames)\n",
    "X_val_chicken = load_images(val_chicken_dir, val_chicken_fnames)\n",
    "X_val_octopus = load_images(val_octopus_dir, val_octopus_fnames)\n",
    "X_val_pig = load_images(val_pig_dir, val_pig_fnames)\n",
    "X_val_kimchi = load_images(val_kimchi_dir, val_kimchi_fnames)\n",
    "\n",
    "print(X_val_rice.shape)\n",
    "print(X_val_chicken.shape)\n",
    "print(X_val_octopus.shape)\n",
    "print(X_val_pig.shape)\n",
    "print(X_val_kimchi.shape)"
   ]
  },
  {
   "cell_type": "code",
   "execution_count": 7,
   "id": "e800926a",
   "metadata": {
    "ExecuteTime": {
     "end_time": "2023-04-18T00:34:07.794402Z",
     "start_time": "2023-04-18T00:34:07.739532Z"
    }
   },
   "outputs": [
    {
     "name": "stdout",
     "output_type": "stream",
     "text": [
      "문제데이터 :  (984, 224, 224, 3)\n",
      "정답데이터 :  (984,)\n"
     ]
    }
   ],
   "source": [
    "# 데이터 병합\n",
    "# 음식 5종류 이미지 배열 데이터 순서대로 합쳐줌\n",
    "X_val = np.concatenate((X_val_rice,\n",
    "                          X_val_chicken,\n",
    "                          X_val_octopus,\n",
    "                          X_val_pig,\n",
    "                          X_val_kimchi))\n",
    "\n",
    "# y 답데이터 만들기 (콩밥:0, 닭갈비:1, 낙지볶음:2, 돼지고기볶음:3, 배추김치:4)\n",
    "# 205 184 225 182 188\n",
    "y_val = np.array([0]*205 + [1]*184 + [2]*225 + [3]*182 + [4]*188)\n",
    "\n",
    "print('문제데이터 : ', X_val.shape)\n",
    "print('정답데이터 : ', y_val.shape)"
   ]
  },
  {
   "cell_type": "code",
   "execution_count": 9,
   "id": "62113a24",
   "metadata": {
    "ExecuteTime": {
     "end_time": "2023-04-18T00:34:31.263349Z",
     "start_time": "2023-04-18T00:34:26.882513Z"
    }
   },
   "outputs": [],
   "source": [
    "# npz(넘파이 배열 압축 형식) 확장자로 저장\n",
    "np.savez_compressed('./data/food_filtered_val_224.npz', # 저장 경로 및 파일명\n",
    "                    X_val = X_val, # 훈련문제\n",
    "                    y_val = y_val) # 훈련 답"
   ]
  },
  {
   "cell_type": "code",
   "execution_count": null,
   "id": "4b07f68f",
   "metadata": {},
   "outputs": [],
   "source": []
  }
 ],
 "metadata": {
  "kernelspec": {
   "display_name": "tf_gpu",
   "language": "python",
   "name": "tf_gpu"
  },
  "language_info": {
   "codemirror_mode": {
    "name": "ipython",
    "version": 3
   },
   "file_extension": ".py",
   "mimetype": "text/x-python",
   "name": "python",
   "nbconvert_exporter": "python",
   "pygments_lexer": "ipython3",
   "version": "3.9.16"
  },
  "toc": {
   "base_numbering": 1,
   "nav_menu": {},
   "number_sections": true,
   "sideBar": true,
   "skip_h1_title": false,
   "title_cell": "Table of Contents",
   "title_sidebar": "Contents",
   "toc_cell": false,
   "toc_position": {},
   "toc_section_display": true,
   "toc_window_display": false
  },
  "varInspector": {
   "cols": {
    "lenName": 16,
    "lenType": 16,
    "lenVar": 40
   },
   "kernels_config": {
    "python": {
     "delete_cmd_postfix": "",
     "delete_cmd_prefix": "del ",
     "library": "var_list.py",
     "varRefreshCmd": "print(var_dic_list())"
    },
    "r": {
     "delete_cmd_postfix": ") ",
     "delete_cmd_prefix": "rm(",
     "library": "var_list.r",
     "varRefreshCmd": "cat(var_dic_list()) "
    }
   },
   "types_to_exclude": [
    "module",
    "function",
    "builtin_function_or_method",
    "instance",
    "_Feature"
   ],
   "window_display": false
  }
 },
 "nbformat": 4,
 "nbformat_minor": 5
}
