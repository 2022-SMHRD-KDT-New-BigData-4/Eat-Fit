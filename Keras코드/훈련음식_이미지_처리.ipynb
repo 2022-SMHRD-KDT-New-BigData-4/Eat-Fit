{
 "cells": [
  {
   "cell_type": "markdown",
   "id": "5afdd3e6",
   "metadata": {},
   "source": [
    "### 음식이미지 크기변환 및 배열 변환"
   ]
  },
  {
   "cell_type": "code",
   "execution_count": 1,
   "id": "1c48e8e3",
   "metadata": {
    "ExecuteTime": {
     "end_time": "2023-04-18T00:38:56.832349Z",
     "start_time": "2023-04-18T00:38:56.172807Z"
    }
   },
   "outputs": [],
   "source": [
    "# 사용할 라이브러리 호출하기\n",
    "import os\n",
    "import pandas as pd\n",
    "import numpy as np\n",
    "import matplotlib.pyplot as plt\n",
    "from PIL import Image"
   ]
  },
  {
   "cell_type": "code",
   "execution_count": 2,
   "id": "2eae5f46",
   "metadata": {
    "ExecuteTime": {
     "end_time": "2023-04-18T00:38:56.867744Z",
     "start_time": "2023-04-18T00:38:56.833520Z"
    }
   },
   "outputs": [],
   "source": [
    "# 데이터 셋 경로 설정\n",
    "train_rice_dir = './data/Training/이미지/01012002'\n",
    "train_chicken_dir = './data/Training/이미지/06012001'\n",
    "train_octopus_dir = './data/Training/이미지/08011002'\n",
    "train_pig_dir = './data/Training/이미지/08013001'\n",
    "train_kimchi_dir = './data/Training/이미지/12011008'\n",
    "\n",
    "# os.listdir() : 해당 경로에 있는 파일명들을 리스트에 순서대로 저장\n",
    "train_rice_fnames = os.listdir(train_rice_dir)\n",
    "train_chicken_fnames = os.listdir(train_chicken_dir)\n",
    "train_octopus_fnames = os.listdir(train_octopus_dir)\n",
    "train_pig_fnames = os.listdir(train_pig_dir)\n",
    "train_kimchi_fnames = os.listdir(train_kimchi_dir)"
   ]
  },
  {
   "cell_type": "code",
   "execution_count": 3,
   "id": "6f0b381c",
   "metadata": {
    "ExecuteTime": {
     "end_time": "2023-04-18T00:38:56.883668Z",
     "start_time": "2023-04-18T00:38:56.877686Z"
    },
    "scrolled": true
   },
   "outputs": [
    {
     "name": "stdout",
     "output_type": "stream",
     "text": [
      "1603\n",
      "1629\n",
      "1582\n",
      "1601\n",
      "1592\n"
     ]
    }
   ],
   "source": [
    "# 확인\n",
    "print(len(train_rice_fnames))\n",
    "print(len(train_chicken_fnames))\n",
    "print(len(train_octopus_fnames))\n",
    "print(len(train_pig_fnames))\n",
    "print(len(train_kimchi_fnames))"
   ]
  },
  {
   "cell_type": "code",
   "execution_count": 4,
   "id": "e78e023a",
   "metadata": {
    "ExecuteTime": {
     "end_time": "2023-04-18T00:38:56.900074Z",
     "start_time": "2023-04-18T00:38:56.884708Z"
    }
   },
   "outputs": [],
   "source": [
    "# 전체 이미지 파일 전처리 진행하는 함수 생성\n",
    "# 1. 이미지 크기 변환 2. 배열 변환 3. imges 리스트 저장 -> array\n",
    "def load_images(folder_path, file_names, img_size_shape = (224,224)):\n",
    "    images = []\n",
    "    for i in file_names: # i => 파일 이름\n",
    "        # 폴더명 + 파일명 합치기\n",
    "        path = os.path.join(folder_path, i) # 이미지 한장에 접근\n",
    "        # 이미지 파일 열기, 크기조정\n",
    "        img = Image.open(path).resize(img_size_shape)\n",
    "        # np 배열 변환, 리스트 저장\n",
    "        images.append(np.array(img))\n",
    "    return np.array(images) # 넘파이 배열로 변환하여 리턴"
   ]
  },
  {
   "cell_type": "code",
   "execution_count": 5,
   "id": "9a3b3642",
   "metadata": {
    "ExecuteTime": {
     "end_time": "2023-04-18T00:50:26.013272Z",
     "start_time": "2023-04-18T00:38:56.906062Z"
    }
   },
   "outputs": [
    {
     "name": "stdout",
     "output_type": "stream",
     "text": [
      "(1603, 224, 224, 3)\n",
      "(1629, 224, 224, 3)\n",
      "(1582, 224, 224, 3)\n",
      "(1601, 224, 224, 3)\n",
      "(1592, 224, 224, 3)\n"
     ]
    }
   ],
   "source": [
    "# 각 음식 모든 이미지 처리\n",
    "X_train_rice = load_images(train_rice_dir, train_rice_fnames)\n",
    "X_train_chicken = load_images(train_chicken_dir, train_chicken_fnames)\n",
    "X_train_octopus = load_images(train_octopus_dir, train_octopus_fnames)\n",
    "X_train_pig = load_images(train_pig_dir, train_pig_fnames)\n",
    "X_train_kimchi = load_images(train_kimchi_dir, train_kimchi_fnames)\n",
    "\n",
    "print(X_train_rice.shape)\n",
    "print(X_train_chicken.shape)\n",
    "print(X_train_octopus.shape)\n",
    "print(X_train_pig.shape)\n",
    "print(X_train_kimchi.shape)"
   ]
  },
  {
   "cell_type": "code",
   "execution_count": 6,
   "id": "e800926a",
   "metadata": {
    "ExecuteTime": {
     "end_time": "2023-04-18T00:50:26.372277Z",
     "start_time": "2023-04-18T00:50:26.014890Z"
    }
   },
   "outputs": [
    {
     "name": "stdout",
     "output_type": "stream",
     "text": [
      "문제데이터 :  (8007, 224, 224, 3)\n",
      "정답데이터 :  (8007,)\n"
     ]
    }
   ],
   "source": [
    "# 데이터 병합\n",
    "# 음식 5종류 이미지 배열 데이터 순서대로 합쳐줌\n",
    "X_train = np.concatenate((X_train_rice,\n",
    "                          X_train_chicken,\n",
    "                          X_train_octopus,\n",
    "                          X_train_pig,\n",
    "                          X_train_kimchi))\n",
    "\n",
    "# y 답데이터 만들기 (콩밥:0, 닭갈비:1, 낙지볶음:2, 돼지고기볶음:3, 배추김치:4)\n",
    "#1603 1629 1582 1601 1592\n",
    "y_train = np.array([0]*1603 + [1]*1629 + [2]*1582 + [3]*1601 + [4]*1592)\n",
    "\n",
    "print('문제데이터 : ', X_train.shape)\n",
    "print('정답데이터 : ', y_train.shape)"
   ]
  },
  {
   "cell_type": "code",
   "execution_count": 8,
   "id": "62113a24",
   "metadata": {
    "ExecuteTime": {
     "end_time": "2023-04-18T00:51:43.760387Z",
     "start_time": "2023-04-18T00:51:08.739868Z"
    }
   },
   "outputs": [],
   "source": [
    "# npz(넘파이 배열 압축 형식) 확장자로 저장\n",
    "np.savez_compressed('./data/food_filtered_train_224.npz', # 저장 경로 및 파일명\n",
    "                    X_train = X_train, # 훈련문제\n",
    "                    y_train = y_train) # 훈련 답"
   ]
  }
 ],
 "metadata": {
  "kernelspec": {
   "display_name": "tf_gpu",
   "language": "python",
   "name": "tf_gpu"
  },
  "language_info": {
   "codemirror_mode": {
    "name": "ipython",
    "version": 3
   },
   "file_extension": ".py",
   "mimetype": "text/x-python",
   "name": "python",
   "nbconvert_exporter": "python",
   "pygments_lexer": "ipython3",
   "version": "3.9.16"
  },
  "toc": {
   "base_numbering": 1,
   "nav_menu": {},
   "number_sections": true,
   "sideBar": true,
   "skip_h1_title": false,
   "title_cell": "Table of Contents",
   "title_sidebar": "Contents",
   "toc_cell": false,
   "toc_position": {},
   "toc_section_display": true,
   "toc_window_display": false
  },
  "varInspector": {
   "cols": {
    "lenName": 16,
    "lenType": 16,
    "lenVar": 40
   },
   "kernels_config": {
    "python": {
     "delete_cmd_postfix": "",
     "delete_cmd_prefix": "del ",
     "library": "var_list.py",
     "varRefreshCmd": "print(var_dic_list())"
    },
    "r": {
     "delete_cmd_postfix": ") ",
     "delete_cmd_prefix": "rm(",
     "library": "var_list.r",
     "varRefreshCmd": "cat(var_dic_list()) "
    }
   },
   "types_to_exclude": [
    "module",
    "function",
    "builtin_function_or_method",
    "instance",
    "_Feature"
   ],
   "window_display": false
  }
 },
 "nbformat": 4,
 "nbformat_minor": 5
}
