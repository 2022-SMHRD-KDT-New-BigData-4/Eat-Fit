{
 "cells": [
  {
   "cell_type": "code",
   "execution_count": 1,
   "id": "9a5450c4",
   "metadata": {
    "ExecuteTime": {
     "end_time": "2023-04-19T05:36:53.185234Z",
     "start_time": "2023-04-19T05:36:49.154677Z"
    }
   },
   "outputs": [],
   "source": [
    "# 사용할 라이브러리 호출하기\n",
    "import os\n",
    "import pandas as pd\n",
    "import numpy as np\n",
    "import matplotlib.pyplot as plt\n",
    "from PIL import Image\n",
    "from sklearn.model_selection import train_test_split\n",
    "from tensorflow.keras import Sequential\n",
    "from tensorflow.keras.layers import Dense, Flatten, InputLayer, Dropout, Conv2D, MaxPooling2D\n",
    "from tensorflow.keras.optimizers import Adam\n",
    "from tensorflow.keras.applications import VGG16\n",
    "from tensorflow.keras.callbacks import ModelCheckpoint, EarlyStopping\n",
    "from tensorflow.keras.models import load_model # 모델 불러오는 기능"
   ]
  },
  {
   "cell_type": "code",
   "execution_count": 2,
   "id": "33ee44ba",
   "metadata": {
    "ExecuteTime": {
     "end_time": "2023-04-19T05:36:53.206678Z",
     "start_time": "2023-04-19T05:36:53.186594Z"
    }
   },
   "outputs": [],
   "source": [
    "# 테스트 데이터 불러오기\n",
    "val = np.load('./data/food_filtered_val_224.npz')"
   ]
  },
  {
   "cell_type": "code",
   "execution_count": 3,
   "id": "ce0ef9ef",
   "metadata": {
    "ExecuteTime": {
     "end_time": "2023-04-19T05:36:53.998834Z",
     "start_time": "2023-04-19T05:36:53.206678Z"
    }
   },
   "outputs": [],
   "source": [
    "# 테스트 데이터 문제/정답 나누기\n",
    "X_val = val['X_val']\n",
    "y_val = val['y_val']"
   ]
  },
  {
   "cell_type": "code",
   "execution_count": 4,
   "id": "5e2723e7",
   "metadata": {
    "ExecuteTime": {
     "end_time": "2023-04-19T05:37:04.587024Z",
     "start_time": "2023-04-19T05:36:53.998834Z"
    },
    "scrolled": true
   },
   "outputs": [
    {
     "data": {
      "text/plain": [
       "array([[8.6258072e-01, 2.6009034e-02, 1.7744437e-02, 9.3665786e-02,\n",
       "        2.9594156e-08],\n",
       "       [1.0000000e+00, 9.6789217e-12, 3.1001039e-11, 3.5891641e-12,\n",
       "        6.0522846e-19],\n",
       "       [9.9991763e-01, 8.2153449e-05, 6.2377292e-10, 2.1636799e-07,\n",
       "        3.2854146e-11],\n",
       "       ...,\n",
       "       [3.9533066e-17, 1.6812659e-04, 6.9765953e-09, 3.4338283e-09,\n",
       "        9.9983180e-01],\n",
       "       [1.8878670e-04, 1.2660363e-01, 1.3888089e-04, 8.5312063e-01,\n",
       "        1.9948028e-02],\n",
       "       [2.9339671e-13, 5.7385145e-03, 1.0904766e-06, 3.1061903e-05,\n",
       "        9.9422932e-01]], dtype=float32)"
      ]
     },
     "execution_count": 4,
     "metadata": {},
     "output_type": "execute_result"
    }
   ],
   "source": [
    "# 모델 불러와서 예측하기\n",
    "best_model = load_model('./acc/model_vgg16/food_017_0.81.hdf5')\n",
    "pre = best_model.predict(X_val)\n",
    "pre"
   ]
  },
  {
   "cell_type": "code",
   "execution_count": 15,
   "id": "1872007a",
   "metadata": {
    "ExecuteTime": {
     "end_time": "2023-04-19T05:50:05.207053Z",
     "start_time": "2023-04-19T05:50:05.201201Z"
    }
   },
   "outputs": [
    {
     "data": {
      "text/plain": [
       "3"
      ]
     },
     "execution_count": 15,
     "metadata": {},
     "output_type": "execute_result"
    }
   ],
   "source": [
    "# np.argmax() : 요소의 숫자값이 큰 경우 해당 데이터의 인덱스 번호(위치) 변환\n",
    "np.argmax(pre[700])"
   ]
  },
  {
   "cell_type": "code",
   "execution_count": 16,
   "id": "48845d89",
   "metadata": {
    "ExecuteTime": {
     "end_time": "2023-04-19T05:50:08.144971Z",
     "start_time": "2023-04-19T05:50:08.129065Z"
    }
   },
   "outputs": [
    {
     "data": {
      "text/plain": [
       "3"
      ]
     },
     "execution_count": 16,
     "metadata": {},
     "output_type": "execute_result"
    }
   ],
   "source": [
    "y_val[700]"
   ]
  },
  {
   "cell_type": "code",
   "execution_count": 10,
   "id": "f8a10406",
   "metadata": {
    "ExecuteTime": {
     "end_time": "2023-04-19T05:40:26.526240Z",
     "start_time": "2023-04-19T05:40:24.145006Z"
    }
   },
   "outputs": [
    {
     "name": "stdout",
     "output_type": "stream",
     "text": [
      "31/31 [==============================] - 2s 73ms/step - loss: 0.8972 - accuracy: 0.8120\n"
     ]
    },
    {
     "data": {
      "text/plain": [
       "[0.8972375988960266, 0.8119918704032898]"
      ]
     },
     "execution_count": 10,
     "metadata": {},
     "output_type": "execute_result"
    }
   ],
   "source": [
    "# 평가 결과 => [loss, acc]\n",
    "best_model.evaluate(X_val, y_val)"
   ]
  }
 ],
 "metadata": {
  "kernelspec": {
   "display_name": "tf_gpu",
   "language": "python",
   "name": "tf_gpu"
  },
  "language_info": {
   "codemirror_mode": {
    "name": "ipython",
    "version": 3
   },
   "file_extension": ".py",
   "mimetype": "text/x-python",
   "name": "python",
   "nbconvert_exporter": "python",
   "pygments_lexer": "ipython3",
   "version": "3.9.16"
  },
  "toc": {
   "base_numbering": 1,
   "nav_menu": {},
   "number_sections": true,
   "sideBar": true,
   "skip_h1_title": false,
   "title_cell": "Table of Contents",
   "title_sidebar": "Contents",
   "toc_cell": false,
   "toc_position": {},
   "toc_section_display": true,
   "toc_window_display": false
  },
  "varInspector": {
   "cols": {
    "lenName": 16,
    "lenType": 16,
    "lenVar": 40
   },
   "kernels_config": {
    "python": {
     "delete_cmd_postfix": "",
     "delete_cmd_prefix": "del ",
     "library": "var_list.py",
     "varRefreshCmd": "print(var_dic_list())"
    },
    "r": {
     "delete_cmd_postfix": ") ",
     "delete_cmd_prefix": "rm(",
     "library": "var_list.r",
     "varRefreshCmd": "cat(var_dic_list()) "
    }
   },
   "types_to_exclude": [
    "module",
    "function",
    "builtin_function_or_method",
    "instance",
    "_Feature"
   ],
   "window_display": false
  }
 },
 "nbformat": 4,
 "nbformat_minor": 5
}
