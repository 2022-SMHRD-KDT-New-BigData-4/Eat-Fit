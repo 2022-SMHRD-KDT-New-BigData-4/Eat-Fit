{
 "cells": [
  {
   "cell_type": "code",
   "execution_count": 1,
   "id": "d751c1e3",
   "metadata": {
    "ExecuteTime": {
     "end_time": "2023-05-01T07:06:05.456040Z",
     "start_time": "2023-05-01T07:06:02.284438Z"
    },
    "collapsed": true
   },
   "outputs": [
    {
     "name": "stdout",
     "output_type": "stream",
     "text": [
      "Collecting flask_cors\n",
      "  Downloading Flask_Cors-3.0.10-py2.py3-none-any.whl (14 kB)\n",
      "Requirement already satisfied: Flask>=0.9 in c:\\users\\smhrd\\anaconda3\\lib\\site-packages (from flask_cors) (1.1.2)\n",
      "Requirement already satisfied: Six in c:\\users\\smhrd\\anaconda3\\lib\\site-packages (from flask_cors) (1.16.0)\n",
      "Requirement already satisfied: click>=5.1 in c:\\users\\smhrd\\anaconda3\\lib\\site-packages (from Flask>=0.9->flask_cors) (8.0.4)\n",
      "Requirement already satisfied: Jinja2>=2.10.1 in c:\\users\\smhrd\\anaconda3\\lib\\site-packages (from Flask>=0.9->flask_cors) (2.11.3)\n",
      "Requirement already satisfied: Werkzeug>=0.15 in c:\\users\\smhrd\\anaconda3\\lib\\site-packages (from Flask>=0.9->flask_cors) (2.0.3)\n",
      "Requirement already satisfied: itsdangerous>=0.24 in c:\\users\\smhrd\\anaconda3\\lib\\site-packages (from Flask>=0.9->flask_cors) (2.0.1)\n",
      "Requirement already satisfied: colorama in c:\\users\\smhrd\\anaconda3\\lib\\site-packages (from click>=5.1->Flask>=0.9->flask_cors) (0.4.5)\n",
      "Requirement already satisfied: MarkupSafe>=0.23 in c:\\users\\smhrd\\anaconda3\\lib\\site-packages (from Jinja2>=2.10.1->Flask>=0.9->flask_cors) (2.0.1)\n",
      "Installing collected packages: flask_cors\n",
      "Successfully installed flask_cors-3.0.10\n"
     ]
    }
   ],
   "source": [
    "#!pip install flask\n",
    "#!pip install flask_cors"
   ]
  },
  {
   "cell_type": "code",
   "execution_count": 1,
   "id": "1a45907a",
   "metadata": {
    "ExecuteTime": {
     "end_time": "2023-05-02T07:05:07.698216Z",
     "start_time": "2023-05-02T07:05:07.569890Z"
    }
   },
   "outputs": [],
   "source": [
    "# 서버를 구동시키는 Flask 객체를 생성하는데 필요\n",
    "from flask import Flask\n",
    "# 요청과 응답을 처리할 request 와 페이지 이동을 시켜줄 redirect 임포트\n",
    "from flask import request, redirect\n",
    "# Ajax 사용시 발생할 수 있는 동일출처 Error를 해결하기 위해 필요\n",
    "from flask_cors import CORS"
   ]
  },
  {
   "cell_type": "code",
   "execution_count": 2,
   "id": "230c6dcb",
   "metadata": {
    "ExecuteTime": {
     "end_time": "2023-05-02T07:05:09.161857Z",
     "start_time": "2023-05-02T07:05:08.706887Z"
    }
   },
   "outputs": [],
   "source": [
    "# ChatGPT 라이브러리 불러오기\n",
    "import openai\n",
    "# config파일 관련 라이브러리\n",
    "import configparser\n",
    "\n",
    "# OPENAI API 키 입력\n",
    "# 키값은 따로 외부에서 불러와서 사용하는게 좋음\n",
    "# 직접 입력하고 깃에 올릴시 키값이 만료된다고함\n",
    "config = configparser.ConfigParser()\n",
    "config.read('config.ini')\n",
    "openai.api_key = config['api']['key']"
   ]
  },
  {
   "cell_type": "code",
   "execution_count": 3,
   "id": "b3255aa0",
   "metadata": {
    "ExecuteTime": {
     "end_time": "2023-05-02T07:05:09.678110Z",
     "start_time": "2023-05-02T07:05:09.659272Z"
    }
   },
   "outputs": [],
   "source": [
    "# GPT 3.5 Turbo 모델 함수정의\n",
    "def gpt_turbo(query): # 함수 사용시 질문을 파라미터로 받음\n",
    "    response = openai.ChatCompletion.create(\n",
    "        model = \"gpt-3.5-turbo\",\n",
    "        messages = [{\"role\": \"system\", \"content\": \"You are a helpful assistant.\"},\n",
    "                    {\"role\": \"user\", \"content\": query}]\n",
    "    )\n",
    "    return response['choices'][0]['message']['content'] # 답변 접근하여 반환"
   ]
  },
  {
   "cell_type": "code",
   "execution_count": 4,
   "id": "85adb7b9",
   "metadata": {
    "ExecuteTime": {
     "end_time": "2023-05-02T08:40:45.518745Z",
     "start_time": "2023-05-02T07:05:14.139256Z"
    },
    "scrolled": true
   },
   "outputs": [
    {
     "name": "stdout",
     "output_type": "stream",
     "text": [
      " * Serving Flask app \"__main__\" (lazy loading)\n",
      " * Environment: production\n",
      "\u001b[31m   WARNING: This is a development server. Do not use it in a production deployment.\u001b[0m\n",
      "\u001b[2m   Use a production WSGI server instead.\u001b[0m\n",
      " * Debug mode: off\n"
     ]
    },
    {
     "name": "stderr",
     "output_type": "stream",
     "text": [
      " * Running on http://127.0.0.1:5002/ (Press CTRL+C to quit)\n",
      "127.0.0.1 - - [02/May/2023 16:06:42] \"POST /gpt HTTP/1.1\" 200 -\n",
      "127.0.0.1 - - [02/May/2023 16:30:29] \"POST /gpt HTTP/1.1\" 200 -\n"
     ]
    }
   ],
   "source": [
    "app = Flask(__name__)\n",
    "CORS(app) # 서버접근허용\n",
    "\n",
    "@app.route('/gpt', methods = ['POST'])\n",
    "def ChatGPT():\n",
    "    query = request.form['query'] # 외부서버에서 접근시 넘겨주는 데이터(GPT 질문 쿼리)\n",
    "    ai_reply_response = gpt_turbo(query) # gpt함수 사용하여 반환값(답변) 저장\n",
    "    return ai_reply_response\n",
    "if __name__ == '__main__':\n",
    "    app.run(port=5002)"
   ]
  },
  {
   "cell_type": "code",
   "execution_count": null,
   "id": "a91dabe7",
   "metadata": {},
   "outputs": [],
   "source": []
  }
 ],
 "metadata": {
  "kernelspec": {
   "display_name": "Python 3 (ipykernel)",
   "language": "python",
   "name": "python3"
  },
  "language_info": {
   "codemirror_mode": {
    "name": "ipython",
    "version": 3
   },
   "file_extension": ".py",
   "mimetype": "text/x-python",
   "name": "python",
   "nbconvert_exporter": "python",
   "pygments_lexer": "ipython3",
   "version": "3.9.13"
  },
  "toc": {
   "base_numbering": 1,
   "nav_menu": {},
   "number_sections": true,
   "sideBar": true,
   "skip_h1_title": false,
   "title_cell": "Table of Contents",
   "title_sidebar": "Contents",
   "toc_cell": false,
   "toc_position": {},
   "toc_section_display": true,
   "toc_window_display": false
  },
  "varInspector": {
   "cols": {
    "lenName": 16,
    "lenType": 16,
    "lenVar": 40
   },
   "kernels_config": {
    "python": {
     "delete_cmd_postfix": "",
     "delete_cmd_prefix": "del ",
     "library": "var_list.py",
     "varRefreshCmd": "print(var_dic_list())"
    },
    "r": {
     "delete_cmd_postfix": ") ",
     "delete_cmd_prefix": "rm(",
     "library": "var_list.r",
     "varRefreshCmd": "cat(var_dic_list()) "
    }
   },
   "types_to_exclude": [
    "module",
    "function",
    "builtin_function_or_method",
    "instance",
    "_Feature"
   ],
   "window_display": false
  }
 },
 "nbformat": 4,
 "nbformat_minor": 5
}
