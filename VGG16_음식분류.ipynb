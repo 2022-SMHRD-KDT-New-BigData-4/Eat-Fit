{
 "cells": [
  {
   "cell_type": "code",
   "execution_count": 1,
   "id": "99fe8b96",
   "metadata": {
    "ExecuteTime": {
     "end_time": "2023-04-19T00:17:45.603902Z",
     "start_time": "2023-04-19T00:17:44.272205Z"
    },
    "scrolled": false
   },
   "outputs": [],
   "source": [
    "# 사용할 라이브러리 호출하기\n",
    "import os\n",
    "import pandas as pd\n",
    "import numpy as np\n",
    "import matplotlib.pyplot as plt\n",
    "from PIL import Image\n",
    "from sklearn.model_selection import train_test_split"
   ]
  },
  {
   "cell_type": "code",
   "execution_count": 2,
   "id": "e4bd888c",
   "metadata": {
    "ExecuteTime": {
     "end_time": "2023-04-19T00:17:45.616013Z",
     "start_time": "2023-04-19T00:17:45.603902Z"
    }
   },
   "outputs": [],
   "source": [
    "train = np.load('./data/food_filtered_train_224.npz')\n",
    "val = np.load('./data/food_filtered_val_224.npz')"
   ]
  },
  {
   "cell_type": "code",
   "execution_count": 3,
   "id": "c3b28586",
   "metadata": {
    "ExecuteTime": {
     "end_time": "2023-04-19T00:17:51.989335Z",
     "start_time": "2023-04-19T00:17:45.616013Z"
    }
   },
   "outputs": [],
   "source": [
    "X_train = train['X_train']\n",
    "y_train = train['y_train']\n",
    "X_val = val['X_val']\n",
    "y_val = val['y_val']"
   ]
  },
  {
   "cell_type": "code",
   "execution_count": 4,
   "id": "16cd7541",
   "metadata": {
    "ExecuteTime": {
     "end_time": "2023-04-19T00:17:52.005732Z",
     "start_time": "2023-04-19T00:17:51.990334Z"
    }
   },
   "outputs": [
    {
     "name": "stdout",
     "output_type": "stream",
     "text": [
      "훈련용 :  (8007, 224, 224, 3) (8007,)\n",
      "검증용 :  (984, 224, 224, 3) (984,)\n"
     ]
    }
   ],
   "source": [
    "print('훈련용 : ', X_train.shape, y_train.shape)\n",
    "print('검증용 : ', X_val.shape, y_val.shape)"
   ]
  },
  {
   "cell_type": "code",
   "execution_count": 5,
   "id": "d6c5224b",
   "metadata": {
    "ExecuteTime": {
     "end_time": "2023-04-19T00:17:53.878762Z",
     "start_time": "2023-04-19T00:17:52.006764Z"
    }
   },
   "outputs": [],
   "source": [
    "from tensorflow.keras import Sequential\n",
    "from tensorflow.keras.layers import Dense, Flatten, InputLayer, Dropout, Conv2D, MaxPooling2D\n",
    "from tensorflow.keras.optimizers import Adam\n",
    "from tensorflow.keras.applications import VGG16\n",
    "from tensorflow.keras.callbacks import ModelCheckpoint, EarlyStopping"
   ]
  },
  {
   "cell_type": "code",
   "execution_count": 6,
   "id": "9099bba9",
   "metadata": {
    "ExecuteTime": {
     "end_time": "2023-04-19T00:17:54.760770Z",
     "start_time": "2023-04-19T00:17:53.878762Z"
    }
   },
   "outputs": [
    {
     "name": "stdout",
     "output_type": "stream",
     "text": [
      "input_1\n",
      "block1_conv1\n",
      "block1_conv2\n",
      "block1_pool\n",
      "block2_conv1\n",
      "block2_conv2\n",
      "block2_pool\n",
      "block3_conv1\n",
      "block3_conv2\n",
      "block3_conv3\n",
      "block3_pool\n",
      "block4_conv1\n",
      "block4_conv2\n",
      "block4_conv3\n",
      "block4_pool\n",
      "block5_conv1\n",
      "block5_conv2\n",
      "block5_conv3\n",
      "block5_pool\n"
     ]
    }
   ],
   "source": [
    "# include_top = False : 불러온 모델의 mlp층(전결합층, 분류기층)을 사용하지 않음\n",
    "#                       특성추출부\n",
    "# weight : imageNet에서 학습된 가중치(w)를 그대로 가져옴\n",
    "# imageNet : 1000개의 클래스로 분류된 100만장이 넘는 이미지를 담고 있는 데이터셋\n",
    "vgg16 = VGG16(include_top = False,\n",
    "              weights = 'imagenet',\n",
    "              input_shape = (224,224,3))\n",
    "\n",
    "# VGG16이 가지고 있는 잘 셋팅된 w,b 값을 활용하여 이진 분류를 진행할 수 있다!\n",
    "# 기존 가중치를 약간 변경할 수 있도록 마지막 cnn층을 학습이 가능하도록 설정할 수 있다!\n",
    "# VGG모델의 특징 추출부에서 맨 마지막 층만 학습이 되도록 동결된 것을 풀어주자!\n",
    "\n",
    "# 전이학습 2가지 방법\n",
    "# 1. 특성 추출 -> 중요한 정보만 뽑아서 배열 데이터로 출력 후 활용\n",
    "# 2. 미세조정방식 -> 끝부분 합성곱층(conv) 부분을 미세하게 조정하여 학습시키는 방식으로 활용\n",
    "\n",
    "# 2. 미세조정 방식 진행\n",
    "for layer in vgg16.layers:\n",
    "    print(layer.name) # vgg16모델의 층 이름 확인"
   ]
  },
  {
   "cell_type": "code",
   "execution_count": 7,
   "id": "0d2212ea",
   "metadata": {
    "ExecuteTime": {
     "end_time": "2023-04-19T00:17:54.839203Z",
     "start_time": "2023-04-19T00:17:54.761741Z"
    }
   },
   "outputs": [],
   "source": [
    "# 신경망 연결해보기\n",
    "model = Sequential()\n",
    "\n",
    "# 미세조정방식 적용해서 vgg16 연결\n",
    "# ---------------------\n",
    "# 한 개의 층만 학습 가능하도록 설정, 그 외에 나머지층은 동결시키기\n",
    "for layer in vgg16.layers:\n",
    "    # 학습 가능하도록 설정 : block5_conv3\n",
    "    if layer.name == 'block5_conv3':\n",
    "        layer.trainable = True\n",
    "    else: # 학습 불가능하게 설정(동결시키기)\n",
    "        layer.trainable = False\n",
    "# ----------------------\n",
    "\n",
    "# 입력층 정의\n",
    "model.add(InputLayer(input_shape=(224, 224, 3)))\n",
    "\n",
    "# 특성추출부 연결\n",
    "model.add(vgg16)\n",
    "\n",
    "# 분류기층 필요!\n",
    "model.add(Flatten())\n",
    "model.add(Dense(64, activation = 'relu'))\n",
    "model.add(Dense(5, activation = 'softmax'))\n",
    "\n",
    "# 컴파일\n",
    "model.compile(loss = 'sparse_categorical_crossentropy',\n",
    "              optimizer = Adam(learning_rate = 0.0001),\n",
    "              metrics = ['accuracy'])"
   ]
  },
  {
   "cell_type": "code",
   "execution_count": 8,
   "id": "36640e42",
   "metadata": {
    "ExecuteTime": {
     "end_time": "2023-04-19T00:17:54.858662Z",
     "start_time": "2023-04-19T00:17:54.843227Z"
    }
   },
   "outputs": [],
   "source": [
    "# 모델 체크포인트 정의\n",
    "# 저장할 폴더 설정\n",
    "# 언제 저장할지 기준 설정\n",
    "model_dir= './acc/model_vgg16'\n",
    "\n",
    "# 만약에 해당 폴더가 없다면 생성\n",
    "# os.path.exists(model_dir)\n",
    "if not os.path.exists(model_dir):\n",
    "    os.mkdir(model_dir)\n",
    "\n",
    "# 모델 저장 파일명 설정\n",
    "# 정규식 표현법{변수명:출력형태}\n",
    "# {epoch:03d} : epoch 변수값을 가져와서 정수형 3자리로 표시(3자리보다 작으면 왼쪽에 0으로 채운다)\n",
    "# {accuracy:.2f} : accuracy 값을 가져와서 소수점 2째자리까지 표시 -> val_accuracy\n",
    "file_path = model_dir + \"/food_{epoch:03d}_{val_accuracy:.2f}.hdf5\"\n",
    "f_mckp = ModelCheckpoint(filepath = file_path,\n",
    "                         monitor = 'val_accuracy',\n",
    "                         save_best_only = True)\n",
    "\n",
    "# 조기학습중단 정의\n",
    "# 언제 중단할지 : patience, 어떤값을 보고 멈출지 기준 설정 : val_accuracy\n",
    "f_early = EarlyStopping(monitor = 'val_accuracy',\n",
    "                        patience = 10) # 기다리는 횟수를 설정\n",
    "\n",
    "# 모든 정의가 끝난 후 fit에 연결"
   ]
  },
  {
   "cell_type": "code",
   "execution_count": 9,
   "id": "deb0f97f",
   "metadata": {
    "ExecuteTime": {
     "end_time": "2023-04-19T00:17:54.874442Z",
     "start_time": "2023-04-19T00:17:54.858859Z"
    }
   },
   "outputs": [],
   "source": [
    "# 학습률 스케줄링\n",
    "# ReduceLROnPlateau : 검증손실(validation loss)이 개선되지 않을 때 학습률을 동적으로 감소시키는 역할\n",
    "# monitor: 모니터링 할 지표. 기본값은 'val_loss'입니다.\n",
    "# factor: 학습률을 감소시키는 비율. 새로운 학습률 = 현재 학습률 * factor. 기본값은 0.1입니다.\n",
    "# patience: 검증 손실이 개선되지 않은 에포크(epoch) 수. 만약 해당 에포크 수가 지나면 학습률이 감소됩니다. 기본값은 10입니다.\n",
    "# min_delta: 개선되지 않은 손실의 최소 변화량. 이 값을 넘어야 손실이 개선되지 않은 것으로 간주됩니다. 기본값은 1e-4입니다.\n",
    "# cooldown: 학습률 감소 후 다시 정상적인 학습을 재개하는데 걸리는 에포크 수. 기본값은 0입니다.\n",
    "# verbose: 로그 출력 레벨. 0, 1, 2 중 하나를 선택할 수 있습니다. 기본값은 0입니다.\n",
    "# min_lr: 학습률의 하한값. 더 이상 학습률을 줄일 수 없을 때 적용됩니다. 기본값은 0입니다.\n",
    "from tensorflow.keras.callbacks import ReduceLROnPlateau\n",
    "\n",
    "reduce_lr = ReduceLROnPlateau(monitor='val_loss',\n",
    "                              factor=0.1,\n",
    "                              patience=7)"
   ]
  },
  {
   "cell_type": "code",
   "execution_count": 10,
   "id": "02850070",
   "metadata": {
    "ExecuteTime": {
     "end_time": "2023-04-19T00:27:55.934861Z",
     "start_time": "2023-04-19T00:17:54.875419Z"
    },
    "scrolled": false
   },
   "outputs": [
    {
     "name": "stdout",
     "output_type": "stream",
     "text": [
      "Epoch 1/100\n",
      "126/126 [==============================] - 34s 192ms/step - loss: 2.0236 - accuracy: 0.4537 - val_loss: 1.0903 - val_accuracy: 0.5589\n",
      "Epoch 2/100\n",
      "126/126 [==============================] - 21s 170ms/step - loss: 0.8129 - accuracy: 0.6770 - val_loss: 0.9174 - val_accuracy: 0.6931\n",
      "Epoch 3/100\n",
      "126/126 [==============================] - 21s 169ms/step - loss: 0.5108 - accuracy: 0.8122 - val_loss: 0.8539 - val_accuracy: 0.7276\n",
      "Epoch 4/100\n",
      "126/126 [==============================] - 21s 169ms/step - loss: 0.2968 - accuracy: 0.8912 - val_loss: 0.8021 - val_accuracy: 0.7663\n",
      "Epoch 5/100\n",
      "126/126 [==============================] - 21s 170ms/step - loss: 0.1667 - accuracy: 0.9418 - val_loss: 0.7788 - val_accuracy: 0.7764\n",
      "Epoch 6/100\n",
      "126/126 [==============================] - 21s 170ms/step - loss: 0.0982 - accuracy: 0.9675 - val_loss: 0.7328 - val_accuracy: 0.7846\n",
      "Epoch 7/100\n",
      "126/126 [==============================] - 22s 171ms/step - loss: 0.0546 - accuracy: 0.9816 - val_loss: 0.8453 - val_accuracy: 0.7876\n",
      "Epoch 8/100\n",
      "126/126 [==============================] - 21s 171ms/step - loss: 0.0400 - accuracy: 0.9875 - val_loss: 0.8426 - val_accuracy: 0.7957\n",
      "Epoch 9/100\n",
      "126/126 [==============================] - 22s 171ms/step - loss: 0.0314 - accuracy: 0.9905 - val_loss: 0.9208 - val_accuracy: 0.7937\n",
      "Epoch 10/100\n",
      "126/126 [==============================] - 22s 172ms/step - loss: 0.0258 - accuracy: 0.9914 - val_loss: 0.9038 - val_accuracy: 0.8008\n",
      "Epoch 11/100\n",
      "126/126 [==============================] - 22s 172ms/step - loss: 0.0227 - accuracy: 0.9936 - val_loss: 0.9373 - val_accuracy: 0.7967\n",
      "Epoch 12/100\n",
      "126/126 [==============================] - 22s 173ms/step - loss: 0.0162 - accuracy: 0.9941 - val_loss: 1.1238 - val_accuracy: 0.7856\n",
      "Epoch 13/100\n",
      "126/126 [==============================] - 22s 172ms/step - loss: 0.1440 - accuracy: 0.9524 - val_loss: 0.8980 - val_accuracy: 0.7937\n",
      "Epoch 14/100\n",
      "126/126 [==============================] - 22s 172ms/step - loss: 0.0344 - accuracy: 0.9896 - val_loss: 0.8388 - val_accuracy: 0.8100\n",
      "Epoch 15/100\n",
      "126/126 [==============================] - 22s 172ms/step - loss: 0.0178 - accuracy: 0.9963 - val_loss: 0.8635 - val_accuracy: 0.8100\n",
      "Epoch 16/100\n",
      "126/126 [==============================] - 22s 174ms/step - loss: 0.0144 - accuracy: 0.9969 - val_loss: 0.8831 - val_accuracy: 0.8100\n",
      "Epoch 17/100\n",
      "126/126 [==============================] - 22s 173ms/step - loss: 0.0124 - accuracy: 0.9969 - val_loss: 0.8972 - val_accuracy: 0.8120\n",
      "Epoch 18/100\n",
      "126/126 [==============================] - 22s 172ms/step - loss: 0.0109 - accuracy: 0.9974 - val_loss: 0.9195 - val_accuracy: 0.8110\n",
      "Epoch 19/100\n",
      "126/126 [==============================] - 22s 172ms/step - loss: 0.0097 - accuracy: 0.9976 - val_loss: 0.9278 - val_accuracy: 0.8100\n",
      "Epoch 20/100\n",
      "126/126 [==============================] - 22s 172ms/step - loss: 0.0088 - accuracy: 0.9978 - val_loss: 0.9375 - val_accuracy: 0.8089\n",
      "Epoch 21/100\n",
      "126/126 [==============================] - 22s 174ms/step - loss: 0.0082 - accuracy: 0.9978 - val_loss: 0.9392 - val_accuracy: 0.8069\n",
      "Epoch 22/100\n",
      "126/126 [==============================] - 22s 172ms/step - loss: 0.0081 - accuracy: 0.9978 - val_loss: 0.9406 - val_accuracy: 0.8059\n",
      "Epoch 23/100\n",
      "126/126 [==============================] - 22s 177ms/step - loss: 0.0080 - accuracy: 0.9978 - val_loss: 0.9421 - val_accuracy: 0.8049\n",
      "Epoch 24/100\n",
      "126/126 [==============================] - 22s 175ms/step - loss: 0.0080 - accuracy: 0.9978 - val_loss: 0.9436 - val_accuracy: 0.8049\n",
      "Epoch 25/100\n",
      "126/126 [==============================] - 22s 176ms/step - loss: 0.0079 - accuracy: 0.9978 - val_loss: 0.9450 - val_accuracy: 0.8028\n",
      "Epoch 26/100\n",
      "126/126 [==============================] - 22s 177ms/step - loss: 0.0078 - accuracy: 0.9978 - val_loss: 0.9466 - val_accuracy: 0.8039\n",
      "Epoch 27/100\n",
      "126/126 [==============================] - 22s 176ms/step - loss: 0.0078 - accuracy: 0.9978 - val_loss: 0.9482 - val_accuracy: 0.8049\n"
     ]
    }
   ],
   "source": [
    "h1 = model.fit(X_train, y_train,\n",
    "                        validation_data = (X_val, y_val),\n",
    "                        batch_size= 64,\n",
    "                        epochs = 100,\n",
    "                        callbacks = [f_mckp, f_early, reduce_lr]) # 모델 체크포인트, 조기합습중단 연결"
   ]
  },
  {
   "cell_type": "code",
   "execution_count": 11,
   "id": "905de252",
   "metadata": {
    "ExecuteTime": {
     "end_time": "2023-04-19T00:27:56.190152Z",
     "start_time": "2023-04-19T00:27:55.934861Z"
    }
   },
   "outputs": [
    {
     "data": {
      "image/png": "[encoded data removed]",
      "text/plain": [
       "<Figure size 1500x1000 with 1 Axes>"
      ]
     },
     "metadata": {},
     "output_type": "display_data"
    }
   ],
   "source": [
    "plt.figure(figsize=(15,10))\n",
    "plt.plot(h1.history['accuracy'], label='acc')\n",
    "plt.plot(h1.history['val_accuracy'], label='val_acc')\n",
    "plt.legend()\n",
    "plt.show()"
   ]
  },
  {
   "cell_type": "code",
   "execution_count": null,
   "id": "95732fb6",
   "metadata": {},
   "outputs": [],
   "source": []
  }
 ],
 "metadata": {
  "kernelspec": {
   "display_name": "tf_gpu",
   "language": "python",
   "name": "tf_gpu"
  },
  "language_info": {
   "codemirror_mode": {
    "name": "ipython",
    "version": 3
   },
   "file_extension": ".py",
   "mimetype": "text/x-python",
   "name": "python",
   "nbconvert_exporter": "python",
   "pygments_lexer": "ipython3",
   "version": "3.9.16"
  },
  "toc": {
   "base_numbering": 1,
   "nav_menu": {},
   "number_sections": true,
   "sideBar": true,
   "skip_h1_title": false,
   "title_cell": "Table of Contents",
   "title_sidebar": "Contents",
   "toc_cell": false,
   "toc_position": {},
   "toc_section_display": true,
   "toc_window_display": false
  },
  "varInspector": {
   "cols": {
    "lenName": 16,
    "lenType": 16,
    "lenVar": 40
   },
   "kernels_config": {
    "python": {
     "delete_cmd_postfix": "",
     "delete_cmd_prefix": "del ",
     "library": "var_list.py",
     "varRefreshCmd": "print(var_dic_list())"
    },
    "r": {
     "delete_cmd_postfix": ") ",
     "delete_cmd_prefix": "rm(",
     "library": "var_list.r",
     "varRefreshCmd": "cat(var_dic_list()) "
    }
   },
   "types_to_exclude": [
    "module",
    "function",
    "builtin_function_or_method",
    "instance",
    "_Feature"
   ],
   "window_display": false
  }
 },
 "nbformat": 4,
 "nbformat_minor": 5
}
