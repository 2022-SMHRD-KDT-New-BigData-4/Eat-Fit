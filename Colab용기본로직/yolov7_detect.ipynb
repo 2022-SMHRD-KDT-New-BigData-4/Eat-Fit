{
 "cells": [
  {
   "cell_type": "code",
   "execution_count": 1,
   "id": "040a0f0b",
   "metadata": {
    "ExecuteTime": {
     "end_time": "2023-04-29T07:35:56.713368Z",
     "start_time": "2023-04-29T07:35:55.147598Z"
    }
   },
   "outputs": [
    {
     "name": "stdout",
     "output_type": "stream",
     "text": [
      "Package                           Version\n",
      "--------------------------------- --------------------\n",
      "absl-py                           1.4.0\n",
      "alabaster                         0.7.12\n",
      "anaconda-client                   1.11.2\n",
      "anaconda-navigator                2.4.0\n",
      "anyio                             3.5.0\n",
      "appdirs                           1.4.4\n",
      "argon2-cffi                       21.3.0\n",
      "argon2-cffi-bindings              21.2.0\n",
      "arrow                             1.2.2\n",
      "astroid                           2.14.2\n",
      "astropy                           5.1\n",
      "asttokens                         2.0.5\n",
      "astunparse                        1.6.3\n",
      "async-generator                   1.10\n",
      "atomicwrites                      1.4.0\n",
      "attrs                             22.1.0\n",
      "audioread                         3.0.0\n",
      "Automat                           20.2.0\n",
      "autopep8                          1.6.0\n",
      "Babel                             2.11.0\n",
      "backcall                          0.2.0\n",
      "backports.functools-lru-cache     1.6.4\n",
      "backports.tempfile                1.0\n",
      "backports.weakref                 1.0.post1\n",
      "bcrypt                            3.2.0\n",
      "beautifulsoup4                    4.12.2\n",
      "binaryornot                       0.4.4\n",
      "black                             0.0\n",
      "bleach                            4.1.0\n",
      "bokeh                             2.4.3\n",
      "boltons                           23.0.0\n",
      "Bottleneck                        1.3.5\n",
      "brotlipy                          0.7.0\n",
      "cachetools                        5.3.0\n",
      "certifi                           2022.12.7\n",
      "cffi                              1.15.1\n",
      "chardet                           4.0.0\n",
      "charset-normalizer                2.0.4\n",
      "click                             8.0.4\n",
      "cloudpickle                       2.0.0\n",
      "clyent                            1.2.2\n",
      "colorama                          0.4.6\n",
      "colorcet                          3.0.1\n",
      "comm                              0.1.2\n",
      "conda                             23.3.1\n",
      "conda-build                       3.24.0\n",
      "conda-content-trust               0.1.3\n",
      "conda-package-handling            2.0.2\n",
      "conda_package_streaming           0.7.0\n",
      "conda-repo-cli                    1.0.41\n",
      "conda-token                       0.4.0\n",
      "conda-verify                      3.4.2\n",
      "constantly                        15.1.0\n",
      "contourpy                         1.0.5\n",
      "cookiecutter                      1.7.3\n",
      "cryptography                      39.0.1\n",
      "cssselect                         1.1.0\n",
      "cx-Oracle                         8.3.0\n",
      "cycler                            0.11.0\n",
      "cytoolz                           0.12.0\n",
      "daal4py                           2023.0.2\n",
      "dask                              2023.3.2\n",
      "datashader                        0.14.4\n",
      "datashape                         0.5.4\n",
      "debugpy                           1.5.1\n",
      "decorator                         4.4.2\n",
      "defusedxml                        0.7.1\n",
      "diff-match-patch                  20200713\n",
      "dill                              0.3.6\n",
      "distlib                           0.3.6\n",
      "distributed                       2023.3.2\n",
      "docstring-to-markdown             0.11\n",
      "docutils                          0.18.1\n",
      "entrypoints                       0.4\n",
      "et-xmlfile                        1.1.0\n",
      "exceptiongroup                    1.1.0\n",
      "executing                         0.8.3\n",
      "fastjsonschema                    2.16.2\n",
      "ffmpeg-python                     0.2.0\n",
      "filelock                          3.9.0\n",
      "flake8                            6.0.0\n",
      "Flask                             2.2.2\n",
      "flatbuffers                       23.3.3\n",
      "flit_core                         3.8.0\n",
      "fonttools                         4.25.0\n",
      "fsspec                            2023.3.0\n",
      "future                            0.18.3\n",
      "gast                              0.4.0\n",
      "gensim                            4.3.0\n",
      "glob2                             0.7\n",
      "google-auth                       2.16.3\n",
      "google-auth-oauthlib              0.4.6\n",
      "google-pasta                      0.2.0\n",
      "graphviz                          0.20.1\n",
      "greenlet                          1.1.1\n",
      "grpcio                            1.53.0\n",
      "h11                               0.14.0\n",
      "h5py                              3.7.0\n",
      "HeapDict                          1.0.1\n",
      "holoviews                         1.15.4\n",
      "huggingface-hub                   0.10.1\n",
      "hvplot                            0.8.2\n",
      "hyperlink                         21.0.0\n",
      "idna                              3.4\n",
      "imagecodecs                       2021.8.26\n",
      "imageio                           2.26.0\n",
      "imageio-ffmpeg                    0.4.8\n",
      "imagesize                         1.4.1\n",
      "imbalanced-learn                  0.10.1\n",
      "importlib-metadata                6.0.0\n",
      "importlib-resources               5.2.0\n",
      "incremental                       21.3.0\n",
      "inflection                        0.5.1\n",
      "iniconfig                         1.1.1\n",
      "intake                            0.6.8\n",
      "intervaltree                      3.1.0\n",
      "ipykernel                         6.19.2\n",
      "ipython                           8.12.0\n",
      "ipython-genutils                  0.2.0\n",
      "ipywidgets                        8.0.4\n",
      "isort                             5.9.3\n",
      "itemadapter                       0.3.0\n",
      "itemloaders                       1.0.4\n",
      "itsdangerous                      2.0.1\n",
      "jaraco.classes                    3.2.1\n",
      "jax                               0.4.7\n",
      "jedi                              0.18.1\n",
      "jellyfish                         0.9.0\n",
      "Jinja2                            3.1.2\n",
      "jinja2-time                       0.2.0\n",
      "jmespath                          0.10.0\n",
      "joblib                            1.1.1\n",
      "JPype1                            1.4.1\n",
      "json5                             0.9.6\n",
      "jsonpatch                         1.32\n",
      "jsonpointer                       2.1\n",
      "jsonschema                        4.17.3\n",
      "jupyter                           1.0.0\n",
      "jupyter_client                    8.1.0\n",
      "jupyter-console                   6.6.3\n",
      "jupyter-contrib-core              0.4.2\n",
      "jupyter-contrib-nbextensions      0.7.0\n",
      "jupyter_core                      5.3.0\n",
      "jupyter-highlight-selected-word   0.2.0\n",
      "jupyter-nbextensions-configurator 0.6.1\n",
      "jupyter-server                    1.23.4\n",
      "jupyterlab                        3.5.3\n",
      "jupyterlab-pygments               0.1.2\n",
      "jupyterlab_server                 2.22.0\n",
      "jupyterlab-widgets                3.0.5\n",
      "jupyterthemes                     0.20.0\n",
      "kaggle                            1.5.12\n",
      "keras                             2.12.0\n",
      "keyring                           23.13.1\n",
      "kiwisolver                        1.4.4\n",
      "konlpy                            0.6.0\n",
      "lazy-object-proxy                 1.6.0\n",
      "lesscpy                           0.15.1\n",
      "libarchive-c                      2.9\n",
      "libclang                          16.0.0\n",
      "librosa                           0.9.2\n",
      "lightgbm                          3.3.5\n",
      "llvmlite                          0.39.1\n",
      "locket                            1.0.0\n",
      "lxml                              4.9.2\n",
      "lz4                               3.1.3\n",
      "Markdown                          3.4.1\n",
      "MarkupSafe                        2.1.1\n",
      "matplotlib                        3.7.1\n",
      "matplotlib-inline                 0.1.6\n",
      "mccabe                            0.7.0\n",
      "menuinst                          1.4.19\n",
      "mistune                           0.8.4\n",
      "mkl-fft                           1.3.1\n",
      "mkl-random                        1.2.2\n",
      "mkl-service                       2.4.0\n",
      "ml-dtypes                         0.0.4\n",
      "mock                              4.0.3\n",
      "more-itertools                    8.12.0\n",
      "moviepy                           1.0.3\n",
      "mpmath                            1.2.1\n",
      "msgpack                           1.0.3\n",
      "multipledispatch                  0.6.0\n",
      "munkres                           1.1.4\n",
      "mypy-extensions                   0.4.3\n",
      "navigator-updater                 0.3.0\n",
      "nbclassic                         0.5.5\n",
      "nbclient                          0.5.13\n",
      "nbconvert                         6.5.4\n",
      "nbformat                          5.7.0\n",
      "nest-asyncio                      1.5.6\n",
      "networkx                          2.8.4\n",
      "nltk                              3.7\n",
      "notebook                          6.5.4\n",
      "notebook_shim                     0.2.2\n",
      "numba                             0.56.4\n",
      "numexpr                           2.8.4\n",
      "numpy                             1.23.5\n",
      "numpydoc                          1.5.0\n",
      "oauthlib                          3.2.2\n",
      "opencv-python                     4.7.0.72\n",
      "openpyxl                          3.0.10\n",
      "opt-einsum                        3.3.0\n",
      "outcome                           1.2.0\n",
      "packaging                         23.0\n",
      "pandas                            1.5.3\n",
      "pandocfilters                     1.5.0\n",
      "panel                             0.14.3\n",
      "param                             1.12.3\n",
      "paramiko                          2.8.1\n",
      "parsel                            1.6.0\n",
      "parso                             0.8.3\n",
      "partd                             1.2.0\n",
      "pathlib                           1.0.1\n",
      "pathspec                          0.10.3\n",
      "patsy                             0.5.3\n",
      "pep8                              1.7.1\n",
      "pexpect                           4.8.0\n",
      "pickleshare                       0.7.5\n",
      "Pillow                            9.4.0\n",
      "pip                               23.1\n",
      "pkginfo                           1.9.6\n",
      "platformdirs                      2.5.2\n",
      "plotly                            5.9.0\n",
      "pluggy                            1.0.0\n",
      "ply                               3.11\n",
      "pooch                             1.4.0\n",
      "poyo                              0.5.0\n",
      "proglog                           0.1.10\n",
      "prometheus-client                 0.14.1\n",
      "prompt-toolkit                    3.0.36\n",
      "Protego                           0.1.16\n",
      "protobuf                          4.21.2\n",
      "psutil                            5.9.0\n",
      "ptyprocess                        0.7.0\n",
      "pure-eval                         0.2.2\n",
      "py                                1.11.0\n",
      "pyasn1                            0.4.8\n",
      "pyasn1-modules                    0.2.8\n",
      "pycodestyle                       2.10.0\n",
      "pycosat                           0.6.4\n",
      "pycparser                         2.21\n",
      "pyct                              0.5.0\n",
      "pycurl                            7.45.2\n",
      "PyDispatcher                      2.0.5\n",
      "pydocstyle                        6.3.0\n",
      "pydub                             0.25.1\n",
      "pyerfa                            2.0.0\n",
      "pyflakes                          3.0.1\n",
      "Pygments                          2.11.2\n",
      "PyHamcrest                        2.0.2\n",
      "PyJWT                             2.4.0\n",
      "pylint                            2.16.2\n",
      "pylint-venv                       2.3.0\n",
      "pyls-spyder                       0.4.0\n",
      "PyNaCl                            1.5.0\n",
      "pyodbc                            4.0.34\n",
      "pyOpenSSL                         23.0.0\n",
      "pyparsing                         3.0.9\n",
      "PyQt5                             5.15.7\n",
      "PyQt5-sip                         12.11.0\n",
      "PyQtWebEngine                     5.15.4\n",
      "pyrsistent                        0.18.0\n",
      "PySocks                           1.7.1\n",
      "pytest                            7.1.2\n",
      "python-dateutil                   2.8.2\n",
      "python-lsp-black                  1.2.1\n",
      "python-lsp-jsonrpc                1.0.0\n",
      "python-lsp-server                 1.7.1\n",
      "python-slugify                    5.0.2\n",
      "python-snappy                     0.6.1\n",
      "pytoolconfig                      1.2.5\n",
      "pytube                            12.1.2\n",
      "pytz                              2022.7\n",
      "pyviz-comms                       2.0.2\n",
      "PyWavelets                        1.4.1\n",
      "pywin32                           305.1\n",
      "pywin32-ctypes                    0.2.0\n",
      "pywinpty                          2.0.10\n",
      "PyYAML                            6.0\n",
      "pyzmq                             23.2.0\n",
      "QDarkStyle                        3.0.2\n",
      "qstylizer                         0.2.2\n",
      "QtAwesome                         1.2.2\n",
      "qtconsole                         5.4.2\n",
      "QtPy                              2.2.0\n",
      "queuelib                          1.5.0\n",
      "regex                             2022.7.9\n",
      "requests                          2.28.1\n",
      "requests-file                     1.5.1\n",
      "requests-oauthlib                 1.3.1\n",
      "requests-toolbelt                 0.9.1\n",
      "resampy                           0.4.2\n",
      "rope                              1.7.0\n",
      "rsa                               4.9\n",
      "Rtree                             1.0.1\n",
      "ruamel.yaml                       0.17.21\n",
      "ruamel.yaml.clib                  0.2.6\n",
      "scikit-image                      0.19.3\n",
      "scikit-learn                      1.2.2\n",
      "scikit-learn-intelex              20230228.214139\n",
      "scipy                             1.10.1\n",
      "Scrapy                            2.8.0\n",
      "seaborn                           0.12.2\n",
      "selenium                          4.7.2\n",
      "Send2Trash                        1.8.0\n",
      "service-identity                  18.1.0\n",
      "setuptools                        67.6.1\n",
      "sip                               6.6.2\n",
      "six                               1.16.0\n",
      "smart-open                        5.2.1\n",
      "sniffio                           1.2.0\n",
      "snowballstemmer                   2.2.0\n",
      "sortedcontainers                  2.4.0\n",
      "soundfile                         0.11.0\n",
      "soupsieve                         2.4\n",
      "Sphinx                            5.0.2\n",
      "sphinxcontrib-applehelp           1.0.2\n",
      "sphinxcontrib-devhelp             1.0.2\n",
      "sphinxcontrib-htmlhelp            2.0.0\n",
      "sphinxcontrib-jsmath              1.0.1\n",
      "sphinxcontrib-qthelp              1.0.3\n",
      "sphinxcontrib-serializinghtml     1.1.5\n",
      "spyder                            5.4.3\n",
      "spyder-kernels                    2.4.3\n",
      "SQLAlchemy                        1.4.39\n",
      "stack-data                        0.2.0\n",
      "statsmodels                       0.13.5\n",
      "sympy                             1.11.1\n",
      "tables                            3.7.0\n",
      "tabulate                          0.8.10\n",
      "TBB                               0.2\n",
      "tblib                             1.7.0\n",
      "tenacity                          8.0.1\n",
      "tensorboard                       2.12.0\n",
      "tensorboard-data-server           0.7.0\n",
      "tensorboard-plugin-wit            1.8.1\n",
      "tensorflow                        2.12.0\n",
      "tensorflow-estimator              2.12.0\n",
      "tensorflow-intel                  2.12.0\n",
      "tensorflow-io-gcs-filesystem      0.31.0\n",
      "termcolor                         2.2.0\n",
      "terminado                         0.17.1\n",
      "text-unidecode                    1.3\n",
      "textdistance                      4.2.1\n",
      "thop                              0.1.1.post2209072238\n",
      "threadpoolctl                     2.2.0\n",
      "three-merge                       0.1.1\n",
      "tifffile                          2021.7.2\n",
      "tinycss2                          1.2.1\n",
      "tldextract                        3.2.0\n",
      "tokenizers                        0.11.4\n",
      "toml                              0.10.2\n",
      "tomli                             2.0.1\n",
      "tomlkit                           0.11.1\n",
      "toolz                             0.12.0\n",
      "torch                             2.0.0\n",
      "torchvision                       0.15.1\n",
      "tornado                           6.2\n",
      "tqdm                              4.65.0\n",
      "traitlets                         5.7.1\n",
      "transformers                      4.24.0\n",
      "trio                              0.22.0\n",
      "trio-websocket                    0.9.2\n",
      "Twisted                           22.2.0\n",
      "twisted-iocpsupport               1.0.2\n",
      "typing_extensions                 4.4.0\n",
      "ujson                             5.4.0\n",
      "Unidecode                         1.2.0\n",
      "urllib3                           1.26.15\n",
      "virtualenv                        20.21.0\n",
      "w3lib                             1.21.0\n",
      "watchdog                          2.1.6\n",
      "wcwidth                           0.2.5\n",
      "webencodings                      0.5.1\n",
      "websocket-client                  0.58.0\n",
      "Werkzeug                          2.2.3\n",
      "whatthepatch                      1.0.2\n",
      "wheel                             0.38.4\n",
      "widgetsnbextension                4.0.5\n",
      "win-inet-pton                     1.1.0\n",
      "wordcloud                         1.8.2.2\n",
      "wrapt                             1.14.1\n",
      "wsproto                           1.2.0\n",
      "xarray                            2022.11.0\n",
      "xgboost                           0.90\n",
      "xlwings                           0.29.1\n",
      "yapf                              0.31.0\n",
      "zict                              2.1.0\n",
      "zipp                              3.11.0\n",
      "zope.interface                    5.4.0\n",
      "zstandard                         0.19.0\n"
     ]
    },
    {
     "name": "stderr",
     "output_type": "stream",
     "text": [
      "\n",
      "[notice] A new release of pip is available: 23.1 -> 23.1.2\n",
      "[notice] To update, run: python.exe -m pip install --upgrade pip\n"
     ]
    }
   ],
   "source": [
    "!pip list"
   ]
  },
  {
   "cell_type": "code",
   "execution_count": 1,
   "id": "62236dea",
   "metadata": {
    "ExecuteTime": {
     "end_time": "2023-05-01T01:34:28.312065Z",
     "start_time": "2023-05-01T01:34:28.301094Z"
    }
   },
   "outputs": [
    {
     "name": "stdout",
     "output_type": "stream",
     "text": [
      "C:\\Users\\smhrd\\Yolov7_Detect\n"
     ]
    }
   ],
   "source": [
    "%cd C:\\Users\\smhrd\\Yolov7_Detect"
   ]
  },
  {
   "cell_type": "code",
   "execution_count": 5,
   "id": "16ab9abd",
   "metadata": {
    "ExecuteTime": {
     "end_time": "2023-04-29T08:40:38.387589Z",
     "start_time": "2023-04-29T08:40:37.254691Z"
    }
   },
   "outputs": [
    {
     "name": "stderr",
     "output_type": "stream",
     "text": [
      "ERROR: Could not find a version that satisfies the requirement git (from versions: none)\n",
      "ERROR: No matching distribution found for git\n",
      "\n",
      "[notice] A new release of pip is available: 23.1 -> 23.1.2\n",
      "[notice] To update, run: python.exe -m pip install --upgrade pip\n"
     ]
    }
   ],
   "source": [
    "!pip install git"
   ]
  },
  {
   "cell_type": "code",
   "execution_count": 4,
   "id": "7672c46f",
   "metadata": {
    "ExecuteTime": {
     "end_time": "2023-04-29T08:40:13.688028Z",
     "start_time": "2023-04-29T08:40:13.645457Z"
    }
   },
   "outputs": [
    {
     "name": "stderr",
     "output_type": "stream",
     "text": [
      "'git'은(는) 내부 또는 외부 명령, 실행할 수 있는 프로그램, 또는\n",
      "배치 파일이 아닙니다.\n"
     ]
    }
   ],
   "source": [
    "!git clone https://github.com/WongKinYiu/yolov7.git"
   ]
  },
  {
   "cell_type": "code",
   "execution_count": 2,
   "id": "ad54148e",
   "metadata": {
    "ExecuteTime": {
     "end_time": "2023-05-01T01:34:32.416356Z",
     "start_time": "2023-05-01T01:34:32.363209Z"
    }
   },
   "outputs": [
    {
     "name": "stderr",
     "output_type": "stream",
     "text": [
      "'git'은(는) 내부 또는 외부 명령, 실행할 수 있는 프로그램, 또는\n",
      "배치 파일이 아닙니다.\n",
      "'git'은(는) 내부 또는 외부 명령, 실행할 수 있는 프로그램, 또는\n",
      "배치 파일이 아닙니다.\n"
     ]
    }
   ],
   "source": [
    "!git config --global user.email \"chj0253@gmail.com\"\n",
    "!git config --global user.name \"BusUserYM\""
   ]
  },
  {
   "cell_type": "code",
   "execution_count": 8,
   "id": "dc22457c",
   "metadata": {
    "ExecuteTime": {
     "end_time": "2023-04-29T08:42:56.717121Z",
     "start_time": "2023-04-29T08:42:56.709215Z"
    }
   },
   "outputs": [
    {
     "data": {
      "text/plain": [
       "'C:\\\\Users\\\\smhrd\\\\Yolov7_Detect'"
      ]
     },
     "execution_count": 8,
     "metadata": {},
     "output_type": "execute_result"
    }
   ],
   "source": [
    "%pwd"
   ]
  },
  {
   "cell_type": "code",
   "execution_count": 3,
   "id": "d958e539",
   "metadata": {
    "ExecuteTime": {
     "end_time": "2023-05-01T01:34:37.803915Z",
     "start_time": "2023-05-01T01:34:36.380599Z"
    }
   },
   "outputs": [],
   "source": [
    "import torch"
   ]
  },
  {
   "cell_type": "code",
   "execution_count": 5,
   "id": "c10b8eda",
   "metadata": {
    "ExecuteTime": {
     "end_time": "2023-05-01T01:35:54.174274Z",
     "start_time": "2023-05-01T01:35:52.678244Z"
    }
   },
   "outputs": [
    {
     "name": "stderr",
     "output_type": "stream",
     "text": [
      "Traceback (most recent call last):\n",
      "  File \"C:\\Users\\smhrd\\Yolov7_Detect\\yolov7\\detect.py\", line 6, in <module>\n",
      "    import torch\n",
      "  File \"C:\\Users\\smhrd\\anaconda3\\lib\\site-packages\\torch\\__init__.py\", line 1465, in <module>\n",
      "    from . import _meta_registrations\n",
      "  File \"C:\\Users\\smhrd\\anaconda3\\lib\\site-packages\\torch\\_meta_registrations.py\", line 7, in <module>\n",
      "    from torch._decomp import _add_op_to_registry, global_decomposition_table, meta_table\n",
      "  File \"C:\\Users\\smhrd\\anaconda3\\lib\\site-packages\\torch\\_decomp\\__init__.py\", line 169, in <module>\n",
      "    import torch._decomp.decompositions\n",
      "  File \"C:\\Users\\smhrd\\anaconda3\\lib\\site-packages\\torch\\_decomp\\decompositions.py\", line 10, in <module>\n",
      "    import torch._prims as prims\n",
      "  File \"C:\\Users\\smhrd\\anaconda3\\lib\\site-packages\\torch\\_prims\\__init__.py\", line 33, in <module>\n",
      "    from torch._subclasses.fake_tensor import FakeTensor, FakeTensorMode\n",
      "  File \"C:\\Users\\smhrd\\anaconda3\\lib\\site-packages\\torch\\_subclasses\\__init__.py\", line 3, in <module>\n",
      "    from torch._subclasses.fake_tensor import (\n",
      "  File \"C:\\Users\\smhrd\\anaconda3\\lib\\site-packages\\torch\\_subclasses\\fake_tensor.py\", line 13, in <module>\n",
      "    from torch._guards import Source\n",
      "  File \"C:\\Users\\smhrd\\anaconda3\\lib\\site-packages\\torch\\_guards.py\", line 14, in <module>\n",
      "    import sympy  # type: ignore[import]\n",
      "  File \"C:\\Users\\smhrd\\anaconda3\\lib\\site-packages\\sympy\\__init__.py\", line 151, in <module>\n",
      "    from .concrete import product, Product, summation, Sum\n",
      "  File \"C:\\Users\\smhrd\\anaconda3\\lib\\site-packages\\sympy\\concrete\\__init__.py\", line 1, in <module>\n",
      "    from .products import product, Product\n",
      "  File \"C:\\Users\\smhrd\\anaconda3\\lib\\site-packages\\sympy\\concrete\\products.py\", line 4, in <module>\n",
      "    from .summations import Sum, summation, _dummy_with_inherited_properties_concrete\n",
      "  File \"C:\\Users\\smhrd\\anaconda3\\lib\\site-packages\\sympy\\concrete\\summations.py\", line 26, in <module>\n",
      "    from sympy.integrals.integrals import Integral\n",
      "  File \"C:\\Users\\smhrd\\anaconda3\\lib\\site-packages\\sympy\\integrals\\__init__.py\", line 13, in <module>\n",
      "    from .integrals import integrate, Integral, line_integrate\n",
      "  File \"<frozen importlib._bootstrap>\", line 1007, in _find_and_load\n",
      "  File \"<frozen importlib._bootstrap>\", line 986, in _find_and_load_unlocked\n",
      "  File \"<frozen importlib._bootstrap>\", line 680, in _load_unlocked\n",
      "  File \"<frozen importlib._bootstrap_external>\", line 846, in exec_module\n",
      "  File \"<frozen importlib._bootstrap_external>\", line 941, in get_code\n",
      "  File \"<frozen importlib._bootstrap_external>\", line 1040, in get_data\n",
      "MemoryError\n"
     ]
    }
   ],
   "source": [
    "!python yolov7/detect.py --weights C:\\Users\\smhrd\\Yolov7_Detect\\yolov7\\runs\\train\\try3_now_best\\weights/best.pt --img-size 640 --conf 0.25 --source C:\\Users\\smhrd\\Yolov7_Detect/1.png"
   ]
  },
  {
   "cell_type": "code",
   "execution_count": null,
   "id": "487ee691",
   "metadata": {},
   "outputs": [],
   "source": []
  }
 ],
 "metadata": {
  "kernelspec": {
   "display_name": "yolov7",
   "language": "python",
   "name": "yolov7"
  },
  "language_info": {
   "codemirror_mode": {
    "name": "ipython",
    "version": 3
   },
   "file_extension": ".py",
   "mimetype": "text/x-python",
   "name": "python",
   "nbconvert_exporter": "python",
   "pygments_lexer": "ipython3",
   "version": "3.9.16"
  },
  "toc": {
   "base_numbering": 1,
   "nav_menu": {},
   "number_sections": true,
   "sideBar": true,
   "skip_h1_title": false,
   "title_cell": "Table of Contents",
   "title_sidebar": "Contents",
   "toc_cell": false,
   "toc_position": {},
   "toc_section_display": true,
   "toc_window_display": false
  },
  "varInspector": {
   "cols": {
    "lenName": 16,
    "lenType": 16,
    "lenVar": 40
   },
   "kernels_config": {
    "python": {
     "delete_cmd_postfix": "",
     "delete_cmd_prefix": "del ",
     "library": "var_list.py",
     "varRefreshCmd": "print(var_dic_list())"
    },
    "r": {
     "delete_cmd_postfix": ") ",
     "delete_cmd_prefix": "rm(",
     "library": "var_list.r",
     "varRefreshCmd": "cat(var_dic_list()) "
    }
   },
   "types_to_exclude": [
    "module",
    "function",
    "builtin_function_or_method",
    "instance",
    "_Feature"
   ],
   "window_display": false
  }
 },
 "nbformat": 4,
 "nbformat_minor": 5
}
