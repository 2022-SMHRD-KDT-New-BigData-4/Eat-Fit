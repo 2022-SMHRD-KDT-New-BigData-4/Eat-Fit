{
 "cells": [
  {
   "cell_type": "code",
   "execution_count": null,
   "id": "24e7efc1",
   "metadata": {
    "ExecuteTime": {
     "start_time": "2023-05-02T01:10:07.533Z"
    }
   },
   "outputs": [],
   "source": [
    "# 아래 import를 위해 선행 설치할 친구들\n",
    "# !pip install cx_Oracle matplotlib numpy Flask Flask-SocketIO flask-cors eventlet pydub wavio"
   ]
  },
  {
   "cell_type": "code",
   "execution_count": 47,
   "id": "893e251a",
   "metadata": {
    "ExecuteTime": {
     "end_time": "2023-05-02T07:25:54.260085Z",
     "start_time": "2023-05-02T07:25:54.215559Z"
    },
    "scrolled": false
   },
   "outputs": [
    {
     "name": "stderr",
     "output_type": "stream",
     "text": [
      "'git'은(는) 내부 또는 외부 명령, 실행할 수 있는 프로그램, 또는\n",
      "배치 파일이 아닙니다.\n",
      "'git'은(는) 내부 또는 외부 명령, 실행할 수 있는 프로그램, 또는\n",
      "배치 파일이 아닙니다.\n"
     ]
    }
   ],
   "source": [
    "import os\n",
    "\n",
    "from flask import flash\n",
    "# 파일 이름 중복 문제 해결하는 방법\n",
    "import time\n",
    "# 파일 업로드시 경로 공격 방지를 막아주는 함수를 제공하는 라이브러리\n",
    "from werkzeug.utils import secure_filename\n",
    "\n",
    "# HTTP 요청에서 전송된 이미지 바이트 스트림을 메모리상에서 처리할 때 사용될 수 있습니다.\n",
    "import io\n",
    "from io import BytesIO\n",
    "\n",
    "from flask import Flask, send_file, render_template, request, jsonify, send_from_directory\n",
    "from flask import session\n",
    "from flask import redirect\n",
    "from flask import url_for\n",
    "\n",
    "import matplotlib.pyplot as plt\n",
    "import numpy as np\n",
    "import pandas as pd\n",
    "\n",
    "# 소켓 사용시 -> 실시간 정보 이동\n",
    "from flask_socketio import SocketIO, emit\n",
    "\n",
    "# 다른 도메인에어 오는 요청을 허용하도록 설정하는 라이브러리\n",
    "from flask_cors import CORS\n",
    "\n",
    "# 현시점 날짜, 시간정보 알아내는 라이브러리\n",
    "from datetime import datetime\n",
    "\n",
    "# 오라클DB랑 연동\n",
    "import cx_Oracle\n",
    "\n",
    "# 임시파일과 디렉토리를 만들고 조작하는데 사용되는 라이브러리\n",
    "import tempfile\n",
    "\n",
    "# 컨텍스트 매니저를 만들어주고 효율적이고 간결한 코드 작성 가능\n",
    "from contextlib import contextmanager\n",
    "\n",
    "import sys\n",
    "\n",
    "# flask와 함께 사용되는 웹 서버 라이브러리, 비동기 I/O 지원 -> 빠르고 확장석 있는 웹 어플 개발 가능하답니다.\n",
    "import eventlet\n",
    "import eventlet.wsgi\n",
    "\n",
    "# 문자열 64 인코딩/디코딩용 python내장모델\n",
    "import base64\n",
    "\n",
    "# 이미지 detect를 위한 라이브러리\n",
    "import torch\n",
    "\n",
    "# flask에서 비동기적으로 명령을 수행하게 해주는 함수를 포함한 라이브러리\n",
    "import subprocess\n",
    "\n",
    "# Ajax를 통해 사진 데이터가 넘어올 때 사용할 라이브러리\n",
    "from PIL import Image\n",
    "\n",
    "# 없어도 되지만 일단 넣어보는 로직\n",
    "!git config --global user.email \"chj0253@gmail.com\"\n",
    "!git config --global user.name \"BusUserYM\""
   ]
  },
  {
   "cell_type": "code",
   "execution_count": 2,
   "id": "c524268b",
   "metadata": {
    "ExecuteTime": {
     "end_time": "2023-05-02T05:29:05.677891Z",
     "start_time": "2023-05-02T05:29:05.662909Z"
    }
   },
   "outputs": [
    {
     "data": {
      "text/plain": [
       "'C:\\\\Users\\\\smhrd\\\\Yolov7_Detect'"
      ]
     },
     "execution_count": 2,
     "metadata": {},
     "output_type": "execute_result"
    }
   ],
   "source": [
    "%pwd"
   ]
  },
  {
   "cell_type": "code",
   "execution_count": 53,
   "id": "af59c4cc",
   "metadata": {
    "ExecuteTime": {
     "end_time": "2023-05-02T07:46:37.774727Z",
     "start_time": "2023-05-02T07:46:37.766730Z"
    }
   },
   "outputs": [
    {
     "data": {
      "text/plain": [
       "'asdasdawerascdasdfasdfs'"
      ]
     },
     "execution_count": 53,
     "metadata": {},
     "output_type": "execute_result"
    }
   ],
   "source": [
    "\n",
    "txt_path = r'C:/Users/smhrd/Yolov7_Detect/img_results/labels'\n",
    "file_name = '1'\n",
    "# 위치만 고정해주면 바로 로직 활용 가능합니다.\n",
    "with open(f'{txt_path}/{file_name}.txt', 'r') as f:\n",
    "    data = f.read()\n",
    "        \n",
    "data"
   ]
  },
  {
   "cell_type": "code",
   "execution_count": 62,
   "id": "0bcb4495",
   "metadata": {
    "ExecuteTime": {
     "end_time": "2023-05-02T09:11:48.654853Z",
     "start_time": "2023-05-02T08:19:53.762818Z"
    }
   },
   "outputs": [
    {
     "name": "stdout",
     "output_type": "stream",
     "text": [
      "OracleDB 연결 성공\n",
      " * Serving Flask app '__main__'\n",
      " * Debug mode: off\n"
     ]
    },
    {
     "name": "stderr",
     "output_type": "stream",
     "text": [
      "WARNING: This is a development server. Do not use it in a production deployment. Use a production WSGI server instead.\n",
      " * Running on all addresses (0.0.0.0)\n",
      " * Running on http://127.0.0.1:5000\n",
      " * Running on http://172.30.1.97:5000\n",
      "Press CTRL+C to quit\n",
      "172.30.1.97 - - [02/May/2023 17:20:03] \"POST /upload-image HTTP/1.1\" 302 -\n"
     ]
    },
    {
     "name": "stdout",
     "output_type": "stream",
     "text": [
      "0010040000012.png\n"
     ]
    },
    {
     "name": "stderr",
     "output_type": "stream",
     "text": [
      "172.30.1.97 - - [02/May/2023 17:20:14] \"GET /analyze?filename=0010040000012.png HTTP/1.1\" 302 -\n",
      "172.30.1.97 - - [02/May/2023 17:20:14] \"GET /send_class/0010040000012.png HTTP/1.1\" 302 -\n",
      "172.30.1.97 - - [02/May/2023 17:20:14] \"GET /send_image?filename=0010040000012.png&cnames=그릇,배추김치 HTTP/1.1\" 200 -\n"
     ]
    },
    {
     "name": "stdout",
     "output_type": "stream",
     "text": [
      "['그릇', '배추김치']\n"
     ]
    },
    {
     "name": "stderr",
     "output_type": "stream",
     "text": [
      "[2023-05-02 17:20:21,313] ERROR in app: Exception on /send_image [GET]\n",
      "Traceback (most recent call last):\n",
      "  File \"C:\\Users\\smhrd\\anaconda3\\lib\\site-packages\\flask\\app.py\", line 2190, in wsgi_app\n",
      "    response = self.full_dispatch_request()\n",
      "  File \"C:\\Users\\smhrd\\anaconda3\\lib\\site-packages\\flask\\app.py\", line 1486, in full_dispatch_request\n",
      "    rv = self.handle_user_exception(e)\n",
      "  File \"C:\\Users\\smhrd\\anaconda3\\lib\\site-packages\\flask_cors\\extension.py\", line 165, in wrapped_function\n",
      "    return cors_after_request(app.make_response(f(*args, **kwargs)))\n",
      "  File \"C:\\Users\\smhrd\\anaconda3\\lib\\site-packages\\flask\\app.py\", line 1484, in full_dispatch_request\n",
      "    rv = self.dispatch_request()\n",
      "  File \"C:\\Users\\smhrd\\anaconda3\\lib\\site-packages\\flask\\app.py\", line 1469, in dispatch_request\n",
      "    return self.ensure_sync(self.view_functions[rule.endpoint])(**view_args)\n",
      "  File \"C:\\Users\\smhrd\\AppData\\Local\\Temp\\ipykernel_11880\\1802433576.py\", line 166, in send_image\n",
      "    return send_file(image, mimetype='image/png')\n",
      "  File \"C:\\Users\\smhrd\\anaconda3\\lib\\site-packages\\flask\\helpers.py\", line 504, in send_file\n",
      "    return werkzeug.utils.send_file(  # type: ignore[return-value]\n",
      "  File \"C:\\Users\\smhrd\\anaconda3\\lib\\site-packages\\werkzeug\\utils.py\", line 431, in send_file\n",
      "    stat = os.stat(path)\n",
      "FileNotFoundError: [WinError 2] 지정된 파일을 찾을 수 없습니다: 'C:/Users/smhrd/Yolov7_Detect/img_results/None'\n",
      "172.30.1.97 - - [02/May/2023 17:20:21] \"GET /send_image HTTP/1.1\" 500 -\n"
     ]
    }
   ],
   "source": [
    "app = Flask(__name__)\n",
    "# flask 어플리케이션에서 세션을 사용하려면 반드시 있어야하는 'SECRET_KEY'라고 합니다. 없으면 세션 사용 불가능!\n",
    "app.config['SECRET_KEY'] = 'today is good day but weather is sooooo bad that make me sad'\n",
    "CORS(app)\n",
    "\n",
    "# 이런 식으로 쓸수 있습니다.\n",
    "@app.route('/')\n",
    "def index():\n",
    "    return '실행이 잘 되고 있는가...확인 중!'\n",
    "\n",
    "\n",
    "# YOLOv7 경로 설정\n",
    "os.environ[\"PATH\"] += os.pathsep + \"C:\\\\Users\\\\smhrd\\\\Yolov7_Detect\\\\yolov7\\\\runs\\\\train\\\\try3_now_best\\\\weights\\\\best.pt\"\n",
    "\n",
    "\n",
    "# flask를 통해 업로드된 파일을 저장한 디렉토리 경로\n",
    "UPLOAD_FOLDER = 'uploads'\n",
    "# 아래의 파일 형태만 업로드 가능하다 라는 의미.\n",
    "ALLOWED_EXTENSIONS = {'jpg','jpeg','JPG','JPEG','png','PNG','GIF','gif'}\n",
    "# flask에서 아래에 업로드된 값을 'app.config'를 통해 전역 환경 변수로 사용할 수 있게 만드는 로직\n",
    "app.config['UPLOAD_FOLDER'] = UPLOAD_FOLDER\n",
    "\n",
    "\n",
    "# 파일 이름이 허용된 확장자를 가지고 있는지 여부를 판단하는 함수\n",
    "def allowed_file(filename):\n",
    "    return '.' in filename and filename.rsplit('.', 1)[1].lower() in ALLOWED_EXTENSIONS\n",
    "\n",
    "\n",
    "# 이게 맞네요.\n",
    "@app.route('/upload-image', methods=['POST'])\n",
    "def upload():\n",
    "    image_data = request.files['image']\n",
    "    new_image_data = image_data.filename[:-4]\n",
    "    image_data.save(f'uploads/{new_image_data}.png')\n",
    "    filename = f'{new_image_data}.png'\n",
    "    \n",
    "    return redirect(url_for('analyze', filename=filename))\n",
    "\n",
    "\n",
    "# 사진 분석 로직\n",
    "@app.route('/analyze', methods = ['GET'])           # 분석 로직 다 적어야 합니다.\n",
    "def analyze():\n",
    "    filename = request.args.get('filename')\n",
    "    print(filename)\n",
    "    img = Image.open(f'uploads/{filename}')\n",
    "    # 사진 분석\n",
    "    send_pic(filename)\n",
    "    \n",
    "    return redirect(url_for('send_class', filename=filename))\n",
    "\n",
    "\n",
    "# 사진 분석하는 로직\n",
    "def send_pic(filename):\n",
    "    # 로직 변경의 상황이 있을 수 있습니다.\n",
    "    # --weights => best.pt의 위치를 넣어주시고 (고정된 값으로)\n",
    "    # detect.py => 사진이 저장될 위치와 txt가 저장된 위치를 변경하면 됩니다 ㅎㅎ^^;; (save_dir 및 save_txt부분)\n",
    "    # --source 부분을 filename으로 지정하면 될듯? 일단 사진 저장되는 위치를 파악하고 그 부분을 넣어야합니다.\n",
    "    image_path = r'C:/Users/smhrd/Yolov7_Detect/uploads'\n",
    "    # command = f'!python yolov7/detect.py --weights C:\\\\Users\\\\smhrd\\\\Yolov7_Detect\\\\yolov7\\\\runs\\\\train\\\\try3_now_best\\\\weights/best.pt --img-size 640 --conf 0.25 --source {image_path}/{filename} --save-txt'\n",
    "    command = [\n",
    "        'python', 'yolov7/detect.py',\n",
    "        '--weights', 'C:/Users/smhrd/Yolov7_Detect/yolov7/runs/train/try3_now_best/weights/best.pt',\n",
    "        '--img-size', '640',\n",
    "        '--conf', '0.25',\n",
    "        '--source', f'{image_path}/{filename}',\n",
    "        '--save-txt',\n",
    "        '--save-conf'\n",
    "    ]\n",
    "    # 시간이 오래 걸리니까 비동기적으로 명령을 실행하게 해주는\n",
    "    subprocess.run(command)\n",
    "\n",
    "@app.route('/send_class/<filename>', methods=['GET'])\n",
    "def send_class(filename):\n",
    "    txt_path = r'C:/Users/smhrd/Yolov7_Detect/img_results/labels'\n",
    "    file_name = filename[:-4]\n",
    "    with open(f'{txt_path}/{file_name}.txt', 'r') as f:\n",
    "        data = f.read()\n",
    "        \n",
    "    processed_data = process_data(data)\n",
    "    \n",
    "    return redirect(url_for('send_image', filename=filename, cnames=','.join(processed_data)))\n",
    "\n",
    "\n",
    "\n",
    "def process_data(data):\n",
    "    # 데이터 처리 로직\n",
    "    \n",
    "    # txt_string 문자열을 \\n 기준으로 분리하여 리스트로 저장\n",
    "    data = data.split('\\n')\n",
    "\n",
    "    # 리스트를 데이터프레임으로 변환\n",
    "    df = pd.DataFrame(data)\n",
    "\n",
    "    # 인덱스 열 추가\n",
    "    df.index = df.index + 1\n",
    "    \n",
    "    # 인덱스 열에 따른 변수 삽입\n",
    "    lst =[]\n",
    "    firstNum=df.iloc[0,0][:1]\n",
    "    secondNum=df.iloc[1,0][:1]\n",
    "    thirdNum=df.iloc[2,0][:1]\n",
    "    lst = [firstNum,secondNum,thirdNum]\n",
    "    \n",
    "    # 변수의 class number (0~7)에 따라 class명 한국어로 변경\n",
    "    # 많으면 3개 적으면 그릇 및 음식 명 2개임.\n",
    "    cName_lst=[]\n",
    "    for Num in lst:\n",
    "        if Num == '0':\n",
    "            Num = '콩밥'\n",
    "        elif Num == '1':\n",
    "            Num = '그릇'\n",
    "        elif Num =='2':\n",
    "            Num = '닭갈비'\n",
    "        elif Num =='3':\n",
    "            Num = '낙지볶음'\n",
    "        elif Num =='4':\n",
    "            Num = '돼지고기볶음'\n",
    "        elif Num =='5':\n",
    "            Num = '배추김치'\n",
    "        elif Num =='6':\n",
    "            Num = '00000000'\n",
    "        elif Num =='7':\n",
    "            Num = 'Unknown'\n",
    "        else:\n",
    "            Num = ''\n",
    "        cName_lst.append(Num)\n",
    "        \n",
    "    # cName_lst에 ''인 컬럼이 있을 경우 삭제하는 로직\n",
    "    while '' in cName_lst:\n",
    "        cName_lst.remove('')\n",
    "        \n",
    "    return cName_lst\n",
    "\n",
    "\n",
    "# 분석된 이미지를 화면에 보여주는 로직 => 성공\n",
    "@app.route('/send_image', methods=['GET'])\n",
    "# 여기서 매개변수에 filename을 넣어도 괜찮습니다.\n",
    "def send_image():\n",
    "    # 이미지 분석 파일 위치임다.\n",
    "    filename = request.args.get('filename')\n",
    "    cnames = request.args.get('cnames')\n",
    "    if cnames:\n",
    "        cnames = cnames.split(',')\n",
    "        print(cnames)\n",
    "    image_path = r'C:/Users/smhrd/Yolov7_Detect/img_results/'\n",
    "    origin_image_path = r'C:/Users/smhrd/Yolov7_Detect/uploads'\n",
    "    # 이건 항상 변할 수 있습니다. png를 넣으면 pgn가 나옴\n",
    "    img = f'{filename}'\n",
    "    image = os.path.join(image_path,img)\n",
    "    \n",
    "    # DB에 넣기 위해 mem_id를 불러온다면?\n",
    "    mem_id = f'{mem}'\n",
    "    analyze_path = image\n",
    "    origin_path = os.path.join(origin_image_path,img)\n",
    "    \n",
    "    # 여기서 path1, path2, mem_id, 식별할 수 있는 친구1 같이 넣기\n",
    "    \n",
    "    # 이미지를 로드하고 base64로 인코딩합니다.\n",
    "    def load_and_encode_image(path):\n",
    "        with open(path, \"rb\") as image_file:\n",
    "            encoded_image = base64.b64encode(image_file.read()).decode('utf-8')\n",
    "        return encoded_image\n",
    "    encoded_analyze_image = load_and_encode_image(analyze_path)\n",
    "    encoded_origin_image = load_and_encode_image(origin_path)\n",
    "    \n",
    "    \n",
    "    # 어짜피 플라스크에 연결된 웹은 1개니까 (내가 연결한거)\n",
    "    # 결과를 웹으로 보내주는 로직\n",
    "    return jsonify({\n",
    "        'analyze_image':encoded_analyze_image,\n",
    "        'origin_image':encoded_origin_image,\n",
    "        'cNames':cnames\n",
    "    })\n",
    "\n",
    "\n",
    "# 데이터베이스 연결\n",
    "def conn_database():\n",
    "    conn = cx_Oracle.connect(\n",
    "        user='foodhero',\n",
    "        password='12345',\n",
    "        dsn=cx_Oracle.makedsn('project-db-stu.ddns.net', 1524, service_name='xe')\n",
    "    )\n",
    "    return conn\n",
    "           \n",
    "# 데이터베이스 연결 테스트\n",
    "def test_connection():\n",
    "    try:\n",
    "        conn = conn_database()\n",
    "        print(\"OracleDB 연결 성공\")\n",
    "    except cx_Oracle.DatabaseError as e:\n",
    "        print(\"OracleDB 연결 실패:\", e)\n",
    "    finally:\n",
    "        if 'conn' in locals():\n",
    "            conn.close()\n",
    "test_connection()\n",
    "\n",
    "# 분석된 사진 및 이전 사진 등 사용자 정보를 저장하는 로직\n",
    "def save_db_data(mem_id, food_seq, food_img, analyze_img):\n",
    "    with conn.cursor() as cursor:\n",
    "        cursor.execute(\"\"\"\n",
    "            INSERT INTO MEMBER_DR (MEM_id, req_date, MLD, Food_seq, Food_img, Food_weight, analyze_img)\n",
    "            VALUES (:mem_id, NULL, NULL, :food_seq, :food_img, NULL, :analyze_img)\n",
    "        \"\"\", {'mem_id': mem_id,\n",
    "              'food_seq': food_seq,\n",
    "              'food_img': food_img,\n",
    "              'analyze_img': analyze_img})\n",
    "        conn.commit()\n",
    "\n",
    "# 플라스크 open.\n",
    "if __name__ == '__main__':\n",
    "    app.run(host='0.0.0.0', port=5000)"
   ]
  },
  {
   "cell_type": "code",
   "execution_count": null,
   "id": "10330987",
   "metadata": {},
   "outputs": [],
   "source": []
  }
 ],
 "metadata": {
  "kernelspec": {
   "display_name": "Python 3 (ipykernel)",
   "language": "python",
   "name": "python3"
  },
  "language_info": {
   "codemirror_mode": {
    "name": "ipython",
    "version": 3
   },
   "file_extension": ".py",
   "mimetype": "text/x-python",
   "name": "python",
   "nbconvert_exporter": "python",
   "pygments_lexer": "ipython3",
   "version": "3.9.16"
  },
  "toc": {
   "base_numbering": 1,
   "nav_menu": {},
   "number_sections": true,
   "sideBar": true,
   "skip_h1_title": false,
   "title_cell": "Table of Contents",
   "title_sidebar": "Contents",
   "toc_cell": false,
   "toc_position": {},
   "toc_section_display": true,
   "toc_window_display": false
  },
  "varInspector": {
   "cols": {
    "lenName": 16,
    "lenType": 16,
    "lenVar": 40
   },
   "kernels_config": {
    "python": {
     "delete_cmd_postfix": "",
     "delete_cmd_prefix": "del ",
     "library": "var_list.py",
     "varRefreshCmd": "print(var_dic_list())"
    },
    "r": {
     "delete_cmd_postfix": ") ",
     "delete_cmd_prefix": "rm(",
     "library": "var_list.r",
     "varRefreshCmd": "cat(var_dic_list()) "
    }
   },
   "types_to_exclude": [
    "module",
    "function",
    "builtin_function_or_method",
    "instance",
    "_Feature"
   ],
   "window_display": false
  }
 },
 "nbformat": 4,
 "nbformat_minor": 5
}
