{
 "cells": [
  {
   "cell_type": "code",
   "execution_count": 1,
   "id": "040a0f0b",
   "metadata": {
    "ExecuteTime": {
     "end_time": "2023-05-01T10:01:41.095634Z",
     "start_time": "2023-05-01T10:01:41.084662Z"
    }
   },
   "outputs": [],
   "source": [
    "# !pip list"
   ]
  },
  {
   "cell_type": "code",
   "execution_count": 2,
   "id": "62236dea",
   "metadata": {
    "ExecuteTime": {
     "end_time": "2023-05-01T10:01:42.847489Z",
     "start_time": "2023-05-01T10:01:42.835280Z"
    }
   },
   "outputs": [
    {
     "name": "stdout",
     "output_type": "stream",
     "text": [
      "C:\\Users\\smhrd\\Yolov7_Detect\n"
     ]
    }
   ],
   "source": [
    "%cd C:\\Users\\smhrd\\Yolov7_Detect"
   ]
  },
  {
   "cell_type": "code",
   "execution_count": 5,
   "id": "16ab9abd",
   "metadata": {
    "ExecuteTime": {
     "end_time": "2023-04-29T08:40:38.387589Z",
     "start_time": "2023-04-29T08:40:37.254691Z"
    }
   },
   "outputs": [
    {
     "name": "stderr",
     "output_type": "stream",
     "text": [
      "ERROR: Could not find a version that satisfies the requirement git (from versions: none)\n",
      "ERROR: No matching distribution found for git\n",
      "\n",
      "[notice] A new release of pip is available: 23.1 -> 23.1.2\n",
      "[notice] To update, run: python.exe -m pip install --upgrade pip\n"
     ]
    }
   ],
   "source": [
    "# !pip install git"
   ]
  },
  {
   "cell_type": "code",
   "execution_count": 4,
   "id": "7672c46f",
   "metadata": {
    "ExecuteTime": {
     "end_time": "2023-04-29T08:40:13.688028Z",
     "start_time": "2023-04-29T08:40:13.645457Z"
    }
   },
   "outputs": [
    {
     "name": "stderr",
     "output_type": "stream",
     "text": [
      "'git'은(는) 내부 또는 외부 명령, 실행할 수 있는 프로그램, 또는\n",
      "배치 파일이 아닙니다.\n"
     ]
    }
   ],
   "source": [
    "# !git clone https://github.com/WongKinYiu/yolov7.git"
   ]
  },
  {
   "cell_type": "code",
   "execution_count": 3,
   "id": "ad54148e",
   "metadata": {
    "ExecuteTime": {
     "end_time": "2023-05-01T10:01:45.505550Z",
     "start_time": "2023-05-01T10:01:45.444227Z"
    }
   },
   "outputs": [
    {
     "name": "stderr",
     "output_type": "stream",
     "text": [
      "'git'은(는) 내부 또는 외부 명령, 실행할 수 있는 프로그램, 또는\n",
      "배치 파일이 아닙니다.\n",
      "'git'은(는) 내부 또는 외부 명령, 실행할 수 있는 프로그램, 또는\n",
      "배치 파일이 아닙니다.\n"
     ]
    }
   ],
   "source": [
    "!git config --global user.email \"chj0253@gmail.com\"\n",
    "!git config --global user.name \"BusUserYM\""
   ]
  },
  {
   "cell_type": "code",
   "execution_count": 1,
   "id": "dc22457c",
   "metadata": {
    "ExecuteTime": {
     "end_time": "2023-05-02T01:15:51.882758Z",
     "start_time": "2023-05-02T01:15:51.870290Z"
    }
   },
   "outputs": [
    {
     "data": {
      "text/plain": [
       "'C:\\\\Users\\\\smhrd\\\\Yolov7_Detect'"
      ]
     },
     "execution_count": 1,
     "metadata": {},
     "output_type": "execute_result"
    }
   ],
   "source": [
    "%pwd"
   ]
  },
  {
   "cell_type": "code",
   "execution_count": 2,
   "id": "d958e539",
   "metadata": {
    "ExecuteTime": {
     "end_time": "2023-05-02T01:15:54.232952Z",
     "start_time": "2023-05-02T01:15:52.853082Z"
    }
   },
   "outputs": [],
   "source": [
    "import torch"
   ]
  },
  {
   "cell_type": "code",
   "execution_count": 80,
   "id": "c10b8eda",
   "metadata": {
    "ExecuteTime": {
     "end_time": "2023-05-01T09:07:38.914567Z",
     "start_time": "2023-05-01T09:07:28.543373Z"
    },
    "scrolled": false
   },
   "outputs": [
    {
     "name": "stdout",
     "output_type": "stream",
     "text": [
      "Namespace(weights=['C:\\\\Users\\\\smhrd\\\\Yolov7_Detect\\\\yolov7\\\\runs\\\\train\\\\try3_now_best\\\\weights/best.pt'], source='C:\\\\Users\\\\smhrd\\\\Yolov7_Detect/22.jpg', img_size=640, conf_thres=0.25, iou_thres=0.45, device='', view_img=False, save_txt=True, save_conf=False, nosave=False, classes=None, agnostic_nms=False, augment=False, update=False, project='runs/detect', name='exp', exist_ok=False, no_trace=False)\n",
      "Fusing layers... \n",
      "RepConv.fuse_repvgg_block\n",
      "RepConv.fuse_repvgg_block\n",
      "RepConv.fuse_repvgg_block\n",
      "IDetect.fuse\n",
      " Convert model to Traced-model... \n",
      " traced_script_module saved! \n",
      " model is traced! \n",
      "\n",
      "1 bowl, 1 cabbage-for-kimchi, Done. (880.1ms) Inference, (0.0ms) NMS\n",
      " The image with the result is saved in: C:\\Users\\smhrd\\Yolov7_Detect\\img_results\\22.jpg\n",
      "Done. (0.896s)\n"
     ]
    },
    {
     "name": "stderr",
     "output_type": "stream",
     "text": [
      "YOLOR  2023-4-13 torch 2.0.0+cpu CPU\n",
      "\n",
      "C:\\Users\\smhrd\\anaconda3\\lib\\site-packages\\torch\\functional.py:504: UserWarning: torch.meshgrid: in an upcoming release, it will be required to pass the indexing argument. (Triggered internally at C:\\actions-runner\\_work\\pytorch\\pytorch\\builder\\windows\\pytorch\\aten\\src\\ATen\\native\\TensorShape.cpp:3484.)\n",
      "  return _VF.meshgrid(tensors, **kwargs)  # type: ignore[attr-defined]\n",
      "Model Summary: 314 layers, 36519530 parameters, 6194944 gradients, 103.3 GFLOPS\n"
     ]
    }
   ],
   "source": [
    "!python yolov7/detect.py --weights C:\\Users\\smhrd\\Yolov7_Detect\\yolov7\\runs\\train\\try3_now_best\\weights/best.pt --img-size 640 --conf 0.25 --source C:\\Users\\smhrd\\Yolov7_Detect/22.jpg --save-txt"
   ]
  },
  {
   "cell_type": "markdown",
   "id": "5ca01bd6",
   "metadata": {},
   "source": [
    "- 하드코딩? 그런느낌 왜냐? 내 실력이부족"
   ]
  },
  {
   "cell_type": "code",
   "execution_count": 1,
   "id": "fdfd775a",
   "metadata": {
    "ExecuteTime": {
     "end_time": "2023-05-03T01:10:43.677438Z",
     "start_time": "2023-05-03T01:10:43.673455Z"
    }
   },
   "outputs": [
    {
     "name": "stdout",
     "output_type": "stream",
     "text": [
      "1 0.5 0.513333 1 0.833333 0.899757\n",
      "5 0.495 0.426667 0.85 0.686667 0.916491\n",
      "\n"
     ]
    }
   ],
   "source": [
    "# 먼길 돌아가자.... 하...\n",
    "# 여기서 22.txt 에 속하는 파일 이름을 변경해야 합니다. txt파일이 성되는 위치로! 이름은 받아오는 파일 이름으로.\n",
    "with open('C:/Users/smhrd/Yolov7_Detect/img_results/labels/0010040000012.txt', 'r') as f:\n",
    "    txt_string = f.read()\n",
    "print(txt_string)"
   ]
  },
  {
   "cell_type": "code",
   "execution_count": 2,
   "id": "4ec57d18",
   "metadata": {
    "ExecuteTime": {
     "end_time": "2023-05-03T01:10:46.123683Z",
     "start_time": "2023-05-03T01:10:45.840011Z"
    }
   },
   "outputs": [],
   "source": [
    "import numpy as np\n",
    "import pandas as pd"
   ]
  },
  {
   "cell_type": "code",
   "execution_count": 8,
   "id": "487ee691",
   "metadata": {
    "ExecuteTime": {
     "end_time": "2023-05-03T01:19:48.732501Z",
     "start_time": "2023-05-03T01:19:48.720560Z"
    }
   },
   "outputs": [
    {
     "name": "stdout",
     "output_type": "stream",
     "text": [
      "                                         0\n",
      "1       1 0.5 0.513333 1 0.833333 0.899757\n",
      "2  5 0.495 0.426667 0.85 0.686667 0.916491\n",
      "3                                         \n"
     ]
    }
   ],
   "source": [
    "# txt_string 문자열을 \\n 기준으로 분리하여 리스트로 저장\n",
    "txt_list = txt_string.split('\\n')\n",
    "\n",
    "\n",
    "# 리스트를 데이터프레임으로 변환\n",
    "txt_df = pd.DataFrame(txt_list)\n",
    "\n",
    "# 인덱스 열 추가\n",
    "txt_df.index = txt_df.index + 1\n",
    "\n",
    "# 데이터프레임 출력\n",
    "df = txt_df\n",
    "print(df)"
   ]
  },
  {
   "cell_type": "code",
   "execution_count": 12,
   "id": "b53b5b66",
   "metadata": {
    "ExecuteTime": {
     "end_time": "2023-05-03T01:20:25.759574Z",
     "start_time": "2023-05-03T01:20:25.743952Z"
    },
    "scrolled": true
   },
   "outputs": [
    {
     "name": "stdout",
     "output_type": "stream",
     "text": [
      "{'Num0': '1', 'Num1': '5', 'Num2': ''}\n",
      "1\n"
     ]
    }
   ],
   "source": [
    "# 인덱스 열에 따른 변수 삽입\n",
    "# 사진에 객체가 많아지면 애들 갯수도 많아집니다; \n",
    "num_dict = {}\n",
    "for i in range(len(df)):\n",
    "    num_dict[f'Num{i}'] = df.iloc[i,0][:1]\n",
    "print(num_dict)\n",
    "print(num_dict['Num0'])"
   ]
  },
  {
   "cell_type": "code",
   "execution_count": 13,
   "id": "943cbd55",
   "metadata": {
    "ExecuteTime": {
     "end_time": "2023-05-03T05:44:29.261820Z",
     "start_time": "2023-05-03T05:44:29.241873Z"
    }
   },
   "outputs": [
    {
     "name": "stdout",
     "output_type": "stream",
     "text": [
      "['그릇', '배추김치']\n"
     ]
    }
   ],
   "source": [
    "cName_lst = []\n",
    "for Num in num_dict:\n",
    "    if num_dict[Num] == '0':\n",
    "        cName_lst.append('콩밥')\n",
    "    elif num_dict[Num] == '1':\n",
    "        cName_lst.append('그릇')\n",
    "    elif num_dict[Num] == '2':\n",
    "        cName_lst.append('닭갈비')\n",
    "    elif num_dict[Num] == '3':\n",
    "        cName_lst.append('낙지볶음')\n",
    "    elif num_dict[Num] == '4':\n",
    "        cName_lst.append('돼지고기볶음')\n",
    "    elif num_dict[Num] == '5':\n",
    "        cName_lst.append('배추김치')\n",
    "    elif num_dict[Num] == '6':\n",
    "        cName_lst.append('00000000')\n",
    "    elif num_dict[Num] == '7':\n",
    "        cName_lst.append('Unknown')\n",
    "        \n",
    "# cName_lst에 ''인 컬럼이 있을 경우 삭제하는 로직\n",
    "cName_lst = [cName for cName in cName_lst if cName != '']\n",
    "print(cName_lst)"
   ]
  },
  {
   "cell_type": "code",
   "execution_count": 14,
   "id": "c60e5362",
   "metadata": {
    "ExecuteTime": {
     "end_time": "2023-05-03T05:44:41.092432Z",
     "start_time": "2023-05-03T05:44:41.080465Z"
    }
   },
   "outputs": [
    {
     "data": {
      "text/plain": [
       "''"
      ]
     },
     "execution_count": 14,
     "metadata": {},
     "output_type": "execute_result"
    }
   ],
   "source": [
    "txt_df.iloc[2,0][:1]"
   ]
  },
  {
   "cell_type": "code",
   "execution_count": 7,
   "id": "6d3bb153",
   "metadata": {
    "ExecuteTime": {
     "end_time": "2023-05-02T01:15:58.122557Z",
     "start_time": "2023-05-02T01:15:58.106899Z"
    }
   },
   "outputs": [
    {
     "name": "stdout",
     "output_type": "stream",
     "text": [
      "yes\n"
     ]
    }
   ],
   "source": [
    "if txt_df.iloc[2,0][:1] == False:\n",
    "    print(\"no\")\n",
    "else:\n",
    "    print(\"yes\")"
   ]
  },
  {
   "cell_type": "code",
   "execution_count": 8,
   "id": "e05d4d73",
   "metadata": {
    "ExecuteTime": {
     "end_time": "2023-05-02T01:15:58.555804Z",
     "start_time": "2023-05-02T01:15:58.540182Z"
    }
   },
   "outputs": [
    {
     "data": {
      "text/plain": [
       "['5', '1', '']"
      ]
     },
     "execution_count": 8,
     "metadata": {},
     "output_type": "execute_result"
    }
   ],
   "source": [
    "lst =[]\n",
    "firstNum=txt_df.iloc[0,0][:1]\n",
    "secondNum=txt_df.iloc[1,0][:1]\n",
    "thirdNum=txt_df.iloc[2,0][:1]\n",
    "lst = [firstNum,secondNum,thirdNum]\n",
    "lst"
   ]
  },
  {
   "cell_type": "code",
   "execution_count": 9,
   "id": "c0e6558b",
   "metadata": {
    "ExecuteTime": {
     "end_time": "2023-05-02T01:15:59.087269Z",
     "start_time": "2023-05-02T01:15:59.068888Z"
    }
   },
   "outputs": [
    {
     "name": "stdout",
     "output_type": "stream",
     "text": [
      "good\n"
     ]
    }
   ],
   "source": [
    "if firstNum == '5':\n",
    "    print('good')\n",
    "else:\n",
    "    print('bad')"
   ]
  },
  {
   "cell_type": "code",
   "execution_count": 10,
   "id": "693c8a77",
   "metadata": {
    "ExecuteTime": {
     "end_time": "2023-05-02T01:16:01.160894Z",
     "start_time": "2023-05-02T01:16:01.150018Z"
    }
   },
   "outputs": [
    {
     "name": "stdout",
     "output_type": "stream",
     "text": [
      "['배추김치', '그릇', '']\n"
     ]
    }
   ],
   "source": [
    "real_lst=[]\n",
    "for Num in lst:\n",
    "    if Num == '0':\n",
    "        Num = '콩밥'\n",
    "    elif Num == '1':\n",
    "        Num = '그릇'\n",
    "    elif Num =='2':\n",
    "        Num = '닭갈비'\n",
    "    elif Num =='3':\n",
    "        Num = '낙지볶음'\n",
    "    elif Num =='4':\n",
    "        Num = '돼지고기볶음'\n",
    "    elif Num =='5':\n",
    "        Num = '배추김치'\n",
    "    elif Num =='6':\n",
    "        Num = '00000000'\n",
    "    elif Num =='7':\n",
    "        Num = 'Unknown'\n",
    "    else:\n",
    "        Num = ''\n",
    "    real_lst.append(Num)\n",
    "print(real_lst)"
   ]
  },
  {
   "cell_type": "code",
   "execution_count": 11,
   "id": "4ba5cc60",
   "metadata": {
    "ExecuteTime": {
     "end_time": "2023-05-02T01:16:25.582035Z",
     "start_time": "2023-05-02T01:16:25.574057Z"
    }
   },
   "outputs": [
    {
     "name": "stdout",
     "output_type": "stream",
     "text": [
      "['배추김치', '그릇']\n"
     ]
    }
   ],
   "source": [
    "while '' in real_lst:\n",
    "        real_lst.remove('')\n",
    "print(real_lst)"
   ]
  },
  {
   "cell_type": "code",
   "execution_count": 38,
   "id": "161baab5",
   "metadata": {
    "ExecuteTime": {
     "end_time": "2023-05-01T10:08:13.869928Z",
     "start_time": "2023-05-01T10:08:13.858716Z"
    }
   },
   "outputs": [
    {
     "name": "stdout",
     "output_type": "stream",
     "text": [
      "['배추김치', '그릇']\n"
     ]
    }
   ],
   "source": [
    "for i in range(len(real_lst)):\n",
    "    if real_lst[i] == '':\n",
    "        del real_lst[i]\n",
    "    else:\n",
    "        real_lst = real_lst\n",
    "print(real_lst)"
   ]
  },
  {
   "cell_type": "code",
   "execution_count": null,
   "id": "fb37f8cd",
   "metadata": {},
   "outputs": [],
   "source": []
  }
 ],
 "metadata": {
  "kernelspec": {
   "display_name": "yolov7",
   "language": "python",
   "name": "yolov7"
  },
  "language_info": {
   "codemirror_mode": {
    "name": "ipython",
    "version": 3
   },
   "file_extension": ".py",
   "mimetype": "text/x-python",
   "name": "python",
   "nbconvert_exporter": "python",
   "pygments_lexer": "ipython3",
   "version": "3.9.16"
  },
  "toc": {
   "base_numbering": 1,
   "nav_menu": {},
   "number_sections": true,
   "sideBar": true,
   "skip_h1_title": false,
   "title_cell": "Table of Contents",
   "title_sidebar": "Contents",
   "toc_cell": false,
   "toc_position": {},
   "toc_section_display": true,
   "toc_window_display": false
  },
  "varInspector": {
   "cols": {
    "lenName": 16,
    "lenType": 16,
    "lenVar": 40
   },
   "kernels_config": {
    "python": {
     "delete_cmd_postfix": "",
     "delete_cmd_prefix": "del ",
     "library": "var_list.py",
     "varRefreshCmd": "print(var_dic_list())"
    },
    "r": {
     "delete_cmd_postfix": ") ",
     "delete_cmd_prefix": "rm(",
     "library": "var_list.r",
     "varRefreshCmd": "cat(var_dic_list()) "
    }
   },
   "types_to_exclude": [
    "module",
    "function",
    "builtin_function_or_method",
    "instance",
    "_Feature"
   ],
   "window_display": false
  }
 },
 "nbformat": 4,
 "nbformat_minor": 5
}
