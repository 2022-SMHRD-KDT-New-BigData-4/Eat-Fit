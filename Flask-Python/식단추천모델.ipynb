{
 "cells": [
  {
   "cell_type": "markdown",
   "metadata": {
    "id": "ioBES8115hTf"
   },
   "source": [
    "영양 상태를 기반으로 영양제 추천 -> 식단 추천으로 얼마든지 변경이 가능하다는 생각\n",
    "\n",
    "Cosine similarity 최대화 방향성 -> 이친구가 더 좋다는듯?\n",
    "SSE(편차 제곱) 최소화 방향성 -> ㄴㄴ\n",
    "\n",
    "어떤 식으로 다가가야 할 지 고민해야 합니다.\n",
    "\n",
    "-> 예시를 들어서\n",
    "        \n",
    "        표준화 모델이니까 반반떄리다 치고\n",
    "\n",
    "        1. 남은 영양성분\n",
    "\n",
    "        2. 먹은 아점저 정보 (식단관리창에서)\n",
    "\n",
    "        3. 아/점/저 -> 33% 해가지고 이렇게 하자? ㅇㅋ \n",
    "\n",
    "        4. 건강한 식단을 위해서는 아침>점심>저녁 인데 이걸 어캐 표현을 하나?\n",
    "\n",
    "        5. 머신러닝 뭘로 할지? \n",
    "        - Cosine similarity인데....        \n",
    "\n",
    "기본 식 -> 일일 활동량 비교해서 만듬 -> DB에서 해줄꺼고\n",
    "음식영양성분 데이터 있으니까 여기서 URL을 담아둔 친구들을 사용해야 합니다.\n"
   ]
  },
  {
   "cell_type": "markdown",
   "metadata": {},
   "source": [
    "무엇을 받아올까요?\n",
    "\n",
    "- 웹에서 받아올 수 있는 부분\n",
    "1. 무엇을 먹었는지 -> 남은 탄,단,지,열량\n",
    "2. 아침,점심,저녁을 먹었는지 안먹었는지 -=> 이건 해야함."
   ]
  },
  {
   "cell_type": "code",
   "execution_count": 1,
   "metadata": {
    "ExecuteTime": {
     "end_time": "2023-05-04T02:40:15.760165Z",
     "start_time": "2023-05-04T02:40:15.410925Z"
    },
    "executionInfo": {
     "elapsed": 7,
     "status": "ok",
     "timestamp": 1682669808975,
     "user": {
      "displayName": "박영민",
      "userId": "04191993295448905608"
     },
     "user_tz": -540
    },
    "id": "1xo_pG-yZPff"
   },
   "outputs": [],
   "source": [
    "import os\n",
    "import numpy as np\n",
    "import pandas as pd\n",
    "from datetime import datetime, timedelta\n",
    "import json\n",
    "from tqdm import tqdm\n",
    "import re\n",
    "import sys"
   ]
  },
  {
   "cell_type": "code",
   "execution_count": 2,
   "metadata": {
    "ExecuteTime": {
     "end_time": "2023-05-04T02:40:17.849992Z",
     "start_time": "2023-05-04T02:40:17.840019Z"
    },
    "colab": {
     "base_uri": "https://localhost:8080/"
    },
    "executionInfo": {
     "elapsed": 6,
     "status": "ok",
     "timestamp": 1682669808975,
     "user": {
      "displayName": "박영민",
      "userId": "04191993295448905608"
     },
     "user_tz": -540
    },
    "id": "y4XU6wZSZyPm",
    "outputId": "b41dca03-f386-41b0-8758-b65c148d72b0"
   },
   "outputs": [
    {
     "data": {
      "text/plain": [
       "'C:\\\\Users\\\\smhrd\\\\Yolov7_Detect'"
      ]
     },
     "execution_count": 2,
     "metadata": {},
     "output_type": "execute_result"
    }
   ],
   "source": [
    "%pwd"
   ]
  },
  {
   "cell_type": "code",
   "execution_count": 3,
   "metadata": {
    "ExecuteTime": {
     "end_time": "2023-05-04T02:40:35.830304Z",
     "start_time": "2023-05-04T02:40:17.944522Z"
    },
    "colab": {
     "base_uri": "https://localhost:8080/",
     "height": 624
    },
    "executionInfo": {
     "elapsed": 26915,
     "status": "ok",
     "timestamp": 1682670143435,
     "user": {
      "displayName": "박영민",
      "userId": "04191993295448905608"
     },
     "user_tz": -540
    },
    "id": "VJ2b5nfsZW5g",
    "outputId": "a8372815-9d39-4bd5-fc19-0924ef56ef34"
   },
   "outputs": [
    {
     "data": {
      "text/html": [
       "<div>\n",
       "<style scoped>\n",
       "    .dataframe tbody tr th:only-of-type {\n",
       "        vertical-align: middle;\n",
       "    }\n",
       "\n",
       "    .dataframe tbody tr th {\n",
       "        vertical-align: top;\n",
       "    }\n",
       "\n",
       "    .dataframe thead th {\n",
       "        text-align: right;\n",
       "    }\n",
       "</style>\n",
       "<table border=\"1\" class=\"dataframe\">\n",
       "  <thead>\n",
       "    <tr style=\"text-align: right;\">\n",
       "      <th></th>\n",
       "      <th>FOOD_SEQ</th>\n",
       "      <th>음식명</th>\n",
       "      <th>레시피</th>\n",
       "      <th>한중일양</th>\n",
       "      <th>밥국반메면</th>\n",
       "      <th>식품군</th>\n",
       "      <th>제조사명</th>\n",
       "      <th>지역명</th>\n",
       "      <th>중량</th>\n",
       "      <th>열량(kcal)</th>\n",
       "      <th>탄수화물(g)</th>\n",
       "      <th>단백질(g)</th>\n",
       "      <th>지방(g)</th>\n",
       "      <th>당류(g)</th>\n",
       "      <th>나트륨(mg)</th>\n",
       "      <th>콜레스트롤(mg)</th>\n",
       "      <th>포화지방산(g)</th>\n",
       "      <th>트랜스지방(g)</th>\n",
       "    </tr>\n",
       "  </thead>\n",
       "  <tbody>\n",
       "    <tr>\n",
       "      <th>0</th>\n",
       "      <td>1</td>\n",
       "      <td>꿩불고기</td>\n",
       "      <td>https://www.youtube.com/embed/rl5xaIdHjPY</td>\n",
       "      <td>북</td>\n",
       "      <td>메</td>\n",
       "      <td>NaN</td>\n",
       "      <td>NaN</td>\n",
       "      <td>충주</td>\n",
       "      <td>500.0</td>\n",
       "      <td>368.80</td>\n",
       "      <td>39.70</td>\n",
       "      <td>33.50</td>\n",
       "      <td>8.50</td>\n",
       "      <td>16.90</td>\n",
       "      <td>1264.31</td>\n",
       "      <td>106.18</td>\n",
       "      <td>1.90</td>\n",
       "      <td>0.10</td>\n",
       "    </tr>\n",
       "    <tr>\n",
       "      <th>1</th>\n",
       "      <td>2</td>\n",
       "      <td>닭갈비</td>\n",
       "      <td>https://www.youtube.com/embed/HI8DlDs1gko</td>\n",
       "      <td>한</td>\n",
       "      <td>메</td>\n",
       "      <td>NaN</td>\n",
       "      <td>NaN</td>\n",
       "      <td>전국(대표)</td>\n",
       "      <td>400.0</td>\n",
       "      <td>595.61</td>\n",
       "      <td>44.90</td>\n",
       "      <td>45.90</td>\n",
       "      <td>25.80</td>\n",
       "      <td>21.20</td>\n",
       "      <td>1535.83</td>\n",
       "      <td>193.40</td>\n",
       "      <td>6.00</td>\n",
       "      <td>0.20</td>\n",
       "    </tr>\n",
       "    <tr>\n",
       "      <th>2</th>\n",
       "      <td>3</td>\n",
       "      <td>닭갈비</td>\n",
       "      <td>https://www.youtube.com/embed/HI8DlDs1gko</td>\n",
       "      <td>한</td>\n",
       "      <td>메</td>\n",
       "      <td>NaN</td>\n",
       "      <td>NaN</td>\n",
       "      <td>춘천</td>\n",
       "      <td>300.0</td>\n",
       "      <td>558.47</td>\n",
       "      <td>23.10</td>\n",
       "      <td>45.50</td>\n",
       "      <td>31.60</td>\n",
       "      <td>8.50</td>\n",
       "      <td>1016.94</td>\n",
       "      <td>217.67</td>\n",
       "      <td>11.30</td>\n",
       "      <td>0.30</td>\n",
       "    </tr>\n",
       "    <tr>\n",
       "      <th>3</th>\n",
       "      <td>4</td>\n",
       "      <td>닭꼬치</td>\n",
       "      <td>https://www.youtube.com/embed/1xrcjy6eX7M</td>\n",
       "      <td>한</td>\n",
       "      <td>메</td>\n",
       "      <td>NaN</td>\n",
       "      <td>NaN</td>\n",
       "      <td>전국(대표)</td>\n",
       "      <td>70.0</td>\n",
       "      <td>176.72</td>\n",
       "      <td>13.35</td>\n",
       "      <td>11.56</td>\n",
       "      <td>8.57</td>\n",
       "      <td>3.15</td>\n",
       "      <td>286.91</td>\n",
       "      <td>31.44</td>\n",
       "      <td>2.32</td>\n",
       "      <td>0.04</td>\n",
       "    </tr>\n",
       "    <tr>\n",
       "      <th>4</th>\n",
       "      <td>5</td>\n",
       "      <td>더덕구이</td>\n",
       "      <td>https://www.youtube.com/embed/ir4Z2IyFIvM</td>\n",
       "      <td>한</td>\n",
       "      <td>반</td>\n",
       "      <td>NaN</td>\n",
       "      <td>NaN</td>\n",
       "      <td>전국(대표)</td>\n",
       "      <td>100.0</td>\n",
       "      <td>184.00</td>\n",
       "      <td>31.10</td>\n",
       "      <td>3.10</td>\n",
       "      <td>5.20</td>\n",
       "      <td>11.60</td>\n",
       "      <td>743.37</td>\n",
       "      <td>0.12</td>\n",
       "      <td>0.80</td>\n",
       "      <td>0.00</td>\n",
       "    </tr>\n",
       "    <tr>\n",
       "      <th>...</th>\n",
       "      <td>...</td>\n",
       "      <td>...</td>\n",
       "      <td>...</td>\n",
       "      <td>...</td>\n",
       "      <td>...</td>\n",
       "      <td>...</td>\n",
       "      <td>...</td>\n",
       "      <td>...</td>\n",
       "      <td>...</td>\n",
       "      <td>...</td>\n",
       "      <td>...</td>\n",
       "      <td>...</td>\n",
       "      <td>...</td>\n",
       "      <td>...</td>\n",
       "      <td>...</td>\n",
       "      <td>...</td>\n",
       "      <td>...</td>\n",
       "      <td>...</td>\n",
       "    </tr>\n",
       "    <tr>\n",
       "      <th>90603</th>\n",
       "      <td>90604</td>\n",
       "      <td>코코아, 가루</td>\n",
       "      <td>NaN</td>\n",
       "      <td>NaN</td>\n",
       "      <td>NaN</td>\n",
       "      <td>차류</td>\n",
       "      <td>NaN</td>\n",
       "      <td>전국(대표)</td>\n",
       "      <td>100.0</td>\n",
       "      <td>268.00</td>\n",
       "      <td>43.63</td>\n",
       "      <td>22.85</td>\n",
       "      <td>20.06</td>\n",
       "      <td>0.49</td>\n",
       "      <td>24.00</td>\n",
       "      <td>0.00</td>\n",
       "      <td>12.11</td>\n",
       "      <td>0.01</td>\n",
       "    </tr>\n",
       "    <tr>\n",
       "      <th>90604</th>\n",
       "      <td>90605</td>\n",
       "      <td>홍삼차, 액상</td>\n",
       "      <td>NaN</td>\n",
       "      <td>NaN</td>\n",
       "      <td>NaN</td>\n",
       "      <td>차류</td>\n",
       "      <td>NaN</td>\n",
       "      <td>전국(대표)</td>\n",
       "      <td>100.0</td>\n",
       "      <td>40.00</td>\n",
       "      <td>9.27</td>\n",
       "      <td>0.28</td>\n",
       "      <td>0.24</td>\n",
       "      <td>6.32</td>\n",
       "      <td>4.00</td>\n",
       "      <td>0.00</td>\n",
       "      <td>0.00</td>\n",
       "      <td>0.00</td>\n",
       "    </tr>\n",
       "    <tr>\n",
       "      <th>90605</th>\n",
       "      <td>90606</td>\n",
       "      <td>홍차, 복숭아, 가루</td>\n",
       "      <td>NaN</td>\n",
       "      <td>NaN</td>\n",
       "      <td>NaN</td>\n",
       "      <td>차류</td>\n",
       "      <td>NaN</td>\n",
       "      <td>전국(대표)</td>\n",
       "      <td>100.0</td>\n",
       "      <td>397.00</td>\n",
       "      <td>98.12</td>\n",
       "      <td>0.32</td>\n",
       "      <td>0.38</td>\n",
       "      <td>42.31</td>\n",
       "      <td>41.00</td>\n",
       "      <td>0.00</td>\n",
       "      <td>0.00</td>\n",
       "      <td>0.00</td>\n",
       "    </tr>\n",
       "    <tr>\n",
       "      <th>90606</th>\n",
       "      <td>90607</td>\n",
       "      <td>마요네즈, 저칼로리</td>\n",
       "      <td>NaN</td>\n",
       "      <td>NaN</td>\n",
       "      <td>NaN</td>\n",
       "      <td>조미료류</td>\n",
       "      <td>NaN</td>\n",
       "      <td>전국(대표)</td>\n",
       "      <td>100.0</td>\n",
       "      <td>341.00</td>\n",
       "      <td>12.35</td>\n",
       "      <td>0.89</td>\n",
       "      <td>31.97</td>\n",
       "      <td>3.56</td>\n",
       "      <td>600.00</td>\n",
       "      <td>23.72</td>\n",
       "      <td>3.96</td>\n",
       "      <td>0.22</td>\n",
       "    </tr>\n",
       "    <tr>\n",
       "      <th>90607</th>\n",
       "      <td>90608</td>\n",
       "      <td>인삼, 수삼, 삶은것</td>\n",
       "      <td>NaN</td>\n",
       "      <td>NaN</td>\n",
       "      <td>NaN</td>\n",
       "      <td>기타</td>\n",
       "      <td>NaN</td>\n",
       "      <td>전국(대표)</td>\n",
       "      <td>100.0</td>\n",
       "      <td>86.00</td>\n",
       "      <td>18.23</td>\n",
       "      <td>3.54</td>\n",
       "      <td>0.69</td>\n",
       "      <td>9.18</td>\n",
       "      <td>10.00</td>\n",
       "      <td>0.00</td>\n",
       "      <td>0.05</td>\n",
       "      <td>0.00</td>\n",
       "    </tr>\n",
       "  </tbody>\n",
       "</table>\n",
       "<p>90608 rows × 18 columns</p>\n",
       "</div>"
      ],
      "text/plain": [
       "       FOOD_SEQ          음식명                                        레시피 한중일양  \\\n",
       "0             1         꿩불고기  https://www.youtube.com/embed/rl5xaIdHjPY    북   \n",
       "1             2          닭갈비  https://www.youtube.com/embed/HI8DlDs1gko    한   \n",
       "2             3          닭갈비  https://www.youtube.com/embed/HI8DlDs1gko    한   \n",
       "3             4          닭꼬치  https://www.youtube.com/embed/1xrcjy6eX7M    한   \n",
       "4             5         더덕구이  https://www.youtube.com/embed/ir4Z2IyFIvM    한   \n",
       "...         ...          ...                                        ...  ...   \n",
       "90603     90604      코코아, 가루                                        NaN  NaN   \n",
       "90604     90605      홍삼차, 액상                                        NaN  NaN   \n",
       "90605     90606  홍차, 복숭아, 가루                                        NaN  NaN   \n",
       "90606     90607   마요네즈, 저칼로리                                        NaN  NaN   \n",
       "90607     90608  인삼, 수삼, 삶은것                                        NaN  NaN   \n",
       "\n",
       "      밥국반메면   식품군 제조사명     지역명     중량  열량(kcal)  탄수화물(g)  단백질(g)  지방(g)  \\\n",
       "0         메   NaN  NaN      충주  500.0    368.80    39.70   33.50   8.50   \n",
       "1         메   NaN  NaN  전국(대표)  400.0    595.61    44.90   45.90  25.80   \n",
       "2         메   NaN  NaN      춘천  300.0    558.47    23.10   45.50  31.60   \n",
       "3         메   NaN  NaN  전국(대표)   70.0    176.72    13.35   11.56   8.57   \n",
       "4         반   NaN  NaN  전국(대표)  100.0    184.00    31.10    3.10   5.20   \n",
       "...     ...   ...  ...     ...    ...       ...      ...     ...    ...   \n",
       "90603   NaN    차류  NaN  전국(대표)  100.0    268.00    43.63   22.85  20.06   \n",
       "90604   NaN    차류  NaN  전국(대표)  100.0     40.00     9.27    0.28   0.24   \n",
       "90605   NaN    차류  NaN  전국(대표)  100.0    397.00    98.12    0.32   0.38   \n",
       "90606   NaN  조미료류  NaN  전국(대표)  100.0    341.00    12.35    0.89  31.97   \n",
       "90607   NaN    기타  NaN  전국(대표)  100.0     86.00    18.23    3.54   0.69   \n",
       "\n",
       "       당류(g)  나트륨(mg)  콜레스트롤(mg)  포화지방산(g)  트랜스지방(g)  \n",
       "0      16.90  1264.31     106.18      1.90      0.10  \n",
       "1      21.20  1535.83     193.40      6.00      0.20  \n",
       "2       8.50  1016.94     217.67     11.30      0.30  \n",
       "3       3.15   286.91      31.44      2.32      0.04  \n",
       "4      11.60   743.37       0.12      0.80      0.00  \n",
       "...      ...      ...        ...       ...       ...  \n",
       "90603   0.49    24.00       0.00     12.11      0.01  \n",
       "90604   6.32     4.00       0.00      0.00      0.00  \n",
       "90605  42.31    41.00       0.00      0.00      0.00  \n",
       "90606   3.56   600.00      23.72      3.96      0.22  \n",
       "90607   9.18    10.00       0.00      0.05      0.00  \n",
       "\n",
       "[90608 rows x 18 columns]"
      ]
     },
     "execution_count": 3,
     "metadata": {},
     "output_type": "execute_result"
    }
   ],
   "source": [
    "data = pd.read_excel(r'C:/Users/smhrd/food_info_.xlsx')\n",
    "data"
   ]
  },
  {
   "cell_type": "code",
   "execution_count": 4,
   "metadata": {
    "ExecuteTime": {
     "end_time": "2023-05-04T02:40:35.937823Z",
     "start_time": "2023-05-04T02:40:35.923892Z"
    },
    "colab": {
     "base_uri": "https://localhost:8080/",
     "height": 143
    },
    "executionInfo": {
     "elapsed": 10,
     "status": "ok",
     "timestamp": 1682670143435,
     "user": {
      "displayName": "박영민",
      "userId": "04191993295448905608"
     },
     "user_tz": -540
    },
    "id": "ftw2qUVhZ5f2",
    "outputId": "fb49f96f-df31-4d06-b068-861467a96d0c"
   },
   "outputs": [
    {
     "data": {
      "text/html": [
       "<div>\n",
       "<style scoped>\n",
       "    .dataframe tbody tr th:only-of-type {\n",
       "        vertical-align: middle;\n",
       "    }\n",
       "\n",
       "    .dataframe tbody tr th {\n",
       "        vertical-align: top;\n",
       "    }\n",
       "\n",
       "    .dataframe thead th {\n",
       "        text-align: right;\n",
       "    }\n",
       "</style>\n",
       "<table border=\"1\" class=\"dataframe\">\n",
       "  <thead>\n",
       "    <tr style=\"text-align: right;\">\n",
       "      <th></th>\n",
       "      <th>FOOD_SEQ</th>\n",
       "      <th>음식명</th>\n",
       "      <th>레시피</th>\n",
       "      <th>한중일양</th>\n",
       "      <th>밥국반메면</th>\n",
       "      <th>식품군</th>\n",
       "      <th>제조사명</th>\n",
       "      <th>지역명</th>\n",
       "      <th>중량</th>\n",
       "      <th>열량(kcal)</th>\n",
       "      <th>탄수화물(g)</th>\n",
       "      <th>단백질(g)</th>\n",
       "      <th>지방(g)</th>\n",
       "      <th>당류(g)</th>\n",
       "      <th>나트륨(mg)</th>\n",
       "      <th>콜레스트롤(mg)</th>\n",
       "      <th>포화지방산(g)</th>\n",
       "      <th>트랜스지방(g)</th>\n",
       "    </tr>\n",
       "  </thead>\n",
       "  <tbody>\n",
       "    <tr>\n",
       "      <th>0</th>\n",
       "      <td>1</td>\n",
       "      <td>꿩불고기</td>\n",
       "      <td>https://www.youtube.com/embed/rl5xaIdHjPY</td>\n",
       "      <td>북</td>\n",
       "      <td>메</td>\n",
       "      <td>NaN</td>\n",
       "      <td>NaN</td>\n",
       "      <td>충주</td>\n",
       "      <td>500.0</td>\n",
       "      <td>368.80</td>\n",
       "      <td>39.7</td>\n",
       "      <td>33.5</td>\n",
       "      <td>8.5</td>\n",
       "      <td>16.9</td>\n",
       "      <td>1264.31</td>\n",
       "      <td>106.18</td>\n",
       "      <td>1.9</td>\n",
       "      <td>0.1</td>\n",
       "    </tr>\n",
       "    <tr>\n",
       "      <th>1</th>\n",
       "      <td>2</td>\n",
       "      <td>닭갈비</td>\n",
       "      <td>https://www.youtube.com/embed/HI8DlDs1gko</td>\n",
       "      <td>한</td>\n",
       "      <td>메</td>\n",
       "      <td>NaN</td>\n",
       "      <td>NaN</td>\n",
       "      <td>전국(대표)</td>\n",
       "      <td>400.0</td>\n",
       "      <td>595.61</td>\n",
       "      <td>44.9</td>\n",
       "      <td>45.9</td>\n",
       "      <td>25.8</td>\n",
       "      <td>21.2</td>\n",
       "      <td>1535.83</td>\n",
       "      <td>193.40</td>\n",
       "      <td>6.0</td>\n",
       "      <td>0.2</td>\n",
       "    </tr>\n",
       "    <tr>\n",
       "      <th>2</th>\n",
       "      <td>3</td>\n",
       "      <td>닭갈비</td>\n",
       "      <td>https://www.youtube.com/embed/HI8DlDs1gko</td>\n",
       "      <td>한</td>\n",
       "      <td>메</td>\n",
       "      <td>NaN</td>\n",
       "      <td>NaN</td>\n",
       "      <td>춘천</td>\n",
       "      <td>300.0</td>\n",
       "      <td>558.47</td>\n",
       "      <td>23.1</td>\n",
       "      <td>45.5</td>\n",
       "      <td>31.6</td>\n",
       "      <td>8.5</td>\n",
       "      <td>1016.94</td>\n",
       "      <td>217.67</td>\n",
       "      <td>11.3</td>\n",
       "      <td>0.3</td>\n",
       "    </tr>\n",
       "  </tbody>\n",
       "</table>\n",
       "</div>"
      ],
      "text/plain": [
       "   FOOD_SEQ   음식명                                        레시피 한중일양 밥국반메면  식품군  \\\n",
       "0         1  꿩불고기  https://www.youtube.com/embed/rl5xaIdHjPY    북     메  NaN   \n",
       "1         2   닭갈비  https://www.youtube.com/embed/HI8DlDs1gko    한     메  NaN   \n",
       "2         3   닭갈비  https://www.youtube.com/embed/HI8DlDs1gko    한     메  NaN   \n",
       "\n",
       "  제조사명     지역명     중량  열량(kcal)  탄수화물(g)  단백질(g)  지방(g)  당류(g)  나트륨(mg)  \\\n",
       "0  NaN      충주  500.0    368.80     39.7    33.5    8.5   16.9  1264.31   \n",
       "1  NaN  전국(대표)  400.0    595.61     44.9    45.9   25.8   21.2  1535.83   \n",
       "2  NaN      춘천  300.0    558.47     23.1    45.5   31.6    8.5  1016.94   \n",
       "\n",
       "   콜레스트롤(mg)  포화지방산(g)  트랜스지방(g)  \n",
       "0     106.18       1.9       0.1  \n",
       "1     193.40       6.0       0.2  \n",
       "2     217.67      11.3       0.3  "
      ]
     },
     "execution_count": 4,
     "metadata": {},
     "output_type": "execute_result"
    }
   ],
   "source": [
    "data.head(3)"
   ]
  },
  {
   "cell_type": "code",
   "execution_count": 5,
   "metadata": {
    "ExecuteTime": {
     "end_time": "2023-05-04T02:40:36.093268Z",
     "start_time": "2023-05-04T02:40:36.030374Z"
    },
    "colab": {
     "base_uri": "https://localhost:8080/"
    },
    "executionInfo": {
     "elapsed": 9,
     "status": "ok",
     "timestamp": 1682670143435,
     "user": {
      "displayName": "박영민",
      "userId": "04191993295448905608"
     },
     "user_tz": -540
    },
    "id": "YsnqPpjjavKM",
    "outputId": "5a11db48-2da0-4cae-b7d1-393a3bebb7ee"
   },
   "outputs": [
    {
     "name": "stdout",
     "output_type": "stream",
     "text": [
      "<class 'pandas.core.frame.DataFrame'>\n",
      "RangeIndex: 90608 entries, 0 to 90607\n",
      "Data columns (total 18 columns):\n",
      " #   Column     Non-Null Count  Dtype  \n",
      "---  ------     --------------  -----  \n",
      " 0   FOOD_SEQ   90608 non-null  int64  \n",
      " 1   음식명        90608 non-null  object \n",
      " 2   레시피        829 non-null    object \n",
      " 3   한중일양       829 non-null    object \n",
      " 4   밥국반메면      755 non-null    object \n",
      " 5   식품군        82904 non-null  object \n",
      " 6   제조사명       85289 non-null  object \n",
      " 7   지역명        90608 non-null  object \n",
      " 8   중량         90608 non-null  float64\n",
      " 9   열량(kcal)   90608 non-null  float64\n",
      " 10  탄수화물(g)    90608 non-null  float64\n",
      " 11  단백질(g)     90608 non-null  float64\n",
      " 12  지방(g)      90608 non-null  float64\n",
      " 13  당류(g)      90608 non-null  float64\n",
      " 14  나트륨(mg)    90608 non-null  float64\n",
      " 15  콜레스트롤(mg)  90608 non-null  float64\n",
      " 16  포화지방산(g)   90608 non-null  float64\n",
      " 17  트랜스지방(g)   90608 non-null  float64\n",
      "dtypes: float64(10), int64(1), object(7)\n",
      "memory usage: 12.4+ MB\n"
     ]
    }
   ],
   "source": [
    "data.info()"
   ]
  },
  {
   "cell_type": "code",
   "execution_count": 18,
   "metadata": {
    "ExecuteTime": {
     "end_time": "2023-05-04T02:41:43.510738Z",
     "start_time": "2023-05-04T02:41:43.501746Z"
    },
    "executionInfo": {
     "elapsed": 9,
     "status": "ok",
     "timestamp": 1682670143436,
     "user": {
      "displayName": "박영민",
      "userId": "04191993295448905608"
     },
     "user_tz": -540
    },
    "id": "gWlrxu9bayd0"
   },
   "outputs": [],
   "source": [
    "# 필요없는 부분 -> Food_group, Food_mf 등등 삭제\n",
    "# 쓸 부분 - seq, name, recipe, weigth, calor, crb, protein, fat 씁니다.\n",
    "# 컬럼 제거\n",
    "data.drop(\n",
    "    ['식품군','제조사명','지역명','당류(g)','나트륨(mg)','콜레스트롤(mg)'\n",
    "    ,'포화지방산(g)','트랜스지방(g)'],\n",
    "    axis=1,\n",
    "    errors='ignore',\n",
    "    inplace=True\n",
    ")"
   ]
  },
  {
   "cell_type": "code",
   "execution_count": 19,
   "metadata": {
    "ExecuteTime": {
     "end_time": "2023-05-04T02:41:44.390607Z",
     "start_time": "2023-05-04T02:41:44.367686Z"
    },
    "colab": {
     "base_uri": "https://localhost:8080/",
     "height": 143
    },
    "executionInfo": {
     "elapsed": 8,
     "status": "ok",
     "timestamp": 1682670143436,
     "user": {
      "displayName": "박영민",
      "userId": "04191993295448905608"
     },
     "user_tz": -540
    },
    "id": "x3ZyHMaCdMMc",
    "outputId": "0927239b-517d-4ad9-9e8b-001f2a8b9263"
   },
   "outputs": [
    {
     "data": {
      "text/html": [
       "<div>\n",
       "<style scoped>\n",
       "    .dataframe tbody tr th:only-of-type {\n",
       "        vertical-align: middle;\n",
       "    }\n",
       "\n",
       "    .dataframe tbody tr th {\n",
       "        vertical-align: top;\n",
       "    }\n",
       "\n",
       "    .dataframe thead th {\n",
       "        text-align: right;\n",
       "    }\n",
       "</style>\n",
       "<table border=\"1\" class=\"dataframe\">\n",
       "  <thead>\n",
       "    <tr style=\"text-align: right;\">\n",
       "      <th></th>\n",
       "      <th>FOOD_SEQ</th>\n",
       "      <th>음식명</th>\n",
       "      <th>레시피</th>\n",
       "      <th>한중일양</th>\n",
       "      <th>밥국반메면</th>\n",
       "      <th>중량</th>\n",
       "      <th>열량(kcal)</th>\n",
       "      <th>탄수화물(g)</th>\n",
       "      <th>단백질(g)</th>\n",
       "      <th>지방(g)</th>\n",
       "    </tr>\n",
       "  </thead>\n",
       "  <tbody>\n",
       "    <tr>\n",
       "      <th>0</th>\n",
       "      <td>1</td>\n",
       "      <td>꿩불고기</td>\n",
       "      <td>https://www.youtube.com/embed/rl5xaIdHjPY</td>\n",
       "      <td>북</td>\n",
       "      <td>메</td>\n",
       "      <td>500.0</td>\n",
       "      <td>368.80</td>\n",
       "      <td>39.7</td>\n",
       "      <td>33.5</td>\n",
       "      <td>8.5</td>\n",
       "    </tr>\n",
       "    <tr>\n",
       "      <th>1</th>\n",
       "      <td>2</td>\n",
       "      <td>닭갈비</td>\n",
       "      <td>https://www.youtube.com/embed/HI8DlDs1gko</td>\n",
       "      <td>한</td>\n",
       "      <td>메</td>\n",
       "      <td>400.0</td>\n",
       "      <td>595.61</td>\n",
       "      <td>44.9</td>\n",
       "      <td>45.9</td>\n",
       "      <td>25.8</td>\n",
       "    </tr>\n",
       "    <tr>\n",
       "      <th>2</th>\n",
       "      <td>3</td>\n",
       "      <td>닭갈비</td>\n",
       "      <td>https://www.youtube.com/embed/HI8DlDs1gko</td>\n",
       "      <td>한</td>\n",
       "      <td>메</td>\n",
       "      <td>300.0</td>\n",
       "      <td>558.47</td>\n",
       "      <td>23.1</td>\n",
       "      <td>45.5</td>\n",
       "      <td>31.6</td>\n",
       "    </tr>\n",
       "  </tbody>\n",
       "</table>\n",
       "</div>"
      ],
      "text/plain": [
       "   FOOD_SEQ   음식명                                        레시피 한중일양 밥국반메면  \\\n",
       "0         1  꿩불고기  https://www.youtube.com/embed/rl5xaIdHjPY    북     메   \n",
       "1         2   닭갈비  https://www.youtube.com/embed/HI8DlDs1gko    한     메   \n",
       "2         3   닭갈비  https://www.youtube.com/embed/HI8DlDs1gko    한     메   \n",
       "\n",
       "      중량  열량(kcal)  탄수화물(g)  단백질(g)  지방(g)  \n",
       "0  500.0    368.80     39.7    33.5    8.5  \n",
       "1  400.0    595.61     44.9    45.9   25.8  \n",
       "2  300.0    558.47     23.1    45.5   31.6  "
      ]
     },
     "execution_count": 19,
     "metadata": {},
     "output_type": "execute_result"
    }
   ],
   "source": [
    "data.head(3)"
   ]
  },
  {
   "cell_type": "code",
   "execution_count": 20,
   "metadata": {
    "ExecuteTime": {
     "end_time": "2023-05-04T02:41:45.788036Z",
     "start_time": "2023-05-04T02:41:45.766064Z"
    },
    "colab": {
     "base_uri": "https://localhost:8080/"
    },
    "executionInfo": {
     "elapsed": 8,
     "status": "ok",
     "timestamp": 1682670143436,
     "user": {
      "displayName": "박영민",
      "userId": "04191993295448905608"
     },
     "user_tz": -540
    },
    "id": "XFZoDkMgdL4V",
    "outputId": "7210e9e5-55c6-475e-ecdf-a6be33f11dcd"
   },
   "outputs": [
    {
     "name": "stdout",
     "output_type": "stream",
     "text": [
      "<class 'pandas.core.frame.DataFrame'>\n",
      "RangeIndex: 829 entries, 0 to 828\n",
      "Data columns (total 10 columns):\n",
      " #   Column    Non-Null Count  Dtype  \n",
      "---  ------    --------------  -----  \n",
      " 0   FOOD_SEQ  829 non-null    int64  \n",
      " 1   음식명       829 non-null    object \n",
      " 2   레시피       829 non-null    object \n",
      " 3   한중일양      829 non-null    object \n",
      " 4   밥국반메면     755 non-null    object \n",
      " 5   중량        829 non-null    float64\n",
      " 6   열량(kcal)  829 non-null    float64\n",
      " 7   탄수화물(g)   829 non-null    float64\n",
      " 8   단백질(g)    829 non-null    float64\n",
      " 9   지방(g)     829 non-null    float64\n",
      "dtypes: float64(5), int64(1), object(4)\n",
      "memory usage: 64.9+ KB\n"
     ]
    }
   ],
   "source": [
    "data.info()"
   ]
  },
  {
   "cell_type": "code",
   "execution_count": 21,
   "metadata": {
    "ExecuteTime": {
     "end_time": "2023-05-04T02:41:47.078631Z",
     "start_time": "2023-05-04T02:41:47.054668Z"
    },
    "colab": {
     "base_uri": "https://localhost:8080/",
     "height": 206
    },
    "executionInfo": {
     "elapsed": 7,
     "status": "ok",
     "timestamp": 1682670143436,
     "user": {
      "displayName": "박영민",
      "userId": "04191993295448905608"
     },
     "user_tz": -540
    },
    "id": "14W_Y1QpdJ_l",
    "outputId": "bc5c2186-ecd4-4e5a-cf8d-08a4f7eefe63"
   },
   "outputs": [
    {
     "data": {
      "text/html": [
       "<div>\n",
       "<style scoped>\n",
       "    .dataframe tbody tr th:only-of-type {\n",
       "        vertical-align: middle;\n",
       "    }\n",
       "\n",
       "    .dataframe tbody tr th {\n",
       "        vertical-align: top;\n",
       "    }\n",
       "\n",
       "    .dataframe thead th {\n",
       "        text-align: right;\n",
       "    }\n",
       "</style>\n",
       "<table border=\"1\" class=\"dataframe\">\n",
       "  <thead>\n",
       "    <tr style=\"text-align: right;\">\n",
       "      <th></th>\n",
       "      <th>FOOD_SEQ</th>\n",
       "      <th>음식명</th>\n",
       "      <th>레시피</th>\n",
       "      <th>한중일양</th>\n",
       "      <th>밥국반메면</th>\n",
       "      <th>중량</th>\n",
       "      <th>열량(kcal)</th>\n",
       "      <th>탄수화물(g)</th>\n",
       "      <th>단백질(g)</th>\n",
       "      <th>지방(g)</th>\n",
       "    </tr>\n",
       "  </thead>\n",
       "  <tbody>\n",
       "    <tr>\n",
       "      <th>0</th>\n",
       "      <td>1</td>\n",
       "      <td>꿩불고기</td>\n",
       "      <td>https://www.youtube.com/embed/rl5xaIdHjPY</td>\n",
       "      <td>북</td>\n",
       "      <td>메</td>\n",
       "      <td>500.0</td>\n",
       "      <td>368.80</td>\n",
       "      <td>39.70</td>\n",
       "      <td>33.50</td>\n",
       "      <td>8.50</td>\n",
       "    </tr>\n",
       "    <tr>\n",
       "      <th>1</th>\n",
       "      <td>2</td>\n",
       "      <td>닭갈비</td>\n",
       "      <td>https://www.youtube.com/embed/HI8DlDs1gko</td>\n",
       "      <td>한</td>\n",
       "      <td>메</td>\n",
       "      <td>400.0</td>\n",
       "      <td>595.61</td>\n",
       "      <td>44.90</td>\n",
       "      <td>45.90</td>\n",
       "      <td>25.80</td>\n",
       "    </tr>\n",
       "    <tr>\n",
       "      <th>2</th>\n",
       "      <td>3</td>\n",
       "      <td>닭갈비</td>\n",
       "      <td>https://www.youtube.com/embed/HI8DlDs1gko</td>\n",
       "      <td>한</td>\n",
       "      <td>메</td>\n",
       "      <td>300.0</td>\n",
       "      <td>558.47</td>\n",
       "      <td>23.10</td>\n",
       "      <td>45.50</td>\n",
       "      <td>31.60</td>\n",
       "    </tr>\n",
       "    <tr>\n",
       "      <th>3</th>\n",
       "      <td>4</td>\n",
       "      <td>닭꼬치</td>\n",
       "      <td>https://www.youtube.com/embed/1xrcjy6eX7M</td>\n",
       "      <td>한</td>\n",
       "      <td>메</td>\n",
       "      <td>70.0</td>\n",
       "      <td>176.72</td>\n",
       "      <td>13.35</td>\n",
       "      <td>11.56</td>\n",
       "      <td>8.57</td>\n",
       "    </tr>\n",
       "    <tr>\n",
       "      <th>4</th>\n",
       "      <td>5</td>\n",
       "      <td>더덕구이</td>\n",
       "      <td>https://www.youtube.com/embed/ir4Z2IyFIvM</td>\n",
       "      <td>한</td>\n",
       "      <td>반</td>\n",
       "      <td>100.0</td>\n",
       "      <td>184.00</td>\n",
       "      <td>31.10</td>\n",
       "      <td>3.10</td>\n",
       "      <td>5.20</td>\n",
       "    </tr>\n",
       "  </tbody>\n",
       "</table>\n",
       "</div>"
      ],
      "text/plain": [
       "   FOOD_SEQ   음식명                                        레시피 한중일양 밥국반메면  \\\n",
       "0         1  꿩불고기  https://www.youtube.com/embed/rl5xaIdHjPY    북     메   \n",
       "1         2   닭갈비  https://www.youtube.com/embed/HI8DlDs1gko    한     메   \n",
       "2         3   닭갈비  https://www.youtube.com/embed/HI8DlDs1gko    한     메   \n",
       "3         4   닭꼬치  https://www.youtube.com/embed/1xrcjy6eX7M    한     메   \n",
       "4         5  더덕구이  https://www.youtube.com/embed/ir4Z2IyFIvM    한     반   \n",
       "\n",
       "      중량  열량(kcal)  탄수화물(g)  단백질(g)  지방(g)  \n",
       "0  500.0    368.80    39.70   33.50   8.50  \n",
       "1  400.0    595.61    44.90   45.90  25.80  \n",
       "2  300.0    558.47    23.10   45.50  31.60  \n",
       "3   70.0    176.72    13.35   11.56   8.57  \n",
       "4  100.0    184.00    31.10    3.10   5.20  "
      ]
     },
     "execution_count": 21,
     "metadata": {},
     "output_type": "execute_result"
    }
   ],
   "source": [
    "# Food_name 전처리하기\n",
    "data['음식명'] = data['음식명'].apply(lambda x: re.sub('\\s(?![a-z])|_|\\((.*?)\\)|(.*?)\\?','', str(x)))\n",
    "data.head()"
   ]
  },
  {
   "cell_type": "code",
   "execution_count": 22,
   "metadata": {
    "ExecuteTime": {
     "end_time": "2023-05-04T02:41:47.823093Z",
     "start_time": "2023-05-04T02:41:47.807112Z"
    },
    "colab": {
     "base_uri": "https://localhost:8080/"
    },
    "executionInfo": {
     "elapsed": 623,
     "status": "ok",
     "timestamp": 1682670144053,
     "user": {
      "displayName": "박영민",
      "userId": "04191993295448905608"
     },
     "user_tz": -540
    },
    "id": "vx7Z3kA6eDPl",
    "outputId": "7400b103-a918-47bf-a735-20562944b13f"
   },
   "outputs": [
    {
     "name": "stdout",
     "output_type": "stream",
     "text": [
      "<class 'pandas.core.frame.DataFrame'>\n",
      "RangeIndex: 829 entries, 0 to 828\n",
      "Data columns (total 10 columns):\n",
      " #   Column    Non-Null Count  Dtype  \n",
      "---  ------    --------------  -----  \n",
      " 0   FOOD_SEQ  829 non-null    int64  \n",
      " 1   음식명       829 non-null    object \n",
      " 2   레시피       829 non-null    object \n",
      " 3   한중일양      829 non-null    object \n",
      " 4   밥국반메면     755 non-null    object \n",
      " 5   중량        829 non-null    float64\n",
      " 6   열량(kcal)  829 non-null    float64\n",
      " 7   탄수화물(g)   829 non-null    float64\n",
      " 8   단백질(g)    829 non-null    float64\n",
      " 9   지방(g)     829 non-null    float64\n",
      "dtypes: float64(5), int64(1), object(4)\n",
      "memory usage: 64.9+ KB\n"
     ]
    }
   ],
   "source": [
    "data.info()"
   ]
  },
  {
   "cell_type": "code",
   "execution_count": 23,
   "metadata": {
    "ExecuteTime": {
     "end_time": "2023-05-04T02:41:49.208053Z",
     "start_time": "2023-05-04T02:41:49.190100Z"
    },
    "executionInfo": {
     "elapsed": 7,
     "status": "ok",
     "timestamp": 1682670144053,
     "user": {
      "displayName": "박영민",
      "userId": "04191993295448905608"
     },
     "user_tz": -540
    },
    "id": "SJb69yaNeF5d"
   },
   "outputs": [],
   "source": [
    "# 혹시 모르니까 수틀리면 지우기\n",
    "# cols = ['food_name']\n",
    "# drop_index = food_p_p.loc[:,cols][food_p_p.loc[:,cols].duplicated()].index\n",
    "# food_p_p.drop(drop_index, axis=0, inplace=True)"
   ]
  },
  {
   "cell_type": "code",
   "execution_count": 24,
   "metadata": {
    "ExecuteTime": {
     "end_time": "2023-05-04T02:41:49.442255Z",
     "start_time": "2023-05-04T02:41:49.422280Z"
    },
    "colab": {
     "base_uri": "https://localhost:8080/",
     "height": 49
    },
    "executionInfo": {
     "elapsed": 8,
     "status": "ok",
     "timestamp": 1682670144054,
     "user": {
      "displayName": "박영민",
      "userId": "04191993295448905608"
     },
     "user_tz": -540
    },
    "id": "gL2fgA51eVrH",
    "outputId": "313f0c28-2ec5-4b9a-8c28-0085563ef972"
   },
   "outputs": [
    {
     "data": {
      "text/html": [
       "<div>\n",
       "<style scoped>\n",
       "    .dataframe tbody tr th:only-of-type {\n",
       "        vertical-align: middle;\n",
       "    }\n",
       "\n",
       "    .dataframe tbody tr th {\n",
       "        vertical-align: top;\n",
       "    }\n",
       "\n",
       "    .dataframe thead th {\n",
       "        text-align: right;\n",
       "    }\n",
       "</style>\n",
       "<table border=\"1\" class=\"dataframe\">\n",
       "  <thead>\n",
       "    <tr style=\"text-align: right;\">\n",
       "      <th></th>\n",
       "      <th>FOOD_SEQ</th>\n",
       "      <th>음식명</th>\n",
       "      <th>레시피</th>\n",
       "      <th>한중일양</th>\n",
       "      <th>밥국반메면</th>\n",
       "      <th>중량</th>\n",
       "      <th>열량(kcal)</th>\n",
       "    </tr>\n",
       "  </thead>\n",
       "  <tbody>\n",
       "  </tbody>\n",
       "</table>\n",
       "</div>"
      ],
      "text/plain": [
       "Empty DataFrame\n",
       "Columns: [FOOD_SEQ, 음식명, 레시피, 한중일양, 밥국반메면, 중량, 열량(kcal)]\n",
       "Index: []"
      ]
     },
     "execution_count": 24,
     "metadata": {},
     "output_type": "execute_result"
    }
   ],
   "source": [
    "# 중복 확인\n",
    "data.iloc[:,:7][data.duplicated(subset=['FOOD_SEQ','음식명'])]\n",
    "# 이러면 중복이 없다는 소리네요~"
   ]
  },
  {
   "cell_type": "code",
   "execution_count": 25,
   "metadata": {
    "ExecuteTime": {
     "end_time": "2023-05-04T02:41:49.723729Z",
     "start_time": "2023-05-04T02:41:49.718716Z"
    },
    "colab": {
     "base_uri": "https://localhost:8080/"
    },
    "executionInfo": {
     "elapsed": 6,
     "status": "ok",
     "timestamp": 1682670144054,
     "user": {
      "displayName": "박영민",
      "userId": "04191993295448905608"
     },
     "user_tz": -540
    },
    "id": "uMk7Dq3hj4YI",
    "outputId": "c9bc8fe2-58e9-40f8-b746-f9dc91b64ca5"
   },
   "outputs": [
    {
     "data": {
      "text/plain": [
       "0      False\n",
       "1      False\n",
       "2      False\n",
       "3      False\n",
       "4      False\n",
       "       ...  \n",
       "824    False\n",
       "825    False\n",
       "826    False\n",
       "827    False\n",
       "828    False\n",
       "Name: 레시피, Length: 829, dtype: bool"
      ]
     },
     "execution_count": 25,
     "metadata": {},
     "output_type": "execute_result"
    }
   ],
   "source": [
    "data['레시피'].isna()"
   ]
  },
  {
   "cell_type": "code",
   "execution_count": 26,
   "metadata": {
    "ExecuteTime": {
     "end_time": "2023-05-04T02:41:50.903619Z",
     "start_time": "2023-05-04T02:41:50.887662Z"
    },
    "colab": {
     "base_uri": "https://localhost:8080/",
     "height": 424
    },
    "executionInfo": {
     "elapsed": 3,
     "status": "ok",
     "timestamp": 1682670804714,
     "user": {
      "displayName": "박영민",
      "userId": "04191993295448905608"
     },
     "user_tz": -540
    },
    "id": "cIvw_pKOjsTL",
    "outputId": "631e2a7a-5afe-4aea-aeb8-af4235688d80"
   },
   "outputs": [
    {
     "data": {
      "text/html": [
       "<div>\n",
       "<style scoped>\n",
       "    .dataframe tbody tr th:only-of-type {\n",
       "        vertical-align: middle;\n",
       "    }\n",
       "\n",
       "    .dataframe tbody tr th {\n",
       "        vertical-align: top;\n",
       "    }\n",
       "\n",
       "    .dataframe thead th {\n",
       "        text-align: right;\n",
       "    }\n",
       "</style>\n",
       "<table border=\"1\" class=\"dataframe\">\n",
       "  <thead>\n",
       "    <tr style=\"text-align: right;\">\n",
       "      <th></th>\n",
       "      <th>FOOD_SEQ</th>\n",
       "      <th>음식명</th>\n",
       "      <th>레시피</th>\n",
       "      <th>한중일양</th>\n",
       "      <th>밥국반메면</th>\n",
       "      <th>중량</th>\n",
       "      <th>열량(kcal)</th>\n",
       "      <th>탄수화물(g)</th>\n",
       "      <th>단백질(g)</th>\n",
       "      <th>지방(g)</th>\n",
       "    </tr>\n",
       "  </thead>\n",
       "  <tbody>\n",
       "    <tr>\n",
       "      <th>0</th>\n",
       "      <td>1</td>\n",
       "      <td>꿩불고기</td>\n",
       "      <td>https://www.youtube.com/embed/rl5xaIdHjPY</td>\n",
       "      <td>북</td>\n",
       "      <td>메</td>\n",
       "      <td>500.0</td>\n",
       "      <td>368.80</td>\n",
       "      <td>39.70</td>\n",
       "      <td>33.50</td>\n",
       "      <td>8.50</td>\n",
       "    </tr>\n",
       "    <tr>\n",
       "      <th>1</th>\n",
       "      <td>2</td>\n",
       "      <td>닭갈비</td>\n",
       "      <td>https://www.youtube.com/embed/HI8DlDs1gko</td>\n",
       "      <td>한</td>\n",
       "      <td>메</td>\n",
       "      <td>400.0</td>\n",
       "      <td>595.61</td>\n",
       "      <td>44.90</td>\n",
       "      <td>45.90</td>\n",
       "      <td>25.80</td>\n",
       "    </tr>\n",
       "    <tr>\n",
       "      <th>2</th>\n",
       "      <td>3</td>\n",
       "      <td>닭갈비</td>\n",
       "      <td>https://www.youtube.com/embed/HI8DlDs1gko</td>\n",
       "      <td>한</td>\n",
       "      <td>메</td>\n",
       "      <td>300.0</td>\n",
       "      <td>558.47</td>\n",
       "      <td>23.10</td>\n",
       "      <td>45.50</td>\n",
       "      <td>31.60</td>\n",
       "    </tr>\n",
       "    <tr>\n",
       "      <th>3</th>\n",
       "      <td>4</td>\n",
       "      <td>닭꼬치</td>\n",
       "      <td>https://www.youtube.com/embed/1xrcjy6eX7M</td>\n",
       "      <td>한</td>\n",
       "      <td>메</td>\n",
       "      <td>70.0</td>\n",
       "      <td>176.72</td>\n",
       "      <td>13.35</td>\n",
       "      <td>11.56</td>\n",
       "      <td>8.57</td>\n",
       "    </tr>\n",
       "    <tr>\n",
       "      <th>4</th>\n",
       "      <td>5</td>\n",
       "      <td>더덕구이</td>\n",
       "      <td>https://www.youtube.com/embed/ir4Z2IyFIvM</td>\n",
       "      <td>한</td>\n",
       "      <td>반</td>\n",
       "      <td>100.0</td>\n",
       "      <td>184.00</td>\n",
       "      <td>31.10</td>\n",
       "      <td>3.10</td>\n",
       "      <td>5.20</td>\n",
       "    </tr>\n",
       "    <tr>\n",
       "      <th>...</th>\n",
       "      <td>...</td>\n",
       "      <td>...</td>\n",
       "      <td>...</td>\n",
       "      <td>...</td>\n",
       "      <td>...</td>\n",
       "      <td>...</td>\n",
       "      <td>...</td>\n",
       "      <td>...</td>\n",
       "      <td>...</td>\n",
       "      <td>...</td>\n",
       "    </tr>\n",
       "    <tr>\n",
       "      <th>824</th>\n",
       "      <td>7324</td>\n",
       "      <td>오징어튀김</td>\n",
       "      <td>https://www.youtube.com/embed/K7KCOvEKPbg</td>\n",
       "      <td>한</td>\n",
       "      <td>메</td>\n",
       "      <td>150.0</td>\n",
       "      <td>505.71</td>\n",
       "      <td>33.65</td>\n",
       "      <td>18.56</td>\n",
       "      <td>32.99</td>\n",
       "    </tr>\n",
       "    <tr>\n",
       "      <th>825</th>\n",
       "      <td>7325</td>\n",
       "      <td>채소튀김</td>\n",
       "      <td>https://www.youtube.com/embed/1uvcqAUjH8A</td>\n",
       "      <td>한</td>\n",
       "      <td>메</td>\n",
       "      <td>100.0</td>\n",
       "      <td>404.63</td>\n",
       "      <td>36.83</td>\n",
       "      <td>3.25</td>\n",
       "      <td>27.14</td>\n",
       "    </tr>\n",
       "    <tr>\n",
       "      <th>826</th>\n",
       "      <td>7326</td>\n",
       "      <td>치킨너겟</td>\n",
       "      <td>https://www.youtube.com/embed/aw1YhCxSF7c</td>\n",
       "      <td>한</td>\n",
       "      <td>메</td>\n",
       "      <td>150.0</td>\n",
       "      <td>468.40</td>\n",
       "      <td>14.93</td>\n",
       "      <td>22.47</td>\n",
       "      <td>35.42</td>\n",
       "    </tr>\n",
       "    <tr>\n",
       "      <th>827</th>\n",
       "      <td>7327</td>\n",
       "      <td>탕수육</td>\n",
       "      <td>https://www.youtube.com/embed/mzZNNMM2WuQ</td>\n",
       "      <td>중</td>\n",
       "      <td>NaN</td>\n",
       "      <td>200.0</td>\n",
       "      <td>358.97</td>\n",
       "      <td>24.84</td>\n",
       "      <td>27.21</td>\n",
       "      <td>16.75</td>\n",
       "    </tr>\n",
       "    <tr>\n",
       "      <th>828</th>\n",
       "      <td>7328</td>\n",
       "      <td>후라이드치킨</td>\n",
       "      <td>https://www.youtube.com/embed/RjVAfc7reHU</td>\n",
       "      <td>양</td>\n",
       "      <td>NaN</td>\n",
       "      <td>200.0</td>\n",
       "      <td>530.04</td>\n",
       "      <td>21.29</td>\n",
       "      <td>35.47</td>\n",
       "      <td>33.67</td>\n",
       "    </tr>\n",
       "  </tbody>\n",
       "</table>\n",
       "<p>829 rows × 10 columns</p>\n",
       "</div>"
      ],
      "text/plain": [
       "     FOOD_SEQ     음식명                                        레시피 한중일양 밥국반메면  \\\n",
       "0           1    꿩불고기  https://www.youtube.com/embed/rl5xaIdHjPY    북     메   \n",
       "1           2     닭갈비  https://www.youtube.com/embed/HI8DlDs1gko    한     메   \n",
       "2           3     닭갈비  https://www.youtube.com/embed/HI8DlDs1gko    한     메   \n",
       "3           4     닭꼬치  https://www.youtube.com/embed/1xrcjy6eX7M    한     메   \n",
       "4           5    더덕구이  https://www.youtube.com/embed/ir4Z2IyFIvM    한     반   \n",
       "..        ...     ...                                        ...  ...   ...   \n",
       "824      7324   오징어튀김  https://www.youtube.com/embed/K7KCOvEKPbg    한     메   \n",
       "825      7325    채소튀김  https://www.youtube.com/embed/1uvcqAUjH8A    한     메   \n",
       "826      7326    치킨너겟  https://www.youtube.com/embed/aw1YhCxSF7c    한     메   \n",
       "827      7327     탕수육  https://www.youtube.com/embed/mzZNNMM2WuQ    중   NaN   \n",
       "828      7328  후라이드치킨  https://www.youtube.com/embed/RjVAfc7reHU    양   NaN   \n",
       "\n",
       "        중량  열량(kcal)  탄수화물(g)  단백질(g)  지방(g)  \n",
       "0    500.0    368.80    39.70   33.50   8.50  \n",
       "1    400.0    595.61    44.90   45.90  25.80  \n",
       "2    300.0    558.47    23.10   45.50  31.60  \n",
       "3     70.0    176.72    13.35   11.56   8.57  \n",
       "4    100.0    184.00    31.10    3.10   5.20  \n",
       "..     ...       ...      ...     ...    ...  \n",
       "824  150.0    505.71    33.65   18.56  32.99  \n",
       "825  100.0    404.63    36.83    3.25  27.14  \n",
       "826  150.0    468.40    14.93   22.47  35.42  \n",
       "827  200.0    358.97    24.84   27.21  16.75  \n",
       "828  200.0    530.04    21.29   35.47  33.67  \n",
       "\n",
       "[829 rows x 10 columns]"
      ]
     },
     "execution_count": 26,
     "metadata": {},
     "output_type": "execute_result"
    }
   ],
   "source": [
    "# DF내 모든 값을 비교해 비어있으면 삭제\n",
    "# data.dropna(axis=0, how='any',inplace=True)\n",
    "\n",
    "# 레시피가 nan값이 아닌 애들로만 구성.\n",
    "data = data[data['레시피'].notna()]\n",
    "# 인덱스 값 새롭게 지정하기\n",
    "data = data.reset_index(drop=True)\n",
    "data"
   ]
  },
  {
   "cell_type": "markdown",
   "metadata": {
    "id": "MQZZEDgAk1R2"
   },
   "source": [
    "미플린-지어(Mifflin-St.Jeor) 공식:\n",
    "\n",
    "기본식: (10 × 몸무게) + (6.25 × 키) – (5 × 나이)\n",
    "\n",
    "남성: 기본식 ＋ 5\n",
    "여성: 기본식 － 161\n",
    "\n",
    "기초대사량 ＋ 활동대사량 계산 식:\n",
    "\n",
    "거의 운동하지 않음: 기초대사량 × 1.2\n",
    "가벼운 운동(주 1~3일): 기초대사량 × 1.375\n",
    "보통 수준: 기초대사량 × 1.55\n",
    "적극적으로 운동(주 6~7일): 기초대사량 × 1.725\n",
    "매우 적극적으로 운동(주 6~7일): 기초대사량 × 1.9\n",
    "\n",
    "탄수화물: 1g당 4kcal\n",
    "단백질: 1g당 4kcal\n",
    "지방: 1g당 9kcal\n",
    "\n",
    "SQL 구문을 만들어보아요\n",
    "insert into member_info values (\n",
    "  idman,\n",
    "  12345,\n",
    "  bususer,\n",
    "  28,\n",
    "  man,\n",
    "  174.6,\n",
    "  69.4,\n",
    "  유지,\n",
    "  1~3,\n",
    "\n",
    "\n",
    ")"
   ]
  },
  {
   "cell_type": "code",
   "execution_count": 15,
   "metadata": {
    "ExecuteTime": {
     "end_time": "2023-05-04T00:42:42.473785Z",
     "start_time": "2023-05-04T00:42:42.459823Z"
    },
    "executionInfo": {
     "elapsed": 1,
     "status": "ok",
     "timestamp": 1682670687780,
     "user": {
      "displayName": "박영민",
      "userId": "04191993295448905608"
     },
     "user_tz": -540
    },
    "id": "f21GGquuT3D3"
   },
   "outputs": [],
   "source": [
    "# 174 69 남성 유지 1.375 28"
   ]
  },
  {
   "cell_type": "code",
   "execution_count": 16,
   "metadata": {
    "ExecuteTime": {
     "end_time": "2023-05-04T00:42:42.489770Z",
     "start_time": "2023-05-04T00:42:42.474782Z"
    },
    "colab": {
     "base_uri": "https://localhost:8080/"
    },
    "executionInfo": {
     "elapsed": 480,
     "status": "ok",
     "timestamp": 1682670688833,
     "user": {
      "displayName": "박영민",
      "userId": "04191993295448905608"
     },
     "user_tz": -540
    },
    "id": "YmcVVZsLSwtn",
    "outputId": "254029f1-0560-4e80-e00d-bd5a829fa6be"
   },
   "outputs": [
    {
     "data": {
      "text/plain": [
       "2258.4375"
      ]
     },
     "execution_count": 16,
     "metadata": {},
     "output_type": "execute_result"
    }
   ],
   "source": [
    "cal = ((10*69)+(6.25*174)-(5*28) +5)*1.375\n",
    "cal"
   ]
  },
  {
   "cell_type": "code",
   "execution_count": 17,
   "metadata": {
    "ExecuteTime": {
     "end_time": "2023-05-04T00:42:42.504918Z",
     "start_time": "2023-05-04T00:42:42.490738Z"
    },
    "colab": {
     "base_uri": "https://localhost:8080/"
    },
    "executionInfo": {
     "elapsed": 3,
     "status": "ok",
     "timestamp": 1682670688833,
     "user": {
      "displayName": "박영민",
      "userId": "04191993295448905608"
     },
     "user_tz": -540
    },
    "id": "KcKnG0boRtqx",
    "outputId": "28801a31-e8bc-4343-e240-7a3a00ad8f58"
   },
   "outputs": [
    {
     "name": "stdout",
     "output_type": "stream",
     "text": [
      "1242.140625 451.6875 564.609375\n"
     ]
    }
   ],
   "source": [
    "# cal을 55:25:20 으로 나눠야합니다.\n",
    "crb = cal*11/20\n",
    "protein = cal/5\n",
    "fat =  cal/4\n",
    "print(crb, protein, fat)"
   ]
  },
  {
   "cell_type": "code",
   "execution_count": 18,
   "metadata": {
    "ExecuteTime": {
     "end_time": "2023-05-04T00:42:42.520549Z",
     "start_time": "2023-05-04T00:42:42.506545Z"
    },
    "colab": {
     "base_uri": "https://localhost:8080/"
    },
    "executionInfo": {
     "elapsed": 5,
     "status": "ok",
     "timestamp": 1682670690860,
     "user": {
      "displayName": "박영민",
      "userId": "04191993295448905608"
     },
     "user_tz": -540
    },
    "id": "MpVkCekxUn-4",
    "outputId": "4b7ac0ee-9415-4bb1-e546-07418b270a04"
   },
   "outputs": [
    {
     "name": "stdout",
     "output_type": "stream",
     "text": [
      "310.53515625 112.921875 62.734375\n"
     ]
    }
   ],
   "source": [
    "my_crb = crb/4\n",
    "my_protein = protein/4\n",
    "my_fat = fat/9\n",
    "print(my_crb,my_protein,my_fat)"
   ]
  },
  {
   "cell_type": "code",
   "execution_count": 19,
   "metadata": {
    "ExecuteTime": {
     "end_time": "2023-05-04T00:42:42.536216Z",
     "start_time": "2023-05-04T00:42:42.521546Z"
    },
    "colab": {
     "base_uri": "https://localhost:8080/"
    },
    "executionInfo": {
     "elapsed": 4,
     "status": "ok",
     "timestamp": 1682670690860,
     "user": {
      "displayName": "박영민",
      "userId": "04191993295448905608"
     },
     "user_tz": -540
    },
    "id": "pnLKVUFDU2e3",
    "outputId": "4e4f65f0-fff3-4bfc-cf9e-6571c66eaec5"
   },
   "outputs": [
    {
     "data": {
      "text/plain": [
       "1688.825"
      ]
     },
     "execution_count": 19,
     "metadata": {},
     "output_type": "execute_result"
    }
   ],
   "source": [
    "# 남성의 경우: BMR = 88.362 + (13.397 x 체중(kg)) + (4.799 x 키(cm)) - (5.677 x 나이(세))\n",
    "new_cal = (88.362 + (13.397*69)+(4.799*174) - (5.677*28))\n",
    "new_cal"
   ]
  },
  {
   "cell_type": "code",
   "execution_count": 20,
   "metadata": {
    "ExecuteTime": {
     "end_time": "2023-05-04T00:42:42.551885Z",
     "start_time": "2023-05-04T00:42:42.537214Z"
    },
    "executionInfo": {
     "elapsed": 4,
     "status": "ok",
     "timestamp": 1682670690861,
     "user": {
      "displayName": "박영민",
      "userId": "04191993295448905608"
     },
     "user_tz": -540
    },
    "id": "iCazWvijYElO"
   },
   "outputs": [],
   "source": [
    "# 탄수화물: 1800kcal의 50-60%인 약 225-270g\n",
    "# 단백질: 1800kcal의 15-20%인 약 68-90g\n",
    "# 지방: 1800kcal의 20-30%인 약 40-60g"
   ]
  },
  {
   "cell_type": "code",
   "execution_count": 21,
   "metadata": {
    "ExecuteTime": {
     "end_time": "2023-05-04T00:42:42.567555Z",
     "start_time": "2023-05-04T00:42:42.552882Z"
    },
    "colab": {
     "base_uri": "https://localhost:8080/"
    },
    "executionInfo": {
     "elapsed": 3,
     "status": "ok",
     "timestamp": 1682670690861,
     "user": {
      "displayName": "박영민",
      "userId": "04191993295448905608"
     },
     "user_tz": -540
    },
    "id": "gUqZvLAteXQG",
    "outputId": "6090f755-6aa2-45b6-f125-ff7e142b608b"
   },
   "outputs": [
    {
     "data": {
      "text/plain": [
       "2322.134375"
      ]
     },
     "execution_count": 21,
     "metadata": {},
     "output_type": "execute_result"
    }
   ],
   "source": [
    "new_cal=new_cal*1.375\n",
    "new_cal"
   ]
  },
  {
   "cell_type": "code",
   "execution_count": 22,
   "metadata": {
    "ExecuteTime": {
     "end_time": "2023-05-04T00:42:42.583265Z",
     "start_time": "2023-05-04T00:42:42.568552Z"
    },
    "executionInfo": {
     "elapsed": 1,
     "status": "ok",
     "timestamp": 1682670691468,
     "user": {
      "displayName": "박영민",
      "userId": "04191993295448905608"
     },
     "user_tz": -540
    },
    "id": "42x0huq8ebp1"
   },
   "outputs": [],
   "source": [
    "new_crb = new_cal*0.5\n",
    "new_protein = new_cal*0.15\n",
    "new_fat = new_cal*0.35"
   ]
  },
  {
   "cell_type": "code",
   "execution_count": 23,
   "metadata": {
    "ExecuteTime": {
     "end_time": "2023-05-04T00:42:42.599195Z",
     "start_time": "2023-05-04T00:42:42.584234Z"
    },
    "executionInfo": {
     "elapsed": 2,
     "status": "ok",
     "timestamp": 1682670693610,
     "user": {
      "displayName": "박영민",
      "userId": "04191993295448905608"
     },
     "user_tz": -540
    },
    "id": "2ZU8nVq9fK7d"
   },
   "outputs": [],
   "source": [
    "new_crb = new_crb/4\n",
    "new_protein = new_protein/4\n",
    "new_fat = new_fat/9"
   ]
  },
  {
   "cell_type": "code",
   "execution_count": 24,
   "metadata": {
    "ExecuteTime": {
     "end_time": "2023-05-04T00:42:42.615270Z",
     "start_time": "2023-05-04T00:42:42.600192Z"
    },
    "colab": {
     "base_uri": "https://localhost:8080/"
    },
    "executionInfo": {
     "elapsed": 1,
     "status": "ok",
     "timestamp": 1682670694921,
     "user": {
      "displayName": "박영민",
      "userId": "04191993295448905608"
     },
     "user_tz": -540
    },
    "id": "wwuL2_CbfSel",
    "outputId": "f67145c3-2d90-44e6-941a-869e39bf16a8"
   },
   "outputs": [
    {
     "name": "stdout",
     "output_type": "stream",
     "text": [
      "290.266796875 87.0800390625 90.30522569444445\n"
     ]
    }
   ],
   "source": [
    "print(new_crb,new_protein,new_fat)"
   ]
  },
  {
   "cell_type": "code",
   "execution_count": 27,
   "metadata": {
    "ExecuteTime": {
     "end_time": "2023-05-04T02:41:55.498015Z",
     "start_time": "2023-05-04T02:41:55.487036Z"
    },
    "executionInfo": {
     "elapsed": 1,
     "status": "ok",
     "timestamp": 1682671367781,
     "user": {
      "displayName": "박영민",
      "userId": "04191993295448905608"
     },
     "user_tz": -540
    },
    "id": "4ud-pHJAfVYd"
   },
   "outputs": [],
   "source": [
    "# 개인 정보에 기반한 활동 대사량, 기초대사량 구하기\n",
    "# Physical Activity Level (PAL)\n",
    "def user_PAL(weight, height, age, gender, activity, purpose):\n",
    "  # 기초대사량 -> 키, 몸무게, 나이로 구성된 기본식\n",
    "  base = (10*weight)+(6.25*height)-(5*age)\n",
    "  # 남성일 경우\n",
    "  if gender == \"man\":\n",
    "    man_base=(base+5)\n",
    "    # Eat-Fit을 쓰는 목적 -> 증량, 유지, 다이어트\n",
    "    if purpose == \"plus\":\n",
    "        man_base = man_base*1.2\n",
    "        # 활동량 -> 1 : 아예 운동 X / 2 : 주 1~3 가벼운 운동 / 3 : 보통 수준 운동 / 4 : 적극적 운동 / 5: 매우 적극적 운동\n",
    "        if activity == 1:\n",
    "            man_base = man_base*1.2\n",
    "        elif activity == 2:\n",
    "            man_base = man_base*1.375\n",
    "        elif activity == 3:\n",
    "            man_base = man_base*1.55\n",
    "        elif activity == 4:\n",
    "            man_base = man_base*1.725\n",
    "        elif activity == 5:\n",
    "            man_base = man_base*1.9\n",
    "    elif purpose == \"maintain\":\n",
    "        man_base = man_base\n",
    "        if activity == 1:\n",
    "            man_base = man_base*1.2\n",
    "        elif activity == 2:\n",
    "            man_base = man_base*1.375\n",
    "        elif activity == 3:\n",
    "            man_base = man_base*1.55\n",
    "        elif activity == 4:\n",
    "            man_base = man_base*1.725\n",
    "        elif activity == 5:\n",
    "            man_base = man_base*1.9\n",
    "    else :\n",
    "        man_base = man_base*0.8\n",
    "        if activity == 1:\n",
    "            man_base = man_base*1.2\n",
    "        elif activity == 2:\n",
    "            man_base = man_base*1.375\n",
    "        elif activity == 3:\n",
    "            man_base = man_base*1.55\n",
    "        elif activity == 4:\n",
    "            man_base = man_base*1.725\n",
    "        elif activity == 5:\n",
    "            man_base = man_base*1.9\n",
    "\n",
    "    crb=man_base*0.5\n",
    "    protein = man_base*0.15\n",
    "    fat = man_base*0.35\n",
    "\n",
    "    man_crb = crb/4\n",
    "    man_protein = protein/4\n",
    "    man_fat = fat/9\n",
    "\n",
    "    user = {}\n",
    "    user = {'cal':man_base, 'crb':man_crb, 'protein':man_protein, 'fat':man_fat}\n",
    "    return user\n",
    "\n",
    "  else :\n",
    "    woman_base = (base-161)\n",
    "    if purpose == \"plus\":\n",
    "        woman_base = woman_base*1.2\n",
    "        if activity == 1:\n",
    "            woman_base = woman_base*1.2\n",
    "        elif activity == 2:\n",
    "            woman_base = woman_base*1.375\n",
    "        elif activity == 3:\n",
    "            woman_base = woman_base*1.55\n",
    "        elif activity == 4:\n",
    "            woman_base = woman_base*1.725\n",
    "        elif activity == 5:\n",
    "            woman_base = woman_base*1.9\n",
    "    elif purpose == \"maintain\":\n",
    "        woman_base = woman_base\n",
    "        if activity == 1:\n",
    "            woman_base = woman_base*1.2\n",
    "        elif activity == 2:\n",
    "            woman_base = woman_base*1.375\n",
    "        elif activity == 3:\n",
    "            woman_base = woman_base*1.55\n",
    "        elif activity == 4:\n",
    "            woman_base = woman_base*1.725\n",
    "        elif activity == 5:\n",
    "            woman_base = woman_base*1.9\n",
    "    else :\n",
    "        woman_base = woman_base*0.8\n",
    "        if activity == 1:\n",
    "            woman_base = woman_base*1.2\n",
    "        elif activity == 2:\n",
    "            woman_base = woman_base*1.375\n",
    "        elif activity == 3:\n",
    "            woman_base = woman_base*1.55\n",
    "        elif activity == 4:\n",
    "            woman_base = woman_base*1.725\n",
    "        elif activity == 5:\n",
    "            woman_base = woman_base*1.9\n",
    "\n",
    "        crb2=woman_base*0.5\n",
    "        protein2 = woman_base*0.15\n",
    "        fat2 = woman_base*0.35\n",
    "\n",
    "        woman_crb = crb2/4\n",
    "        woman_protein = protein2/4\n",
    "        woman_fat = fat2/9\n",
    "\n",
    "        user = {}\n",
    "        user = {'cal':woman_base, 'crb':woman_crb, 'protein':woman_protein, 'fat':woman_fat}\n",
    "\n",
    "    return user\n",
    "  "
   ]
  },
  {
   "cell_type": "code",
   "execution_count": 28,
   "metadata": {
    "ExecuteTime": {
     "end_time": "2023-05-04T02:41:56.010720Z",
     "start_time": "2023-05-04T02:41:56.006702Z"
    },
    "colab": {
     "base_uri": "https://localhost:8080/"
    },
    "executionInfo": {
     "elapsed": 2,
     "status": "ok",
     "timestamp": 1682671368320,
     "user": {
      "displayName": "박영민",
      "userId": "04191993295448905608"
     },
     "user_tz": -540
    },
    "id": "hEBvXrSzhAn9",
    "outputId": "fbb4c408-c80c-45f8-e1b3-5c3a2e379be2"
   },
   "outputs": [
    {
     "data": {
      "text/plain": [
       "{'cal': 2635.0, 'crb': 329.375, 'protein': 98.8125, 'fat': 102.47222222222221}"
      ]
     },
     "execution_count": 28,
     "metadata": {},
     "output_type": "execute_result"
    }
   ],
   "source": [
    "#def user_PAL(weight, height, age, gender, activity, purpose):\n",
    "user=user_PAL(72,176,25,'man',3,'maintain')\n",
    "user"
   ]
  },
  {
   "cell_type": "code",
   "execution_count": 29,
   "metadata": {
    "ExecuteTime": {
     "end_time": "2023-05-04T02:41:56.351708Z",
     "start_time": "2023-05-04T02:41:56.341733Z"
    },
    "colab": {
     "base_uri": "https://localhost:8080/"
    },
    "executionInfo": {
     "elapsed": 2,
     "status": "ok",
     "timestamp": 1682671385892,
     "user": {
      "displayName": "박영민",
      "userId": "04191993295448905608"
     },
     "user_tz": -540
    },
    "id": "w4EFd3gBouZT",
    "outputId": "17c02a92-cc8f-400c-a4e0-a57a6f951ce4"
   },
   "outputs": [
    {
     "data": {
      "text/plain": [
       "2635.0"
      ]
     },
     "execution_count": 29,
     "metadata": {},
     "output_type": "execute_result"
    }
   ],
   "source": [
    "user_cal=user['cal']\n",
    "user_cal"
   ]
  },
  {
   "cell_type": "code",
   "execution_count": 39,
   "metadata": {
    "ExecuteTime": {
     "end_time": "2023-05-04T02:43:24.374576Z",
     "start_time": "2023-05-04T02:43:24.358618Z"
    },
    "colab": {
     "base_uri": "https://localhost:8080/",
     "height": 424
    },
    "executionInfo": {
     "elapsed": 2,
     "status": "ok",
     "timestamp": 1682671388982,
     "user": {
      "displayName": "박영민",
      "userId": "04191993295448905608"
     },
     "user_tz": -540
    },
    "id": "NNza83I-unNZ",
    "outputId": "18fd7630-5974-4a02-ed84-294422bcd8d7",
    "scrolled": true
   },
   "outputs": [
    {
     "data": {
      "text/plain": [
       "'FOOD_SEQ'"
      ]
     },
     "execution_count": 39,
     "metadata": {},
     "output_type": "execute_result"
    }
   ],
   "source": [
    "data2=data\n",
    "data2"
   ]
  },
  {
   "cell_type": "code",
   "execution_count": 29,
   "metadata": {
    "ExecuteTime": {
     "end_time": "2023-05-04T00:42:42.695056Z",
     "start_time": "2023-05-04T00:42:42.680096Z"
    },
    "colab": {
     "base_uri": "https://localhost:8080/"
    },
    "executionInfo": {
     "elapsed": 2,
     "status": "ok",
     "timestamp": 1682670815459,
     "user": {
      "displayName": "박영민",
      "userId": "04191993295448905608"
     },
     "user_tz": -540
    },
    "id": "iRlwsw5Ij_cc",
    "outputId": "0606f7c9-8f5a-4bb5-b140-7892a5554e61"
   },
   "outputs": [
    {
     "data": {
      "text/plain": [
       "558.47"
      ]
     },
     "execution_count": 29,
     "metadata": {},
     "output_type": "execute_result"
    }
   ],
   "source": [
    "food_cal=data.loc[2, '열량(kcal)']\n",
    "food_cal"
   ]
  },
  {
   "cell_type": "code",
   "execution_count": 30,
   "metadata": {
    "ExecuteTime": {
     "end_time": "2023-05-04T00:42:42.711054Z",
     "start_time": "2023-05-04T00:42:42.696054Z"
    },
    "colab": {
     "base_uri": "https://localhost:8080/"
    },
    "executionInfo": {
     "elapsed": 2,
     "status": "ok",
     "timestamp": 1682671403623,
     "user": {
      "displayName": "박영민",
      "userId": "04191993295448905608"
     },
     "user_tz": -540
    },
    "id": "waJIOHLAlSII",
    "outputId": "15023dd1-2b00-4d93-ddf0-1d384c587cc6"
   },
   "outputs": [
    {
     "data": {
      "text/plain": [
       "2076.53"
      ]
     },
     "execution_count": 30,
     "metadata": {},
     "output_type": "execute_result"
    }
   ],
   "source": [
    "user_cal = round(float(user_cal - food_cal),2)\n",
    "user_cal"
   ]
  },
  {
   "cell_type": "code",
   "execution_count": 31,
   "metadata": {
    "ExecuteTime": {
     "end_time": "2023-05-04T00:42:42.726243Z",
     "start_time": "2023-05-04T00:42:42.711796Z"
    },
    "executionInfo": {
     "elapsed": 2,
     "status": "ok",
     "timestamp": 1682671467717,
     "user": {
      "displayName": "박영민",
      "userId": "04191993295448905608"
     },
     "user_tz": -540
    },
    "id": "XPbjCtxTlchz"
   },
   "outputs": [],
   "source": [
    "# 내가 가진 영양정보에서 오늘 먹은 식단 제외하고 남은 영양 성분 구하는 공식\n",
    "# 여기서 x는 먹은 음식의 food_seq입니다.\n",
    "def remaining_nut(dic, df, x):\n",
    "  # 여기서 dic은 상단의 user_PAL을 통해 만들어진 딕셔너리를 의미합니다\n",
    "  # df 는 상단에서 변형한 data를 의미합니다!\n",
    "  # df와 x를 넣는다면 후에 아래의 식처럼 보여줄 수 있습니다.\n",
    "\n",
    "    user_cal=dic['cal']\n",
    "    user_crb = dic['crb']\n",
    "    user_protein = dic['protein']\n",
    "    user_fat = dic['fat']\n",
    "\n",
    "    food_cal = df.loc[x,'열량(kcal)']\n",
    "    food_crb = df.loc[x,'탄수화물(g)']\n",
    "    food_protein = df.loc[x,'단백질(g)']\n",
    "    food_fat = df.loc[x,'지방(g)']\n",
    "\n",
    "    remain_cal = round(float(user_cal-food_cal),3)\n",
    "    remain_crb = round(float(user_crb-food_crb),3)\n",
    "    remain_protein = round(float(user_protein-food_protein),3)\n",
    "    remain_fat = round(float(user_fat-food_fat),3)\n",
    "\n",
    "    user_dic = {}\n",
    "    user_dic = {'cal':remain_cal, 'crb':remain_crb, 'protein':remain_protein, 'fat':remain_fat}\n",
    "\n",
    "    return user_dic"
   ]
  },
  {
   "cell_type": "code",
   "execution_count": 32,
   "metadata": {
    "ExecuteTime": {
     "end_time": "2023-05-04T00:42:42.741237Z",
     "start_time": "2023-05-04T00:42:42.727245Z"
    },
    "colab": {
     "base_uri": "https://localhost:8080/"
    },
    "executionInfo": {
     "elapsed": 3,
     "status": "ok",
     "timestamp": 1682671483748,
     "user": {
      "displayName": "박영민",
      "userId": "04191993295448905608"
     },
     "user_tz": -540
    },
    "id": "d9DjFw73uiAj",
    "outputId": "9f5230d5-c48a-4014-9a6d-3bfb6701c9e7"
   },
   "outputs": [
    {
     "data": {
      "text/plain": [
       "{'cal': 2039.39, 'crb': 284.475, 'protein': 52.913, 'fat': 76.672}"
      ]
     },
     "execution_count": 32,
     "metadata": {},
     "output_type": "execute_result"
    }
   ],
   "source": [
    "# 식단을 먹고 남은 것을 기반으로 새로운 친구를 추출할 수 있지 않는가...\n",
    "remain_user_data = remaining_nut(user, data, 1)\n",
    "remain_user_data"
   ]
  },
  {
   "cell_type": "code",
   "execution_count": 33,
   "metadata": {
    "ExecuteTime": {
     "end_time": "2023-05-04T00:42:42.756997Z",
     "start_time": "2023-05-04T00:42:42.742205Z"
    },
    "colab": {
     "base_uri": "https://localhost:8080/"
    },
    "executionInfo": {
     "elapsed": 2,
     "status": "ok",
     "timestamp": 1682671487336,
     "user": {
      "displayName": "박영민",
      "userId": "04191993295448905608"
     },
     "user_tz": -540
    },
    "id": "VOBZEqV8xlQI",
    "outputId": "d93f29a9-adff-4a82-dd57-6d5e00fde8da"
   },
   "outputs": [
    {
     "data": {
      "text/plain": [
       "2039.39"
      ]
     },
     "execution_count": 33,
     "metadata": {},
     "output_type": "execute_result"
    }
   ],
   "source": [
    "remain_user_data['cal']"
   ]
  },
  {
   "cell_type": "code",
   "execution_count": 34,
   "metadata": {
    "ExecuteTime": {
     "end_time": "2023-05-04T00:42:42.771959Z",
     "start_time": "2023-05-04T00:42:42.757996Z"
    },
    "executionInfo": {
     "elapsed": 483,
     "status": "ok",
     "timestamp": 1682672145517,
     "user": {
      "displayName": "박영민",
      "userId": "04191993295448905608"
     },
     "user_tz": -540
    },
    "id": "vi0NxGKKEwYS"
   },
   "outputs": [],
   "source": [
    "# 현재 먹은 코드 => M,L,D\n",
    "code = 'M'\n",
    "# 이제 먹어야 할 코드 => M, L, D\n",
    "now_code = 'L'"
   ]
  },
  {
   "cell_type": "code",
   "execution_count": 38,
   "metadata": {
    "ExecuteTime": {
     "end_time": "2023-05-04T00:42:55.173910Z",
     "start_time": "2023-05-04T00:42:55.157761Z"
    }
   },
   "outputs": [
    {
     "ename": "IndentationError",
     "evalue": "unindent does not match any outer indentation level (<tokenize>, line 20)",
     "output_type": "error",
     "traceback": [
      "\u001b[1;36m  File \u001b[1;32m<tokenize>:20\u001b[1;36m\u001b[0m\n\u001b[1;33m    if 'M' in code and 'L' not in code and 'D' not in code:\u001b[0m\n\u001b[1;37m    ^\u001b[0m\n\u001b[1;31mIndentationError\u001b[0m\u001b[1;31m:\u001b[0m unindent does not match any outer indentation level\n"
     ]
    }
   ],
   "source": [
    "# # 나의 생각인데 식단을 추천할 것이라면??\n",
    "# # 함수를 만들지만 아침 점심 저녁을 확인해야 함.\n",
    "# # 아 점 저 로 확인한다면? (얘가 코드임)\n",
    "# # code = > 리스트나 딕셔너리 형태여야 합니다. why? 아,점을 먹엇다면? 이런 경우가 잇다\n",
    "# def recommend_dish(dic, df, code, now_code):\n",
    "#   # 여기서 dic은 사용자의 정보\n",
    "#     cal = dic['cal']\n",
    "#     crb = dic['crb']\n",
    "#     protein = dic['protein']\n",
    "#     fat = dic['fat']\n",
    "#   # df는 데이터베이스에 있는 친구 (영양정보데이터)\n",
    "#     food_cal = df.loc[x,'열량(kcal)']\n",
    "#     food_crb = df.loc[x,'탄수화물(g)']\n",
    "#     food_protein = df.loc[x,'단백질(g)']\n",
    "#     food_fat = df.loc[x,'지방(g)']\n",
    "\n",
    "#   # 아점저 코드를 받는다면? \n",
    "#   # 아 : M  점 : L  저 : D\n",
    "#   # flask로 받는데 이름을 정해야 함. ==> 여기선 code로 갑시다.\n",
    "#   if 'M' in code and 'L' not in code and 'D' not in code:\n",
    "#     # 아침만 먹은 상황 점심을 먹을 상황\n",
    "#     cal = cal/3\n",
    "#     crb = crb/3\n",
    "#     protein = protein/3\n",
    "#     fat = fat/3\n",
    "#     if now_code == 'L':\n",
    "#       # 점심에 추천할 음식 골라봅시다.\n",
    "      \n",
    "#     return\n",
    "#   elif 'M' in code and 'L' in code and 'D' not in code:\n",
    "#     # 아침과 점심을 먹은 상황 저녁 먹을상황\n",
    "\n",
    "#     return\n",
    "#   elif 'M' not in code and 'L' not in code and 'D' not in code:\n",
    "#     # 아무것도 안먹었을 경우 => 아침을 먹어야 할 상황\n",
    "\n",
    "#     return\n",
    "#   elif 'M' not in code and 'L' in code and 'D' not in code:\n",
    "#     # 아침X 점심만 먹은 경우 저녁을 먹을 상황\n",
    "\n",
    "#     return\n",
    "#   else : \n",
    "#     # 전혀 다른 경우\n",
    "\n",
    "#     return\n",
    "    "
   ]
  },
  {
   "cell_type": "markdown",
   "metadata": {},
   "source": [
    "1. 사용자의 남은 영양성분을 가지고 옵니다.\n",
    "2. 사용자가 M을 먹었는지 L인지 D인지 가지고 옵니다.\n",
    "3. 남은 영양성분, 이런건 일단 가데이터 놓고 나머지 로직 처리"
   ]
  },
  {
   "cell_type": "code",
   "execution_count": 13,
   "metadata": {
    "ExecuteTime": {
     "end_time": "2023-05-04T02:41:07.369663Z",
     "start_time": "2023-05-04T02:41:07.350715Z"
    }
   },
   "outputs": [
    {
     "data": {
      "text/plain": [
       "{'cal': 2545.875,\n",
       " 'crb': 318.234375,\n",
       " 'protein': 95.47031249999999,\n",
       " 'fat': 99.00625}"
      ]
     },
     "execution_count": 13,
     "metadata": {},
     "output_type": "execute_result"
    }
   ],
   "source": [
    "#def user_PAL(weight, height, age, gender, activity, purpose):\n",
    "user=user_PAL(69,174,28,'man',3,'maintain')\n",
    "user"
   ]
  },
  {
   "cell_type": "code",
   "execution_count": 14,
   "metadata": {
    "ExecuteTime": {
     "end_time": "2023-05-04T02:41:09.673654Z",
     "start_time": "2023-05-04T02:41:09.662685Z"
    }
   },
   "outputs": [
    {
     "data": {
      "text/plain": [
       "2545.875"
      ]
     },
     "execution_count": 14,
     "metadata": {},
     "output_type": "execute_result"
    }
   ],
   "source": [
    "user_cal=user['cal']\n",
    "user_cal"
   ]
  },
  {
   "cell_type": "code",
   "execution_count": null,
   "metadata": {},
   "outputs": [],
   "source": [
    "# 현재 먹은 코드 => M,L,D\n",
    "code = 'M'\n",
    "# 이제 먹어야 할 코드 => M, L, D\n",
    "now_code = 'L'"
   ]
  },
  {
   "cell_type": "code",
   "execution_count": 31,
   "metadata": {
    "ExecuteTime": {
     "end_time": "2023-05-04T02:42:05.118683Z",
     "start_time": "2023-05-04T02:42:05.102697Z"
    }
   },
   "outputs": [
    {
     "data": {
      "text/html": [
       "<div>\n",
       "<style scoped>\n",
       "    .dataframe tbody tr th:only-of-type {\n",
       "        vertical-align: middle;\n",
       "    }\n",
       "\n",
       "    .dataframe tbody tr th {\n",
       "        vertical-align: top;\n",
       "    }\n",
       "\n",
       "    .dataframe thead th {\n",
       "        text-align: right;\n",
       "    }\n",
       "</style>\n",
       "<table border=\"1\" class=\"dataframe\">\n",
       "  <thead>\n",
       "    <tr style=\"text-align: right;\">\n",
       "      <th></th>\n",
       "      <th>FOOD_SEQ</th>\n",
       "      <th>음식명</th>\n",
       "      <th>레시피</th>\n",
       "      <th>한중일양</th>\n",
       "      <th>밥국반메면</th>\n",
       "      <th>중량</th>\n",
       "      <th>열량(kcal)</th>\n",
       "      <th>탄수화물(g)</th>\n",
       "      <th>단백질(g)</th>\n",
       "      <th>지방(g)</th>\n",
       "    </tr>\n",
       "  </thead>\n",
       "  <tbody>\n",
       "    <tr>\n",
       "      <th>0</th>\n",
       "      <td>1</td>\n",
       "      <td>꿩불고기</td>\n",
       "      <td>https://www.youtube.com/embed/rl5xaIdHjPY</td>\n",
       "      <td>북</td>\n",
       "      <td>메</td>\n",
       "      <td>500.0</td>\n",
       "      <td>368.80</td>\n",
       "      <td>39.70</td>\n",
       "      <td>33.50</td>\n",
       "      <td>8.50</td>\n",
       "    </tr>\n",
       "    <tr>\n",
       "      <th>1</th>\n",
       "      <td>2</td>\n",
       "      <td>닭갈비</td>\n",
       "      <td>https://www.youtube.com/embed/HI8DlDs1gko</td>\n",
       "      <td>한</td>\n",
       "      <td>메</td>\n",
       "      <td>400.0</td>\n",
       "      <td>595.61</td>\n",
       "      <td>44.90</td>\n",
       "      <td>45.90</td>\n",
       "      <td>25.80</td>\n",
       "    </tr>\n",
       "    <tr>\n",
       "      <th>2</th>\n",
       "      <td>3</td>\n",
       "      <td>닭갈비</td>\n",
       "      <td>https://www.youtube.com/embed/HI8DlDs1gko</td>\n",
       "      <td>한</td>\n",
       "      <td>메</td>\n",
       "      <td>300.0</td>\n",
       "      <td>558.47</td>\n",
       "      <td>23.10</td>\n",
       "      <td>45.50</td>\n",
       "      <td>31.60</td>\n",
       "    </tr>\n",
       "    <tr>\n",
       "      <th>3</th>\n",
       "      <td>4</td>\n",
       "      <td>닭꼬치</td>\n",
       "      <td>https://www.youtube.com/embed/1xrcjy6eX7M</td>\n",
       "      <td>한</td>\n",
       "      <td>메</td>\n",
       "      <td>70.0</td>\n",
       "      <td>176.72</td>\n",
       "      <td>13.35</td>\n",
       "      <td>11.56</td>\n",
       "      <td>8.57</td>\n",
       "    </tr>\n",
       "    <tr>\n",
       "      <th>4</th>\n",
       "      <td>5</td>\n",
       "      <td>더덕구이</td>\n",
       "      <td>https://www.youtube.com/embed/ir4Z2IyFIvM</td>\n",
       "      <td>한</td>\n",
       "      <td>반</td>\n",
       "      <td>100.0</td>\n",
       "      <td>184.00</td>\n",
       "      <td>31.10</td>\n",
       "      <td>3.10</td>\n",
       "      <td>5.20</td>\n",
       "    </tr>\n",
       "    <tr>\n",
       "      <th>...</th>\n",
       "      <td>...</td>\n",
       "      <td>...</td>\n",
       "      <td>...</td>\n",
       "      <td>...</td>\n",
       "      <td>...</td>\n",
       "      <td>...</td>\n",
       "      <td>...</td>\n",
       "      <td>...</td>\n",
       "      <td>...</td>\n",
       "      <td>...</td>\n",
       "    </tr>\n",
       "    <tr>\n",
       "      <th>824</th>\n",
       "      <td>7324</td>\n",
       "      <td>오징어튀김</td>\n",
       "      <td>https://www.youtube.com/embed/K7KCOvEKPbg</td>\n",
       "      <td>한</td>\n",
       "      <td>메</td>\n",
       "      <td>150.0</td>\n",
       "      <td>505.71</td>\n",
       "      <td>33.65</td>\n",
       "      <td>18.56</td>\n",
       "      <td>32.99</td>\n",
       "    </tr>\n",
       "    <tr>\n",
       "      <th>825</th>\n",
       "      <td>7325</td>\n",
       "      <td>채소튀김</td>\n",
       "      <td>https://www.youtube.com/embed/1uvcqAUjH8A</td>\n",
       "      <td>한</td>\n",
       "      <td>메</td>\n",
       "      <td>100.0</td>\n",
       "      <td>404.63</td>\n",
       "      <td>36.83</td>\n",
       "      <td>3.25</td>\n",
       "      <td>27.14</td>\n",
       "    </tr>\n",
       "    <tr>\n",
       "      <th>826</th>\n",
       "      <td>7326</td>\n",
       "      <td>치킨너겟</td>\n",
       "      <td>https://www.youtube.com/embed/aw1YhCxSF7c</td>\n",
       "      <td>한</td>\n",
       "      <td>메</td>\n",
       "      <td>150.0</td>\n",
       "      <td>468.40</td>\n",
       "      <td>14.93</td>\n",
       "      <td>22.47</td>\n",
       "      <td>35.42</td>\n",
       "    </tr>\n",
       "    <tr>\n",
       "      <th>827</th>\n",
       "      <td>7327</td>\n",
       "      <td>탕수육</td>\n",
       "      <td>https://www.youtube.com/embed/mzZNNMM2WuQ</td>\n",
       "      <td>중</td>\n",
       "      <td>NaN</td>\n",
       "      <td>200.0</td>\n",
       "      <td>358.97</td>\n",
       "      <td>24.84</td>\n",
       "      <td>27.21</td>\n",
       "      <td>16.75</td>\n",
       "    </tr>\n",
       "    <tr>\n",
       "      <th>828</th>\n",
       "      <td>7328</td>\n",
       "      <td>후라이드치킨</td>\n",
       "      <td>https://www.youtube.com/embed/RjVAfc7reHU</td>\n",
       "      <td>양</td>\n",
       "      <td>NaN</td>\n",
       "      <td>200.0</td>\n",
       "      <td>530.04</td>\n",
       "      <td>21.29</td>\n",
       "      <td>35.47</td>\n",
       "      <td>33.67</td>\n",
       "    </tr>\n",
       "  </tbody>\n",
       "</table>\n",
       "<p>829 rows × 10 columns</p>\n",
       "</div>"
      ],
      "text/plain": [
       "     FOOD_SEQ     음식명                                        레시피 한중일양 밥국반메면  \\\n",
       "0           1    꿩불고기  https://www.youtube.com/embed/rl5xaIdHjPY    북     메   \n",
       "1           2     닭갈비  https://www.youtube.com/embed/HI8DlDs1gko    한     메   \n",
       "2           3     닭갈비  https://www.youtube.com/embed/HI8DlDs1gko    한     메   \n",
       "3           4     닭꼬치  https://www.youtube.com/embed/1xrcjy6eX7M    한     메   \n",
       "4           5    더덕구이  https://www.youtube.com/embed/ir4Z2IyFIvM    한     반   \n",
       "..        ...     ...                                        ...  ...   ...   \n",
       "824      7324   오징어튀김  https://www.youtube.com/embed/K7KCOvEKPbg    한     메   \n",
       "825      7325    채소튀김  https://www.youtube.com/embed/1uvcqAUjH8A    한     메   \n",
       "826      7326    치킨너겟  https://www.youtube.com/embed/aw1YhCxSF7c    한     메   \n",
       "827      7327     탕수육  https://www.youtube.com/embed/mzZNNMM2WuQ    중   NaN   \n",
       "828      7328  후라이드치킨  https://www.youtube.com/embed/RjVAfc7reHU    양   NaN   \n",
       "\n",
       "        중량  열량(kcal)  탄수화물(g)  단백질(g)  지방(g)  \n",
       "0    500.0    368.80    39.70   33.50   8.50  \n",
       "1    400.0    595.61    44.90   45.90  25.80  \n",
       "2    300.0    558.47    23.10   45.50  31.60  \n",
       "3     70.0    176.72    13.35   11.56   8.57  \n",
       "4    100.0    184.00    31.10    3.10   5.20  \n",
       "..     ...       ...      ...     ...    ...  \n",
       "824  150.0    505.71    33.65   18.56  32.99  \n",
       "825  100.0    404.63    36.83    3.25  27.14  \n",
       "826  150.0    468.40    14.93   22.47  35.42  \n",
       "827  200.0    358.97    24.84   27.21  16.75  \n",
       "828  200.0    530.04    21.29   35.47  33.67  \n",
       "\n",
       "[829 rows x 10 columns]"
      ]
     },
     "execution_count": 31,
     "metadata": {},
     "output_type": "execute_result"
    }
   ],
   "source": [
    "data"
   ]
  },
  {
   "cell_type": "code",
   "execution_count": 16,
   "metadata": {
    "ExecuteTime": {
     "end_time": "2023-05-04T02:41:14.342732Z",
     "start_time": "2023-05-04T02:41:14.326743Z"
    }
   },
   "outputs": [
    {
     "name": "stdout",
     "output_type": "stream",
     "text": [
      "<class 'pandas.core.frame.DataFrame'>\n",
      "RangeIndex: 829 entries, 0 to 828\n",
      "Data columns (total 18 columns):\n",
      " #   Column     Non-Null Count  Dtype  \n",
      "---  ------     --------------  -----  \n",
      " 0   FOOD_SEQ   829 non-null    int64  \n",
      " 1   음식명        829 non-null    object \n",
      " 2   레시피        829 non-null    object \n",
      " 3   한중일양       829 non-null    object \n",
      " 4   밥국반메면      755 non-null    object \n",
      " 5   식품군        0 non-null      object \n",
      " 6   제조사명       0 non-null      object \n",
      " 7   지역명        829 non-null    object \n",
      " 8   중량         829 non-null    float64\n",
      " 9   열량(kcal)   829 non-null    float64\n",
      " 10  탄수화물(g)    829 non-null    float64\n",
      " 11  단백질(g)     829 non-null    float64\n",
      " 12  지방(g)      829 non-null    float64\n",
      " 13  당류(g)      829 non-null    float64\n",
      " 14  나트륨(mg)    829 non-null    float64\n",
      " 15  콜레스트롤(mg)  829 non-null    float64\n",
      " 16  포화지방산(g)   829 non-null    float64\n",
      " 17  트랜스지방(g)   829 non-null    float64\n",
      "dtypes: float64(10), int64(1), object(7)\n",
      "memory usage: 116.7+ KB\n"
     ]
    }
   ],
   "source": [
    "data.info()"
   ]
  },
  {
   "cell_type": "code",
   "execution_count": 32,
   "metadata": {
    "ExecuteTime": {
     "end_time": "2023-05-04T02:42:09.584626Z",
     "start_time": "2023-05-04T02:42:09.558724Z"
    },
    "scrolled": true
   },
   "outputs": [
    {
     "data": {
      "text/html": [
       "<div>\n",
       "<style scoped>\n",
       "    .dataframe tbody tr th:only-of-type {\n",
       "        vertical-align: middle;\n",
       "    }\n",
       "\n",
       "    .dataframe tbody tr th {\n",
       "        vertical-align: top;\n",
       "    }\n",
       "\n",
       "    .dataframe thead th {\n",
       "        text-align: right;\n",
       "    }\n",
       "</style>\n",
       "<table border=\"1\" class=\"dataframe\">\n",
       "  <thead>\n",
       "    <tr style=\"text-align: right;\">\n",
       "      <th></th>\n",
       "      <th>FOOD_SEQ</th>\n",
       "      <th>음식명</th>\n",
       "      <th>레시피</th>\n",
       "      <th>한중일양</th>\n",
       "      <th>밥국반메면</th>\n",
       "      <th>중량</th>\n",
       "      <th>열량(kcal)</th>\n",
       "      <th>탄수화물(g)</th>\n",
       "      <th>단백질(g)</th>\n",
       "      <th>지방(g)</th>\n",
       "    </tr>\n",
       "  </thead>\n",
       "  <tbody>\n",
       "    <tr>\n",
       "      <th>41</th>\n",
       "      <td>42</td>\n",
       "      <td>고추잡채</td>\n",
       "      <td>https://www.youtube.com/embed/-CYp-sfT7gM</td>\n",
       "      <td>중</td>\n",
       "      <td>NaN</td>\n",
       "      <td>200.0</td>\n",
       "      <td>256.77</td>\n",
       "      <td>26.17</td>\n",
       "      <td>10.99</td>\n",
       "      <td>12.01</td>\n",
       "    </tr>\n",
       "    <tr>\n",
       "      <th>42</th>\n",
       "      <td>43</td>\n",
       "      <td>난자완스</td>\n",
       "      <td>https://www.youtube.com/embed/M_3fIYfiSMY</td>\n",
       "      <td>중</td>\n",
       "      <td>NaN</td>\n",
       "      <td>200.0</td>\n",
       "      <td>346.25</td>\n",
       "      <td>19.15</td>\n",
       "      <td>21.63</td>\n",
       "      <td>20.35</td>\n",
       "    </tr>\n",
       "    <tr>\n",
       "      <th>44</th>\n",
       "      <td>45</td>\n",
       "      <td>라조기</td>\n",
       "      <td>https://www.youtube.com/embed/JNhqP4USRUE</td>\n",
       "      <td>중</td>\n",
       "      <td>NaN</td>\n",
       "      <td>200.0</td>\n",
       "      <td>398.99</td>\n",
       "      <td>26.23</td>\n",
       "      <td>20.66</td>\n",
       "      <td>23.49</td>\n",
       "    </tr>\n",
       "    <tr>\n",
       "      <th>70</th>\n",
       "      <td>71</td>\n",
       "      <td>간자장</td>\n",
       "      <td>https://www.youtube.com/embed/_xw16_oGBFM</td>\n",
       "      <td>중</td>\n",
       "      <td>NaN</td>\n",
       "      <td>650.0</td>\n",
       "      <td>824.54</td>\n",
       "      <td>134.22</td>\n",
       "      <td>22.33</td>\n",
       "      <td>22.03</td>\n",
       "    </tr>\n",
       "    <tr>\n",
       "      <th>71</th>\n",
       "      <td>72</td>\n",
       "      <td>굴짬뽕</td>\n",
       "      <td>https://www.youtube.com/embed/fHT9gzhwzd4</td>\n",
       "      <td>중</td>\n",
       "      <td>NaN</td>\n",
       "      <td>900.0</td>\n",
       "      <td>680.67</td>\n",
       "      <td>115.69</td>\n",
       "      <td>32.87</td>\n",
       "      <td>9.61</td>\n",
       "    </tr>\n",
       "    <tr>\n",
       "      <th>...</th>\n",
       "      <td>...</td>\n",
       "      <td>...</td>\n",
       "      <td>...</td>\n",
       "      <td>...</td>\n",
       "      <td>...</td>\n",
       "      <td>...</td>\n",
       "      <td>...</td>\n",
       "      <td>...</td>\n",
       "      <td>...</td>\n",
       "      <td>...</td>\n",
       "    </tr>\n",
       "    <tr>\n",
       "      <th>692</th>\n",
       "      <td>7192</td>\n",
       "      <td>스크램블드에그</td>\n",
       "      <td>https://www.youtube.com/embed/nen6aasD_Sw</td>\n",
       "      <td>양</td>\n",
       "      <td>NaN</td>\n",
       "      <td>110.0</td>\n",
       "      <td>237.34</td>\n",
       "      <td>2.82</td>\n",
       "      <td>12.99</td>\n",
       "      <td>19.35</td>\n",
       "    </tr>\n",
       "    <tr>\n",
       "      <th>740</th>\n",
       "      <td>7240</td>\n",
       "      <td>양송이스프</td>\n",
       "      <td>https://www.youtube.com/embed/lDtKEhZHYmM</td>\n",
       "      <td>양</td>\n",
       "      <td>NaN</td>\n",
       "      <td>100.0</td>\n",
       "      <td>105.29</td>\n",
       "      <td>8.06</td>\n",
       "      <td>2.41</td>\n",
       "      <td>7.04</td>\n",
       "    </tr>\n",
       "    <tr>\n",
       "      <th>814</th>\n",
       "      <td>7314</td>\n",
       "      <td>깐풍기</td>\n",
       "      <td>https://www.youtube.com/embed/fGxgjJDlpS4</td>\n",
       "      <td>중</td>\n",
       "      <td>NaN</td>\n",
       "      <td>150.0</td>\n",
       "      <td>344.54</td>\n",
       "      <td>27.42</td>\n",
       "      <td>18.89</td>\n",
       "      <td>17.70</td>\n",
       "    </tr>\n",
       "    <tr>\n",
       "      <th>827</th>\n",
       "      <td>7327</td>\n",
       "      <td>탕수육</td>\n",
       "      <td>https://www.youtube.com/embed/mzZNNMM2WuQ</td>\n",
       "      <td>중</td>\n",
       "      <td>NaN</td>\n",
       "      <td>200.0</td>\n",
       "      <td>358.97</td>\n",
       "      <td>24.84</td>\n",
       "      <td>27.21</td>\n",
       "      <td>16.75</td>\n",
       "    </tr>\n",
       "    <tr>\n",
       "      <th>828</th>\n",
       "      <td>7328</td>\n",
       "      <td>후라이드치킨</td>\n",
       "      <td>https://www.youtube.com/embed/RjVAfc7reHU</td>\n",
       "      <td>양</td>\n",
       "      <td>NaN</td>\n",
       "      <td>200.0</td>\n",
       "      <td>530.04</td>\n",
       "      <td>21.29</td>\n",
       "      <td>35.47</td>\n",
       "      <td>33.67</td>\n",
       "    </tr>\n",
       "  </tbody>\n",
       "</table>\n",
       "<p>74 rows × 10 columns</p>\n",
       "</div>"
      ],
      "text/plain": [
       "     FOOD_SEQ      음식명                                        레시피 한중일양 밥국반메면  \\\n",
       "41         42     고추잡채  https://www.youtube.com/embed/-CYp-sfT7gM    중   NaN   \n",
       "42         43     난자완스  https://www.youtube.com/embed/M_3fIYfiSMY    중   NaN   \n",
       "44         45      라조기  https://www.youtube.com/embed/JNhqP4USRUE    중   NaN   \n",
       "70         71      간자장  https://www.youtube.com/embed/_xw16_oGBFM    중   NaN   \n",
       "71         72      굴짬뽕  https://www.youtube.com/embed/fHT9gzhwzd4    중   NaN   \n",
       "..        ...      ...                                        ...  ...   ...   \n",
       "692      7192  스크램블드에그  https://www.youtube.com/embed/nen6aasD_Sw    양   NaN   \n",
       "740      7240    양송이스프  https://www.youtube.com/embed/lDtKEhZHYmM    양   NaN   \n",
       "814      7314      깐풍기  https://www.youtube.com/embed/fGxgjJDlpS4    중   NaN   \n",
       "827      7327      탕수육  https://www.youtube.com/embed/mzZNNMM2WuQ    중   NaN   \n",
       "828      7328   후라이드치킨  https://www.youtube.com/embed/RjVAfc7reHU    양   NaN   \n",
       "\n",
       "        중량  열량(kcal)  탄수화물(g)  단백질(g)  지방(g)  \n",
       "41   200.0    256.77    26.17   10.99  12.01  \n",
       "42   200.0    346.25    19.15   21.63  20.35  \n",
       "44   200.0    398.99    26.23   20.66  23.49  \n",
       "70   650.0    824.54   134.22   22.33  22.03  \n",
       "71   900.0    680.67   115.69   32.87   9.61  \n",
       "..     ...       ...      ...     ...    ...  \n",
       "692  110.0    237.34     2.82   12.99  19.35  \n",
       "740  100.0    105.29     8.06    2.41   7.04  \n",
       "814  150.0    344.54    27.42   18.89  17.70  \n",
       "827  200.0    358.97    24.84   27.21  16.75  \n",
       "828  200.0    530.04    21.29   35.47  33.67  \n",
       "\n",
       "[74 rows x 10 columns]"
      ]
     },
     "execution_count": 32,
     "metadata": {},
     "output_type": "execute_result"
    }
   ],
   "source": [
    "kor_jap_lst = []\n",
    "kor_jap_lst = data[data['한중일양'].isin(['한', '일'])]\n",
    "ame_lst = data[data['한중일양'].isin(['양','중'])]\n",
    "ame_df = pd.DataFrame(ame_lst)\n",
    "ame_df"
   ]
  },
  {
   "cell_type": "code",
   "execution_count": 33,
   "metadata": {
    "ExecuteTime": {
     "end_time": "2023-05-04T02:42:10.411702Z",
     "start_time": "2023-05-04T02:42:10.406687Z"
    }
   },
   "outputs": [
    {
     "name": "stdout",
     "output_type": "stream",
     "text": [
      "878.3333333333334 109.79166666666667 34.157407407407405 32.9375\n"
     ]
    }
   ],
   "source": [
    "need_cal=user['cal'] /3\n",
    "need_crb=user['crb'] /3\n",
    "need_protein=user['protein'] /3\n",
    "need_fat = user['fat'] /3\n",
    "print(need_cal,need_crb,need_fat,need_protein)"
   ]
  },
  {
   "cell_type": "code",
   "execution_count": 34,
   "metadata": {
    "ExecuteTime": {
     "end_time": "2023-05-04T02:42:16.524020Z",
     "start_time": "2023-05-04T02:42:16.505047Z"
    },
    "scrolled": true
   },
   "outputs": [
    {
     "data": {
      "text/html": [
       "<div>\n",
       "<style scoped>\n",
       "    .dataframe tbody tr th:only-of-type {\n",
       "        vertical-align: middle;\n",
       "    }\n",
       "\n",
       "    .dataframe tbody tr th {\n",
       "        vertical-align: top;\n",
       "    }\n",
       "\n",
       "    .dataframe thead th {\n",
       "        text-align: right;\n",
       "    }\n",
       "</style>\n",
       "<table border=\"1\" class=\"dataframe\">\n",
       "  <thead>\n",
       "    <tr style=\"text-align: right;\">\n",
       "      <th></th>\n",
       "      <th>FOOD_SEQ</th>\n",
       "      <th>음식명</th>\n",
       "      <th>레시피</th>\n",
       "      <th>한중일양</th>\n",
       "      <th>밥국반메면</th>\n",
       "      <th>중량</th>\n",
       "      <th>열량(kcal)</th>\n",
       "      <th>탄수화물(g)</th>\n",
       "      <th>단백질(g)</th>\n",
       "      <th>지방(g)</th>\n",
       "    </tr>\n",
       "  </thead>\n",
       "  <tbody>\n",
       "    <tr>\n",
       "      <th>1</th>\n",
       "      <td>2</td>\n",
       "      <td>닭갈비</td>\n",
       "      <td>https://www.youtube.com/embed/HI8DlDs1gko</td>\n",
       "      <td>한</td>\n",
       "      <td>메</td>\n",
       "      <td>400.0</td>\n",
       "      <td>595.61</td>\n",
       "      <td>44.90</td>\n",
       "      <td>45.90</td>\n",
       "      <td>25.80</td>\n",
       "    </tr>\n",
       "    <tr>\n",
       "      <th>2</th>\n",
       "      <td>3</td>\n",
       "      <td>닭갈비</td>\n",
       "      <td>https://www.youtube.com/embed/HI8DlDs1gko</td>\n",
       "      <td>한</td>\n",
       "      <td>메</td>\n",
       "      <td>300.0</td>\n",
       "      <td>558.47</td>\n",
       "      <td>23.10</td>\n",
       "      <td>45.50</td>\n",
       "      <td>31.60</td>\n",
       "    </tr>\n",
       "    <tr>\n",
       "      <th>3</th>\n",
       "      <td>4</td>\n",
       "      <td>닭꼬치</td>\n",
       "      <td>https://www.youtube.com/embed/1xrcjy6eX7M</td>\n",
       "      <td>한</td>\n",
       "      <td>메</td>\n",
       "      <td>70.0</td>\n",
       "      <td>176.72</td>\n",
       "      <td>13.35</td>\n",
       "      <td>11.56</td>\n",
       "      <td>8.57</td>\n",
       "    </tr>\n",
       "    <tr>\n",
       "      <th>4</th>\n",
       "      <td>5</td>\n",
       "      <td>더덕구이</td>\n",
       "      <td>https://www.youtube.com/embed/ir4Z2IyFIvM</td>\n",
       "      <td>한</td>\n",
       "      <td>반</td>\n",
       "      <td>100.0</td>\n",
       "      <td>184.00</td>\n",
       "      <td>31.10</td>\n",
       "      <td>3.10</td>\n",
       "      <td>5.20</td>\n",
       "    </tr>\n",
       "    <tr>\n",
       "      <th>5</th>\n",
       "      <td>6</td>\n",
       "      <td>도미구이</td>\n",
       "      <td>https://www.youtube.com/embed/Q0W5ag8ZbzU</td>\n",
       "      <td>한</td>\n",
       "      <td>메</td>\n",
       "      <td>250.0</td>\n",
       "      <td>397.00</td>\n",
       "      <td>2.10</td>\n",
       "      <td>61.10</td>\n",
       "      <td>16.50</td>\n",
       "    </tr>\n",
       "    <tr>\n",
       "      <th>...</th>\n",
       "      <td>...</td>\n",
       "      <td>...</td>\n",
       "      <td>...</td>\n",
       "      <td>...</td>\n",
       "      <td>...</td>\n",
       "      <td>...</td>\n",
       "      <td>...</td>\n",
       "      <td>...</td>\n",
       "      <td>...</td>\n",
       "      <td>...</td>\n",
       "    </tr>\n",
       "    <tr>\n",
       "      <th>822</th>\n",
       "      <td>7322</td>\n",
       "      <td>새우튀김</td>\n",
       "      <td>https://www.youtube.com/embed/EPLbReYKHC8</td>\n",
       "      <td>한</td>\n",
       "      <td>메</td>\n",
       "      <td>150.0</td>\n",
       "      <td>430.34</td>\n",
       "      <td>28.44</td>\n",
       "      <td>25.52</td>\n",
       "      <td>23.84</td>\n",
       "    </tr>\n",
       "    <tr>\n",
       "      <th>823</th>\n",
       "      <td>7323</td>\n",
       "      <td>소시지튀김</td>\n",
       "      <td>https://www.youtube.com/embed/3zrCyzg0xdk</td>\n",
       "      <td>한</td>\n",
       "      <td>메</td>\n",
       "      <td>200.0</td>\n",
       "      <td>707.98</td>\n",
       "      <td>8.01</td>\n",
       "      <td>28.13</td>\n",
       "      <td>62.60</td>\n",
       "    </tr>\n",
       "    <tr>\n",
       "      <th>824</th>\n",
       "      <td>7324</td>\n",
       "      <td>오징어튀김</td>\n",
       "      <td>https://www.youtube.com/embed/K7KCOvEKPbg</td>\n",
       "      <td>한</td>\n",
       "      <td>메</td>\n",
       "      <td>150.0</td>\n",
       "      <td>505.71</td>\n",
       "      <td>33.65</td>\n",
       "      <td>18.56</td>\n",
       "      <td>32.99</td>\n",
       "    </tr>\n",
       "    <tr>\n",
       "      <th>825</th>\n",
       "      <td>7325</td>\n",
       "      <td>채소튀김</td>\n",
       "      <td>https://www.youtube.com/embed/1uvcqAUjH8A</td>\n",
       "      <td>한</td>\n",
       "      <td>메</td>\n",
       "      <td>100.0</td>\n",
       "      <td>404.63</td>\n",
       "      <td>36.83</td>\n",
       "      <td>3.25</td>\n",
       "      <td>27.14</td>\n",
       "    </tr>\n",
       "    <tr>\n",
       "      <th>826</th>\n",
       "      <td>7326</td>\n",
       "      <td>치킨너겟</td>\n",
       "      <td>https://www.youtube.com/embed/aw1YhCxSF7c</td>\n",
       "      <td>한</td>\n",
       "      <td>메</td>\n",
       "      <td>150.0</td>\n",
       "      <td>468.40</td>\n",
       "      <td>14.93</td>\n",
       "      <td>22.47</td>\n",
       "      <td>35.42</td>\n",
       "    </tr>\n",
       "  </tbody>\n",
       "</table>\n",
       "<p>754 rows × 10 columns</p>\n",
       "</div>"
      ],
      "text/plain": [
       "     FOOD_SEQ    음식명                                        레시피 한중일양 밥국반메면  \\\n",
       "1           2    닭갈비  https://www.youtube.com/embed/HI8DlDs1gko    한     메   \n",
       "2           3    닭갈비  https://www.youtube.com/embed/HI8DlDs1gko    한     메   \n",
       "3           4    닭꼬치  https://www.youtube.com/embed/1xrcjy6eX7M    한     메   \n",
       "4           5   더덕구이  https://www.youtube.com/embed/ir4Z2IyFIvM    한     반   \n",
       "5           6   도미구이  https://www.youtube.com/embed/Q0W5ag8ZbzU    한     메   \n",
       "..        ...    ...                                        ...  ...   ...   \n",
       "822      7322   새우튀김  https://www.youtube.com/embed/EPLbReYKHC8    한     메   \n",
       "823      7323  소시지튀김  https://www.youtube.com/embed/3zrCyzg0xdk    한     메   \n",
       "824      7324  오징어튀김  https://www.youtube.com/embed/K7KCOvEKPbg    한     메   \n",
       "825      7325   채소튀김  https://www.youtube.com/embed/1uvcqAUjH8A    한     메   \n",
       "826      7326   치킨너겟  https://www.youtube.com/embed/aw1YhCxSF7c    한     메   \n",
       "\n",
       "        중량  열량(kcal)  탄수화물(g)  단백질(g)  지방(g)  \n",
       "1    400.0    595.61    44.90   45.90  25.80  \n",
       "2    300.0    558.47    23.10   45.50  31.60  \n",
       "3     70.0    176.72    13.35   11.56   8.57  \n",
       "4    100.0    184.00    31.10    3.10   5.20  \n",
       "5    250.0    397.00     2.10   61.10  16.50  \n",
       "..     ...       ...      ...     ...    ...  \n",
       "822  150.0    430.34    28.44   25.52  23.84  \n",
       "823  200.0    707.98     8.01   28.13  62.60  \n",
       "824  150.0    505.71    33.65   18.56  32.99  \n",
       "825  100.0    404.63    36.83    3.25  27.14  \n",
       "826  150.0    468.40    14.93   22.47  35.42  \n",
       "\n",
       "[754 rows x 10 columns]"
      ]
     },
     "execution_count": 34,
     "metadata": {},
     "output_type": "execute_result"
    }
   ],
   "source": [
    "kor_df = pd.DataFrame(kor_jap_lst)\n",
    "hi=kor_df[kor_df['밥국반메면']=='밥']\n",
    "kor_df"
   ]
  },
  {
   "cell_type": "code",
   "execution_count": 37,
   "metadata": {
    "ExecuteTime": {
     "end_time": "2023-05-04T02:42:43.551825Z",
     "start_time": "2023-05-04T02:42:43.534873Z"
    }
   },
   "outputs": [
    {
     "data": {
      "text/plain": [
       "'FOOD_SEQ'"
      ]
     },
     "execution_count": 37,
     "metadata": {},
     "output_type": "execute_result"
    }
   ],
   "source": [
    "data2"
   ]
  },
  {
   "cell_type": "code",
   "execution_count": 35,
   "metadata": {
    "ExecuteTime": {
     "end_time": "2023-05-04T02:42:19.970562Z",
     "start_time": "2023-05-04T02:42:19.942662Z"
    }
   },
   "outputs": [
    {
     "ename": "TypeError",
     "evalue": "string indices must be integers",
     "output_type": "error",
     "traceback": [
      "\u001b[1;31m---------------------------------------------------------------------------\u001b[0m",
      "\u001b[1;31mTypeError\u001b[0m                                 Traceback (most recent call last)",
      "Cell \u001b[1;32mIn[35], line 3\u001b[0m\n\u001b[0;32m      1\u001b[0m selected_lst\u001b[38;5;241m=\u001b[39m[]\n\u001b[0;32m      2\u001b[0m \u001b[38;5;28;01mfor\u001b[39;00m data \u001b[38;5;129;01min\u001b[39;00m ame_df:\n\u001b[1;32m----> 3\u001b[0m     \u001b[38;5;28;01mif\u001b[39;00m (need_cal\u001b[38;5;241m*\u001b[39m\u001b[38;5;241m0.95\u001b[39m) \u001b[38;5;241m<\u001b[39m\u001b[38;5;241m=\u001b[39m \u001b[43mdata\u001b[49m\u001b[43m[\u001b[49m\u001b[38;5;124;43m'\u001b[39;49m\u001b[38;5;124;43m열량(kcal)\u001b[39;49m\u001b[38;5;124;43m'\u001b[39;49m\u001b[43m]\u001b[49m \u001b[38;5;241m<\u001b[39m\u001b[38;5;241m=\u001b[39m (need_cal\u001b[38;5;241m*\u001b[39m\u001b[38;5;241m1.05\u001b[39m):\n\u001b[0;32m      4\u001b[0m         \u001b[38;5;28;01mif\u001b[39;00m (need_crb\u001b[38;5;241m*\u001b[39m\u001b[38;5;241m0.95\u001b[39m)\u001b[38;5;241m<\u001b[39m\u001b[38;5;241m=\u001b[39m data[\u001b[38;5;124m'\u001b[39m\u001b[38;5;124m탄수화물(g)\u001b[39m\u001b[38;5;124m'\u001b[39m] \u001b[38;5;241m<\u001b[39m\u001b[38;5;241m=\u001b[39m (need_crb\u001b[38;5;241m*\u001b[39m\u001b[38;5;241m1.05\u001b[39m):\n\u001b[0;32m      5\u001b[0m             \u001b[38;5;28;01mif\u001b[39;00m (need_protein\u001b[38;5;241m*\u001b[39m\u001b[38;5;241m0.95\u001b[39m)\u001b[38;5;241m<\u001b[39m\u001b[38;5;241m=\u001b[39m data[\u001b[38;5;124m'\u001b[39m\u001b[38;5;124m단백질(g)\u001b[39m\u001b[38;5;124m'\u001b[39m] \u001b[38;5;241m<\u001b[39m\u001b[38;5;241m=\u001b[39m(need_protein\u001b[38;5;241m*\u001b[39m\u001b[38;5;241m1.05\u001b[39m):\n",
      "\u001b[1;31mTypeError\u001b[0m: string indices must be integers"
     ]
    }
   ],
   "source": [
    "selected_lst=[]\n",
    "for data in ame_df:\n",
    "    if (need_cal*0.95) <= data2['열량(kcal)'] <= (need_cal*1.05):\n",
    "        if (need_crb*0.95)<= data2['탄수화물(g)'] <= (need_crb*1.05):\n",
    "            if (need_protein*0.95)<= data2['단백질(g)'] <=(need_protein*1.05):\n",
    "                if (need_fat*0.95)<=data2['지방(g)'] <=(need_fat*1.05):\n",
    "                    selected_lst.append(data)\n",
    "                else:\n",
    "                    print('성분에 맞는 음식이 없습니다')"
   ]
  },
  {
   "cell_type": "code",
   "execution_count": 36,
   "metadata": {
    "ExecuteTime": {
     "end_time": "2023-05-04T02:42:22.321671Z",
     "start_time": "2023-05-04T02:42:22.302721Z"
    }
   },
   "outputs": [
    {
     "ename": "AttributeError",
     "evalue": "'str' object has no attribute 'iterrows'",
     "output_type": "error",
     "traceback": [
      "\u001b[1;31m---------------------------------------------------------------------------\u001b[0m",
      "\u001b[1;31mAttributeError\u001b[0m                            Traceback (most recent call last)",
      "Cell \u001b[1;32mIn[36], line 2\u001b[0m\n\u001b[0;32m      1\u001b[0m selected_lst \u001b[38;5;241m=\u001b[39m []\n\u001b[1;32m----> 2\u001b[0m \u001b[38;5;28;01mfor\u001b[39;00m index, row \u001b[38;5;129;01min\u001b[39;00m \u001b[43mdata\u001b[49m\u001b[38;5;241;43m.\u001b[39;49m\u001b[43miterrows\u001b[49m():\n\u001b[0;32m      3\u001b[0m     \u001b[38;5;28;01mif\u001b[39;00m (need_cal\u001b[38;5;241m*\u001b[39m\u001b[38;5;241m0.95\u001b[39m) \u001b[38;5;241m<\u001b[39m\u001b[38;5;241m=\u001b[39m row[\u001b[38;5;124m'\u001b[39m\u001b[38;5;124m열량(kcal)\u001b[39m\u001b[38;5;124m'\u001b[39m] \u001b[38;5;241m<\u001b[39m\u001b[38;5;241m=\u001b[39m (need_cal\u001b[38;5;241m*\u001b[39m\u001b[38;5;241m1.05\u001b[39m):\n\u001b[0;32m      4\u001b[0m         \u001b[38;5;28;01mif\u001b[39;00m (need_crb\u001b[38;5;241m*\u001b[39m\u001b[38;5;241m0.95\u001b[39m) \u001b[38;5;241m<\u001b[39m\u001b[38;5;241m=\u001b[39m row[\u001b[38;5;124m'\u001b[39m\u001b[38;5;124m탄수화물(g)\u001b[39m\u001b[38;5;124m'\u001b[39m] \u001b[38;5;241m<\u001b[39m\u001b[38;5;241m=\u001b[39m (need_crb\u001b[38;5;241m*\u001b[39m\u001b[38;5;241m1.05\u001b[39m):\n",
      "\u001b[1;31mAttributeError\u001b[0m: 'str' object has no attribute 'iterrows'"
     ]
    }
   ],
   "source": [
    "selected_lst = []\n",
    "for index, row in data.iterrows():\n",
    "    if (need_cal*0.95) <= row['열량(kcal)'] <= (need_cal*1.05):\n",
    "        if (need_crb*0.95) <= row['탄수화물(g)'] <= (need_crb*1.05):\n",
    "            if (need_protein*0.95) <= row['단백질(g)'] <= (need_protein*1.05):\n",
    "                selected_lst.append(row.to_dict())\n",
    "print(selected_lst)"
   ]
  },
  {
   "cell_type": "code",
   "execution_count": null,
   "metadata": {},
   "outputs": [],
   "source": []
  },
  {
   "cell_type": "code",
   "execution_count": null,
   "metadata": {},
   "outputs": [],
   "source": [
    "# x = 정수 입니다. 여기서 정수는 Food_seq-1 인 값입니다.\n",
    "def eat_M(dic, df):\n",
    "  # 여기서 dic은 사용자의 정보\n",
    "    cal = dic['cal']\n",
    "    crb = dic['crb']\n",
    "    protein = dic['protein']\n",
    "    fat = dic['fat']\n",
    "        \n",
    "    # 먹어야 할 칼로리\n",
    "    need_cal = cal/3\n",
    "    need_crb = crb/3\n",
    "    need_protein = protein/3 \n",
    "    need_fat = fat/3\n",
    "    \n",
    "    # 일단 담아둘 리스트\n",
    "    selected_lst = []\n",
    "    kor_jap_lst = []\n",
    "    ame_chi_lst=[]\n",
    "    \n",
    "    kor_jap_lst = df[df['한중일양'].isin(['한', '일'])]\n",
    "    ame_chi_lst = df[df['한중일양'].isin(['중', '양'])]\n",
    "    \n",
    "    # 음식 나라 타입이 한식 일식인 경우~\n",
    "    kor_df = pd.DataFrame(kor_jap_lst)\n",
    "    \n",
    "    # 각각을 음식 타입에 따라 나누기\n",
    "    rice_df=kor_df[kor_df['밥국반메면']=='밥']\n",
    "    soup_df=kor_df[kor_df['밥국반메면']=='국']\n",
    "    sub_df=kor_df[kor_df['밥국반메면']=='반']\n",
    "    main_df=kor_df[kor_df['밥국반메면']=='메']\n",
    "    noodle_df=kor_df[kor_df['밥국반메면']=='면']\n",
    "    \n",
    "    # 나라 타입이 중식과 양식일 경우~\n",
    "    ame_df = pd.DataFrame(ame_chi_lst)\n",
    "    \n",
    "    for data in df:\n",
    "        if data in kor_jap_lst:\n",
    "            # 한, 일\n",
    "            \n",
    "    for data in ame_df:\n",
    "        if (need_cal*0.95) <= data['열량(kcal)'] <= (need_cal*1.05):\n",
    "            if (need_crb*0.95)<= data['탄수화물(g)'] <= (need_crb*1.05):\n",
    "                if (need_protein*0.95)<= data['단백질(g)'] <=(need_protein*1.05):\n",
    "                    if (need_fat*0.95)<=data['지방(g)'] <=(need_fat*1.05):\n",
    "                        selected_lst.append(data)\n",
    "                    else:\n",
    "                        print('성분에 맞는 음식이 없습니다')"
   ]
  },
  {
   "cell_type": "code",
   "execution_count": null,
   "metadata": {},
   "outputs": [],
   "source": [
    "# x = 정수 입니다. 여기서 정수는 Food_seq-1 인 값입니다.\n",
    "def eat_L(dic, df, x):\n",
    "  # 여기서 dic은 사용자의 정보\n",
    "    cal = dic['cal']\n",
    "    crb = dic['crb']\n",
    "    protein = dic['protein']\n",
    "    fat = dic['fat']\n",
    "    \n",
    "\n",
    "    \n"
   ]
  },
  {
   "cell_type": "code",
   "execution_count": null,
   "metadata": {},
   "outputs": [],
   "source": [
    "# x = 정수 입니다. 여기서 정수는 Food_seq-1 인 값입니다.\n",
    "def eat_D(dic, df, x):\n",
    "  # 여기서 dic은 사용자의 정보\n",
    "    cal = dic['cal']\n",
    "    crb = dic['crb']\n",
    "    protein = dic['protein']\n",
    "    fat = dic['fat']\n",
    "    \n",
    "  # df는 데이터베이스에 있는 친구 (영양정보데이터)\n",
    "    food_cal = df.loc[x,'열량(kcal)']\n",
    "    food_crb = df.loc[x,'탄수화물(g)']\n",
    "    food_protein = df.loc[x,'단백질(g)']\n",
    "    food_fat = df.loc[x,'지방(g)']\n",
    "    food_nation = df.loc[x,'한중일양']\n",
    "    food_type = df.loc[x,'밥국반메면']"
   ]
  },
  {
   "cell_type": "code",
   "execution_count": 40,
   "metadata": {
    "ExecuteTime": {
     "end_time": "2023-05-04T00:43:27.654735Z",
     "start_time": "2023-05-04T00:43:27.645759Z"
    }
   },
   "outputs": [],
   "source": [
    "# x = 정수 입니다. 여기서 정수는 Food_seq-1 인 값입니다.\n",
    "def recommend_gara(dic, df, x,code, now_code):\n",
    "  # 여기서 dic은 사용자의 정보\n",
    "    cal = dic['cal']\n",
    "    crb = dic['crb']\n",
    "    protein = dic['protein']\n",
    "    fat = dic['fat']\n",
    "    \n",
    "  # df는 데이터베이스에 있는 친구 (영양정보데이터)\n",
    "    food_cal = df.loc[x,'열량(kcal)']\n",
    "    food_crb = df.loc[x,'탄수화물(g)']\n",
    "    food_protein = df.loc[x,'단백질(g)']\n",
    "    food_fat = df.loc[x,'지방(g)']\n",
    "\n",
    "    # 아점저 코드를 받는다면? \n",
    "    # 아 : M  점 : L  저 : D\n",
    "    # flask로 받는데 이름을 정해야 함. ==> 여기선 code로 갑시다.\n",
    "    if 'M' in code and 'L' not in code and 'D' not in code:\n",
    "      # 아침만 먹은 상황 점심을 먹을 상황\n",
    "        cal = (cal - food_cal)/2\n",
    "        crb = (crb - food_crb)/2\n",
    "        protein = (protein - food_protein)/2\n",
    "        fat = (fat - food_fat)/2\n",
    "        \n",
    "\n",
    "  \n",
    "        return\n",
    "    elif 'M' in code and 'L' in code and 'D' not in code:\n",
    "      # 아침과 점심을 먹은 상황 저녁 먹을상황\n",
    "  \n",
    "      return\n",
    "    elif 'M' not in code and 'L' not in code and 'D' not in code:\n",
    "    # 아무것도 안먹었을 경우 => 아침을 먹어야 할 상황\n",
    "  \n",
    "      return\n",
    "    elif 'M' not in code and 'L' in code and 'D' not in code:\n",
    "      # 아침X 점심만 먹은 경우 저녁을 먹을 상황\n",
    "        cal = (cal - food_cal)/2\n",
    "        crb = (crb - food_crb)/2\n",
    "        protein = (protein - food_protein)/2\n",
    "        fat = (fat - food_fat)/2\n",
    "\n",
    "        return\n",
    "    else : \n",
    "      # 전혀 다른 경우\n",
    "  \n",
    "      return"
   ]
  },
  {
   "cell_type": "code",
   "execution_count": null,
   "metadata": {
    "id": "EgSgsrFZOFdi"
   },
   "outputs": [],
   "source": []
  }
 ],
 "metadata": {
  "accelerator": "GPU",
  "colab": {
   "authorship_tag": "ABX9TyNV61ejrnXMM3ws3NfXe0yF",
   "gpuType": "T4",
   "machine_shape": "hm",
   "mount_file_id": "1xfz90-Hr57b1cZMZsLQKmEJzADEPz2Um",
   "provenance": []
  },
  "gpuClass": "standard",
  "kernelspec": {
   "display_name": "Python 3 (ipykernel)",
   "language": "python",
   "name": "python3"
  },
  "language_info": {
   "codemirror_mode": {
    "name": "ipython",
    "version": 3
   },
   "file_extension": ".py",
   "mimetype": "text/x-python",
   "name": "python",
   "nbconvert_exporter": "python",
   "pygments_lexer": "ipython3",
   "version": "3.9.16"
  },
  "toc": {
   "base_numbering": 1,
   "nav_menu": {},
   "number_sections": true,
   "sideBar": true,
   "skip_h1_title": false,
   "title_cell": "Table of Contents",
   "title_sidebar": "Contents",
   "toc_cell": false,
   "toc_position": {},
   "toc_section_display": true,
   "toc_window_display": false
  },
  "varInspector": {
   "cols": {
    "lenName": 16,
    "lenType": 16,
    "lenVar": 40
   },
   "kernels_config": {
    "python": {
     "delete_cmd_postfix": "",
     "delete_cmd_prefix": "del ",
     "library": "var_list.py",
     "varRefreshCmd": "print(var_dic_list())"
    },
    "r": {
     "delete_cmd_postfix": ") ",
     "delete_cmd_prefix": "rm(",
     "library": "var_list.r",
     "varRefreshCmd": "cat(var_dic_list()) "
    }
   },
   "types_to_exclude": [
    "module",
    "function",
    "builtin_function_or_method",
    "instance",
    "_Feature"
   ],
   "window_display": false
  }
 },
 "nbformat": 4,
 "nbformat_minor": 1
}
