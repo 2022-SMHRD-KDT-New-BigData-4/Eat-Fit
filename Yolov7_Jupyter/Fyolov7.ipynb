{
 "cells": [
  {
   "cell_type": "code",
   "execution_count": 1,
   "id": "c41cd820",
   "metadata": {
    "ExecuteTime": {
     "end_time": "2023-04-19T05:26:38.638367Z",
     "start_time": "2023-04-19T05:26:37.745923Z"
    }
   },
   "outputs": [
    {
     "name": "stdout",
     "output_type": "stream",
     "text": [
      "Python version: 3.9.16 (main, Mar  8 2023, 10:39:24) [MSC v.1916 64 bit (AMD64)], sys.version_info(major=3, minor=9, micro=16, releaselevel='final', serial=0) \n",
      "Pytorch version: 1.11.0 \n"
     ]
    }
   ],
   "source": [
    "import sys\n",
    "import torch\n",
    "print(f\"Python version: {sys.version}, {sys.version_info} \")\n",
    "print(f\"Pytorch version: {torch.__version__} \")"
   ]
  },
  {
   "cell_type": "code",
   "execution_count": 2,
   "id": "7258fb54",
   "metadata": {
    "ExecuteTime": {
     "end_time": "2023-04-19T05:26:38.648801Z",
     "start_time": "2023-04-19T05:26:38.638367Z"
    }
   },
   "outputs": [],
   "source": [
    "# sklearn 설치!\n",
    "# !pip install scikit-learn"
   ]
  },
  {
   "cell_type": "code",
   "execution_count": 3,
   "id": "9083f758",
   "metadata": {
    "ExecuteTime": {
     "end_time": "2023-04-19T05:26:39.758554Z",
     "start_time": "2023-04-19T05:26:38.648801Z"
    }
   },
   "outputs": [],
   "source": [
    "import torch\n",
    "from IPython.display import Image  # for displaying images\n",
    "import os \n",
    "import random\n",
    "import shutil\n",
    "from sklearn.model_selection import train_test_split\n",
    "import xml.etree.ElementTree as ET\n",
    "from xml.dom import minidom\n",
    "from tqdm import tqdm\n",
    "from PIL import Image, ImageDraw\n",
    "import numpy as np\n",
    "import matplotlib.pyplot as plt\n",
    "\n",
    "random.seed(108)"
   ]
  },
  {
   "cell_type": "code",
   "execution_count": 4,
   "id": "32752e93",
   "metadata": {
    "ExecuteTime": {
     "end_time": "2023-04-19T05:26:40.131271Z",
     "start_time": "2023-04-19T05:26:39.758554Z"
    }
   },
   "outputs": [],
   "source": [
    "import os\n",
    "import pandas as pd"
   ]
  },
  {
   "cell_type": "code",
   "execution_count": 5,
   "id": "457a6d9c",
   "metadata": {
    "ExecuteTime": {
     "end_time": "2023-04-19T05:26:40.147054Z",
     "start_time": "2023-04-19T05:26:40.131586Z"
    }
   },
   "outputs": [
    {
     "data": {
      "text/plain": [
       "'C:\\\\Users\\\\smhrd\\\\yolov7\\\\finalProject'"
      ]
     },
     "execution_count": 5,
     "metadata": {},
     "output_type": "execute_result"
    }
   ],
   "source": [
    "%pwd"
   ]
  },
  {
   "cell_type": "code",
   "execution_count": 6,
   "id": "ed920b61",
   "metadata": {
    "ExecuteTime": {
     "end_time": "2023-04-19T05:26:40.165800Z",
     "start_time": "2023-04-19T05:26:40.148051Z"
    }
   },
   "outputs": [
    {
     "name": "stdout",
     "output_type": "stream",
     "text": [
      "C:\\Users\\smhrd\\yolov7\n"
     ]
    }
   ],
   "source": [
    "%cd .."
   ]
  },
  {
   "cell_type": "code",
   "execution_count": 7,
   "id": "27ab3e6b",
   "metadata": {
    "ExecuteTime": {
     "end_time": "2023-04-19T05:26:40.182381Z",
     "start_time": "2023-04-19T05:26:40.166841Z"
    }
   },
   "outputs": [],
   "source": [
    "# wandb 설치\n",
    "# !pip install wandb"
   ]
  },
  {
   "cell_type": "code",
   "execution_count": 8,
   "id": "bf3794e8",
   "metadata": {
    "ExecuteTime": {
     "end_time": "2023-04-19T05:26:43.062589Z",
     "start_time": "2023-04-19T05:26:40.183017Z"
    }
   },
   "outputs": [
    {
     "name": "stderr",
     "output_type": "stream",
     "text": [
      "wandb: Appending key for api.wandb.ai to your netrc file: C:\\Users\\smhrd/.netrc\n"
     ]
    }
   ],
   "source": [
    "# wandb api값 넣고 로그인\n",
    "!wandb login a5535c29332e0aedbed2fb1bee2dfbe1ab939ea3"
   ]
  },
  {
   "cell_type": "code",
   "execution_count": 9,
   "id": "e261bb3d",
   "metadata": {
    "ExecuteTime": {
     "end_time": "2023-04-19T05:26:43.077769Z",
     "start_time": "2023-04-19T05:26:43.065747Z"
    }
   },
   "outputs": [],
   "source": [
    "# 로직 예상도 1번\n",
    "#  !python train.py --batch 16 --cfg cfg/training/yolov7.yaml --epochs 5 --data food_check.yaml --weights 'yolov7.pt' --adam\n",
    "# -- adam 사용도 가능 (디폴트값인지는 모릅니다)"
   ]
  },
  {
   "cell_type": "code",
   "execution_count": 12,
   "id": "f1e2b6c2",
   "metadata": {
    "ExecuteTime": {
     "end_time": "2023-04-19T05:27:26.323214Z",
     "start_time": "2023-04-19T05:27:14.524104Z"
    },
    "scrolled": true
   },
   "outputs": [
    {
     "name": "stdout",
     "output_type": "stream",
     "text": [
      "Namespace(weights='yolov7.pt', source='01_012_01012002_160277281756496.jpg', img_size=640, conf_thres=0.1, iou_thres=0.45, device='', view_img=False, save_txt=False, save_conf=False, nosave=False, classes=None, agnostic_nms=False, augment=False, update=False, project='runs/detect', name='exp', exist_ok=False, no_trace=False)"
     ]
    },
    {
     "name": "stderr",
     "output_type": "stream",
     "text": [
      "YOLOR  2023-4-13 torch 1.11.0 CUDA:0 (NVIDIA GeForce RTX 2070, 8191.6875MB)\n",
      "\n",
      "Model Summary: 306 layers, 36905341 parameters, 6652669 gradients\n",
      "C:\\Users\\smhrd\\anaconda3\\envs\\yolov7\\lib\\site-packages\\torch\\functional.py:568: UserWarning: torch.meshgrid: in an upcoming release, it will be required to pass the indexing argument. (Triggered internally at  C:\\cb\\pytorch_1000000000000\\work\\aten\\src\\ATen\\native\\TensorShape.cpp:2228.)\n",
      "  return _VF.meshgrid(tensors, **kwargs)  # type: ignore[attr-defined]\n"
     ]
    },
    {
     "name": "stdout",
     "output_type": "stream",
     "text": [
      "\n",
      "Fusing layers... \n",
      "RepConv.fuse_repvgg_block\n",
      "RepConv.fuse_repvgg_block\n",
      "RepConv.fuse_repvgg_block\n",
      " Convert model to Traced-model... \n",
      " traced_script_module saved! \n",
      " model is traced! \n",
      "\n",
      "1 bowl, 1 dining table, Done. (15.6ms) Inference, (0.0ms) NMS\n",
      " The image with the result is saved in: runs\\detect\\exp2\\01_012_01012002_160277281756496.jpg\n",
      "Done. (0.250s)\n"
     ]
    }
   ],
   "source": [
    "!python detect.py --conf 0.1 --source 01_012_01012002_160277281756496.jpg"
   ]
  },
  {
   "cell_type": "code",
   "execution_count": null,
   "id": "9acba3b6",
   "metadata": {},
   "outputs": [],
   "source": []
  }
 ],
 "metadata": {
  "kernelspec": {
   "display_name": "yolov7",
   "language": "python",
   "name": "yolov7"
  },
  "language_info": {
   "codemirror_mode": {
    "name": "ipython",
    "version": 3
   },
   "file_extension": ".py",
   "mimetype": "text/x-python",
   "name": "python",
   "nbconvert_exporter": "python",
   "pygments_lexer": "ipython3",
   "version": "3.9.16"
  },
  "toc": {
   "base_numbering": 1,
   "nav_menu": {},
   "number_sections": true,
   "sideBar": true,
   "skip_h1_title": false,
   "title_cell": "Table of Contents",
   "title_sidebar": "Contents",
   "toc_cell": false,
   "toc_position": {},
   "toc_section_display": true,
   "toc_window_display": false
  },
  "varInspector": {
   "cols": {
    "lenName": 16,
    "lenType": 16,
    "lenVar": 40
   },
   "kernels_config": {
    "python": {
     "delete_cmd_postfix": "",
     "delete_cmd_prefix": "del ",
     "library": "var_list.py",
     "varRefreshCmd": "print(var_dic_list())"
    },
    "r": {
     "delete_cmd_postfix": ") ",
     "delete_cmd_prefix": "rm(",
     "library": "var_list.r",
     "varRefreshCmd": "cat(var_dic_list()) "
    }
   },
   "types_to_exclude": [
    "module",
    "function",
    "builtin_function_or_method",
    "instance",
    "_Feature"
   ],
   "window_display": false
  }
 },
 "nbformat": 4,
 "nbformat_minor": 5
}
